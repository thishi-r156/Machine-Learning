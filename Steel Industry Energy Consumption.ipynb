{
  "cells": [
    {
      "cell_type": "code",
      "execution_count": null,
      "metadata": {
        "id": "9IgV5dIlYwl9"
      },
      "outputs": [],
      "source": [
        "import pandas as pd\n",
        "import numpy as np\n",
        "import matplotlib.pyplot as plt\n",
        "from sklearn.preprocessing import OrdinalEncoder\n",
        "from sklearn.preprocessing import OneHotEncoder\n",
        "import seaborn as sns"
      ]
    },
    {
      "cell_type": "markdown",
      "metadata": {
        "id": "P8UTzN4SzmY7"
      },
      "source": [
        "##Loading Dataset\n"
      ]
    },
    {
      "cell_type": "code",
      "execution_count": null,
      "metadata": {
        "colab": {
          "base_uri": "https://localhost:8080/",
          "height": 835
        },
        "id": "YcAr9hIpZ6xP",
        "outputId": "07b5da1a-f951-4880-88fe-ff6d8c2a6530"
      },
      "outputs": [
        {
          "output_type": "execute_result",
          "data": {
            "text/plain": [
              "                     date  Usage_kWh  Lagging_Current_Reactive.Power_kVarh  \\\n",
              "0     2018-01-01 00:15:00       3.17                                  2.95   \n",
              "1     2018-01-01 00:30:00       4.00                                  4.46   \n",
              "2     2018-01-01 00:45:00       3.24                                  3.28   \n",
              "3     2018-01-01 01:00:00       3.31                                  3.56   \n",
              "4     2018-01-01 01:15:00       3.82                                  4.50   \n",
              "...                   ...        ...                                   ...   \n",
              "35035 2018-12-31 23:00:00       3.85                                  4.86   \n",
              "35036 2018-12-31 23:15:00       3.74                                  3.74   \n",
              "35037 2018-12-31 23:30:00       3.78                                  3.17   \n",
              "35038 2018-12-31 23:45:00       3.78                                  3.06   \n",
              "35039 2018-12-31 00:00:00       3.67                                  3.02   \n",
              "\n",
              "       Leading_Current_Reactive_Power_kVarh  CO2(tCO2)  \\\n",
              "0                                      0.00        0.0   \n",
              "1                                      0.00        0.0   \n",
              "2                                      0.00        0.0   \n",
              "3                                      0.00        0.0   \n",
              "4                                      0.00        0.0   \n",
              "...                                     ...        ...   \n",
              "35035                                  0.00        0.0   \n",
              "35036                                  0.00        0.0   \n",
              "35037                                  0.07        0.0   \n",
              "35038                                  0.11        0.0   \n",
              "35039                                  0.07        0.0   \n",
              "\n",
              "       Lagging_Current_Power_Factor  Leading_Current_Power_Factor    NSM  \\\n",
              "0                             73.21                        100.00    900   \n",
              "1                             66.77                        100.00   1800   \n",
              "2                             70.28                        100.00   2700   \n",
              "3                             68.09                        100.00   3600   \n",
              "4                             64.72                        100.00   4500   \n",
              "...                             ...                           ...    ...   \n",
              "35035                         62.10                        100.00  82800   \n",
              "35036                         70.71                        100.00  83700   \n",
              "35037                         76.62                         99.98  84600   \n",
              "35038                         77.72                         99.96  85500   \n",
              "35039                         77.22                         99.98      0   \n",
              "\n",
              "      WeekStatus Day_of_week   Load_Type  \n",
              "0        Weekday      Monday  Light_Load  \n",
              "1        Weekday      Monday  Light_Load  \n",
              "2        Weekday      Monday  Light_Load  \n",
              "3        Weekday      Monday  Light_Load  \n",
              "4        Weekday      Monday  Light_Load  \n",
              "...          ...         ...         ...  \n",
              "35035    Weekday      Monday  Light_Load  \n",
              "35036    Weekday      Monday  Light_Load  \n",
              "35037    Weekday      Monday  Light_Load  \n",
              "35038    Weekday      Monday  Light_Load  \n",
              "35039    Weekday      Monday  Light_Load  \n",
              "\n",
              "[35040 rows x 11 columns]"
            ],
            "text/html": [
              "\n",
              "  <div id=\"df-4fd03848-ce7e-4e2c-ae0e-6c548b0f7b86\">\n",
              "    <div class=\"colab-df-container\">\n",
              "      <div>\n",
              "<style scoped>\n",
              "    .dataframe tbody tr th:only-of-type {\n",
              "        vertical-align: middle;\n",
              "    }\n",
              "\n",
              "    .dataframe tbody tr th {\n",
              "        vertical-align: top;\n",
              "    }\n",
              "\n",
              "    .dataframe thead th {\n",
              "        text-align: right;\n",
              "    }\n",
              "</style>\n",
              "<table border=\"1\" class=\"dataframe\">\n",
              "  <thead>\n",
              "    <tr style=\"text-align: right;\">\n",
              "      <th></th>\n",
              "      <th>date</th>\n",
              "      <th>Usage_kWh</th>\n",
              "      <th>Lagging_Current_Reactive.Power_kVarh</th>\n",
              "      <th>Leading_Current_Reactive_Power_kVarh</th>\n",
              "      <th>CO2(tCO2)</th>\n",
              "      <th>Lagging_Current_Power_Factor</th>\n",
              "      <th>Leading_Current_Power_Factor</th>\n",
              "      <th>NSM</th>\n",
              "      <th>WeekStatus</th>\n",
              "      <th>Day_of_week</th>\n",
              "      <th>Load_Type</th>\n",
              "    </tr>\n",
              "  </thead>\n",
              "  <tbody>\n",
              "    <tr>\n",
              "      <th>0</th>\n",
              "      <td>2018-01-01 00:15:00</td>\n",
              "      <td>3.17</td>\n",
              "      <td>2.95</td>\n",
              "      <td>0.00</td>\n",
              "      <td>0.0</td>\n",
              "      <td>73.21</td>\n",
              "      <td>100.00</td>\n",
              "      <td>900</td>\n",
              "      <td>Weekday</td>\n",
              "      <td>Monday</td>\n",
              "      <td>Light_Load</td>\n",
              "    </tr>\n",
              "    <tr>\n",
              "      <th>1</th>\n",
              "      <td>2018-01-01 00:30:00</td>\n",
              "      <td>4.00</td>\n",
              "      <td>4.46</td>\n",
              "      <td>0.00</td>\n",
              "      <td>0.0</td>\n",
              "      <td>66.77</td>\n",
              "      <td>100.00</td>\n",
              "      <td>1800</td>\n",
              "      <td>Weekday</td>\n",
              "      <td>Monday</td>\n",
              "      <td>Light_Load</td>\n",
              "    </tr>\n",
              "    <tr>\n",
              "      <th>2</th>\n",
              "      <td>2018-01-01 00:45:00</td>\n",
              "      <td>3.24</td>\n",
              "      <td>3.28</td>\n",
              "      <td>0.00</td>\n",
              "      <td>0.0</td>\n",
              "      <td>70.28</td>\n",
              "      <td>100.00</td>\n",
              "      <td>2700</td>\n",
              "      <td>Weekday</td>\n",
              "      <td>Monday</td>\n",
              "      <td>Light_Load</td>\n",
              "    </tr>\n",
              "    <tr>\n",
              "      <th>3</th>\n",
              "      <td>2018-01-01 01:00:00</td>\n",
              "      <td>3.31</td>\n",
              "      <td>3.56</td>\n",
              "      <td>0.00</td>\n",
              "      <td>0.0</td>\n",
              "      <td>68.09</td>\n",
              "      <td>100.00</td>\n",
              "      <td>3600</td>\n",
              "      <td>Weekday</td>\n",
              "      <td>Monday</td>\n",
              "      <td>Light_Load</td>\n",
              "    </tr>\n",
              "    <tr>\n",
              "      <th>4</th>\n",
              "      <td>2018-01-01 01:15:00</td>\n",
              "      <td>3.82</td>\n",
              "      <td>4.50</td>\n",
              "      <td>0.00</td>\n",
              "      <td>0.0</td>\n",
              "      <td>64.72</td>\n",
              "      <td>100.00</td>\n",
              "      <td>4500</td>\n",
              "      <td>Weekday</td>\n",
              "      <td>Monday</td>\n",
              "      <td>Light_Load</td>\n",
              "    </tr>\n",
              "    <tr>\n",
              "      <th>...</th>\n",
              "      <td>...</td>\n",
              "      <td>...</td>\n",
              "      <td>...</td>\n",
              "      <td>...</td>\n",
              "      <td>...</td>\n",
              "      <td>...</td>\n",
              "      <td>...</td>\n",
              "      <td>...</td>\n",
              "      <td>...</td>\n",
              "      <td>...</td>\n",
              "      <td>...</td>\n",
              "    </tr>\n",
              "    <tr>\n",
              "      <th>35035</th>\n",
              "      <td>2018-12-31 23:00:00</td>\n",
              "      <td>3.85</td>\n",
              "      <td>4.86</td>\n",
              "      <td>0.00</td>\n",
              "      <td>0.0</td>\n",
              "      <td>62.10</td>\n",
              "      <td>100.00</td>\n",
              "      <td>82800</td>\n",
              "      <td>Weekday</td>\n",
              "      <td>Monday</td>\n",
              "      <td>Light_Load</td>\n",
              "    </tr>\n",
              "    <tr>\n",
              "      <th>35036</th>\n",
              "      <td>2018-12-31 23:15:00</td>\n",
              "      <td>3.74</td>\n",
              "      <td>3.74</td>\n",
              "      <td>0.00</td>\n",
              "      <td>0.0</td>\n",
              "      <td>70.71</td>\n",
              "      <td>100.00</td>\n",
              "      <td>83700</td>\n",
              "      <td>Weekday</td>\n",
              "      <td>Monday</td>\n",
              "      <td>Light_Load</td>\n",
              "    </tr>\n",
              "    <tr>\n",
              "      <th>35037</th>\n",
              "      <td>2018-12-31 23:30:00</td>\n",
              "      <td>3.78</td>\n",
              "      <td>3.17</td>\n",
              "      <td>0.07</td>\n",
              "      <td>0.0</td>\n",
              "      <td>76.62</td>\n",
              "      <td>99.98</td>\n",
              "      <td>84600</td>\n",
              "      <td>Weekday</td>\n",
              "      <td>Monday</td>\n",
              "      <td>Light_Load</td>\n",
              "    </tr>\n",
              "    <tr>\n",
              "      <th>35038</th>\n",
              "      <td>2018-12-31 23:45:00</td>\n",
              "      <td>3.78</td>\n",
              "      <td>3.06</td>\n",
              "      <td>0.11</td>\n",
              "      <td>0.0</td>\n",
              "      <td>77.72</td>\n",
              "      <td>99.96</td>\n",
              "      <td>85500</td>\n",
              "      <td>Weekday</td>\n",
              "      <td>Monday</td>\n",
              "      <td>Light_Load</td>\n",
              "    </tr>\n",
              "    <tr>\n",
              "      <th>35039</th>\n",
              "      <td>2018-12-31 00:00:00</td>\n",
              "      <td>3.67</td>\n",
              "      <td>3.02</td>\n",
              "      <td>0.07</td>\n",
              "      <td>0.0</td>\n",
              "      <td>77.22</td>\n",
              "      <td>99.98</td>\n",
              "      <td>0</td>\n",
              "      <td>Weekday</td>\n",
              "      <td>Monday</td>\n",
              "      <td>Light_Load</td>\n",
              "    </tr>\n",
              "  </tbody>\n",
              "</table>\n",
              "<p>35040 rows × 11 columns</p>\n",
              "</div>\n",
              "      <button class=\"colab-df-convert\" onclick=\"convertToInteractive('df-4fd03848-ce7e-4e2c-ae0e-6c548b0f7b86')\"\n",
              "              title=\"Convert this dataframe to an interactive table.\"\n",
              "              style=\"display:none;\">\n",
              "        \n",
              "  <svg xmlns=\"http://www.w3.org/2000/svg\" height=\"24px\"viewBox=\"0 0 24 24\"\n",
              "       width=\"24px\">\n",
              "    <path d=\"M0 0h24v24H0V0z\" fill=\"none\"/>\n",
              "    <path d=\"M18.56 5.44l.94 2.06.94-2.06 2.06-.94-2.06-.94-.94-2.06-.94 2.06-2.06.94zm-11 1L8.5 8.5l.94-2.06 2.06-.94-2.06-.94L8.5 2.5l-.94 2.06-2.06.94zm10 10l.94 2.06.94-2.06 2.06-.94-2.06-.94-.94-2.06-.94 2.06-2.06.94z\"/><path d=\"M17.41 7.96l-1.37-1.37c-.4-.4-.92-.59-1.43-.59-.52 0-1.04.2-1.43.59L10.3 9.45l-7.72 7.72c-.78.78-.78 2.05 0 2.83L4 21.41c.39.39.9.59 1.41.59.51 0 1.02-.2 1.41-.59l7.78-7.78 2.81-2.81c.8-.78.8-2.07 0-2.86zM5.41 20L4 18.59l7.72-7.72 1.47 1.35L5.41 20z\"/>\n",
              "  </svg>\n",
              "      </button>\n",
              "      \n",
              "  <style>\n",
              "    .colab-df-container {\n",
              "      display:flex;\n",
              "      flex-wrap:wrap;\n",
              "      gap: 12px;\n",
              "    }\n",
              "\n",
              "    .colab-df-convert {\n",
              "      background-color: #E8F0FE;\n",
              "      border: none;\n",
              "      border-radius: 50%;\n",
              "      cursor: pointer;\n",
              "      display: none;\n",
              "      fill: #1967D2;\n",
              "      height: 32px;\n",
              "      padding: 0 0 0 0;\n",
              "      width: 32px;\n",
              "    }\n",
              "\n",
              "    .colab-df-convert:hover {\n",
              "      background-color: #E2EBFA;\n",
              "      box-shadow: 0px 1px 2px rgba(60, 64, 67, 0.3), 0px 1px 3px 1px rgba(60, 64, 67, 0.15);\n",
              "      fill: #174EA6;\n",
              "    }\n",
              "\n",
              "    [theme=dark] .colab-df-convert {\n",
              "      background-color: #3B4455;\n",
              "      fill: #D2E3FC;\n",
              "    }\n",
              "\n",
              "    [theme=dark] .colab-df-convert:hover {\n",
              "      background-color: #434B5C;\n",
              "      box-shadow: 0px 1px 3px 1px rgba(0, 0, 0, 0.15);\n",
              "      filter: drop-shadow(0px 1px 2px rgba(0, 0, 0, 0.3));\n",
              "      fill: #FFFFFF;\n",
              "    }\n",
              "  </style>\n",
              "\n",
              "      <script>\n",
              "        const buttonEl =\n",
              "          document.querySelector('#df-4fd03848-ce7e-4e2c-ae0e-6c548b0f7b86 button.colab-df-convert');\n",
              "        buttonEl.style.display =\n",
              "          google.colab.kernel.accessAllowed ? 'block' : 'none';\n",
              "\n",
              "        async function convertToInteractive(key) {\n",
              "          const element = document.querySelector('#df-4fd03848-ce7e-4e2c-ae0e-6c548b0f7b86');\n",
              "          const dataTable =\n",
              "            await google.colab.kernel.invokeFunction('convertToInteractive',\n",
              "                                                     [key], {});\n",
              "          if (!dataTable) return;\n",
              "\n",
              "          const docLinkHtml = 'Like what you see? Visit the ' +\n",
              "            '<a target=\"_blank\" href=https://colab.research.google.com/notebooks/data_table.ipynb>data table notebook</a>'\n",
              "            + ' to learn more about interactive tables.';\n",
              "          element.innerHTML = '';\n",
              "          dataTable['output_type'] = 'display_data';\n",
              "          await google.colab.output.renderOutput(dataTable, element);\n",
              "          const docLink = document.createElement('div');\n",
              "          docLink.innerHTML = docLinkHtml;\n",
              "          element.appendChild(docLink);\n",
              "        }\n",
              "      </script>\n",
              "    </div>\n",
              "  </div>\n",
              "  "
            ]
          },
          "metadata": {},
          "execution_count": 2
        }
      ],
      "source": [
        "df = pd.read_csv(\"/content/Steel_industry_data.csv\", parse_dates=[\"date\"])\n",
        "df"
      ]
    },
    {
      "cell_type": "markdown",
      "metadata": {
        "id": "Vyiw9oXgyQw7"
      },
      "source": [
        "#**EXPLORATORY DATA ANALYSIS**"
      ]
    },
    {
      "cell_type": "code",
      "execution_count": null,
      "metadata": {
        "colab": {
          "base_uri": "https://localhost:8080/",
          "height": 444
        },
        "id": "T7Ak8ytvyWsx",
        "outputId": "851406d9-30c4-45ef-d38a-c1683e166566"
      },
      "outputs": [
        {
          "output_type": "execute_result",
          "data": {
            "text/plain": [
              "                 date  Usage_kWh  Lagging_Current_Reactive.Power_kVarh  \\\n",
              "0 2018-01-01 00:15:00       3.17                                  2.95   \n",
              "1 2018-01-01 00:30:00       4.00                                  4.46   \n",
              "2 2018-01-01 00:45:00       3.24                                  3.28   \n",
              "3 2018-01-01 01:00:00       3.31                                  3.56   \n",
              "4 2018-01-01 01:15:00       3.82                                  4.50   \n",
              "\n",
              "   Leading_Current_Reactive_Power_kVarh  CO2(tCO2)  \\\n",
              "0                                   0.0        0.0   \n",
              "1                                   0.0        0.0   \n",
              "2                                   0.0        0.0   \n",
              "3                                   0.0        0.0   \n",
              "4                                   0.0        0.0   \n",
              "\n",
              "   Lagging_Current_Power_Factor  Leading_Current_Power_Factor   NSM  \\\n",
              "0                         73.21                         100.0   900   \n",
              "1                         66.77                         100.0  1800   \n",
              "2                         70.28                         100.0  2700   \n",
              "3                         68.09                         100.0  3600   \n",
              "4                         64.72                         100.0  4500   \n",
              "\n",
              "  WeekStatus Day_of_week   Load_Type  \n",
              "0    Weekday      Monday  Light_Load  \n",
              "1    Weekday      Monday  Light_Load  \n",
              "2    Weekday      Monday  Light_Load  \n",
              "3    Weekday      Monday  Light_Load  \n",
              "4    Weekday      Monday  Light_Load  "
            ],
            "text/html": [
              "\n",
              "  <div id=\"df-015a49d9-8ec4-406a-9df6-f7665967c230\">\n",
              "    <div class=\"colab-df-container\">\n",
              "      <div>\n",
              "<style scoped>\n",
              "    .dataframe tbody tr th:only-of-type {\n",
              "        vertical-align: middle;\n",
              "    }\n",
              "\n",
              "    .dataframe tbody tr th {\n",
              "        vertical-align: top;\n",
              "    }\n",
              "\n",
              "    .dataframe thead th {\n",
              "        text-align: right;\n",
              "    }\n",
              "</style>\n",
              "<table border=\"1\" class=\"dataframe\">\n",
              "  <thead>\n",
              "    <tr style=\"text-align: right;\">\n",
              "      <th></th>\n",
              "      <th>date</th>\n",
              "      <th>Usage_kWh</th>\n",
              "      <th>Lagging_Current_Reactive.Power_kVarh</th>\n",
              "      <th>Leading_Current_Reactive_Power_kVarh</th>\n",
              "      <th>CO2(tCO2)</th>\n",
              "      <th>Lagging_Current_Power_Factor</th>\n",
              "      <th>Leading_Current_Power_Factor</th>\n",
              "      <th>NSM</th>\n",
              "      <th>WeekStatus</th>\n",
              "      <th>Day_of_week</th>\n",
              "      <th>Load_Type</th>\n",
              "    </tr>\n",
              "  </thead>\n",
              "  <tbody>\n",
              "    <tr>\n",
              "      <th>0</th>\n",
              "      <td>2018-01-01 00:15:00</td>\n",
              "      <td>3.17</td>\n",
              "      <td>2.95</td>\n",
              "      <td>0.0</td>\n",
              "      <td>0.0</td>\n",
              "      <td>73.21</td>\n",
              "      <td>100.0</td>\n",
              "      <td>900</td>\n",
              "      <td>Weekday</td>\n",
              "      <td>Monday</td>\n",
              "      <td>Light_Load</td>\n",
              "    </tr>\n",
              "    <tr>\n",
              "      <th>1</th>\n",
              "      <td>2018-01-01 00:30:00</td>\n",
              "      <td>4.00</td>\n",
              "      <td>4.46</td>\n",
              "      <td>0.0</td>\n",
              "      <td>0.0</td>\n",
              "      <td>66.77</td>\n",
              "      <td>100.0</td>\n",
              "      <td>1800</td>\n",
              "      <td>Weekday</td>\n",
              "      <td>Monday</td>\n",
              "      <td>Light_Load</td>\n",
              "    </tr>\n",
              "    <tr>\n",
              "      <th>2</th>\n",
              "      <td>2018-01-01 00:45:00</td>\n",
              "      <td>3.24</td>\n",
              "      <td>3.28</td>\n",
              "      <td>0.0</td>\n",
              "      <td>0.0</td>\n",
              "      <td>70.28</td>\n",
              "      <td>100.0</td>\n",
              "      <td>2700</td>\n",
              "      <td>Weekday</td>\n",
              "      <td>Monday</td>\n",
              "      <td>Light_Load</td>\n",
              "    </tr>\n",
              "    <tr>\n",
              "      <th>3</th>\n",
              "      <td>2018-01-01 01:00:00</td>\n",
              "      <td>3.31</td>\n",
              "      <td>3.56</td>\n",
              "      <td>0.0</td>\n",
              "      <td>0.0</td>\n",
              "      <td>68.09</td>\n",
              "      <td>100.0</td>\n",
              "      <td>3600</td>\n",
              "      <td>Weekday</td>\n",
              "      <td>Monday</td>\n",
              "      <td>Light_Load</td>\n",
              "    </tr>\n",
              "    <tr>\n",
              "      <th>4</th>\n",
              "      <td>2018-01-01 01:15:00</td>\n",
              "      <td>3.82</td>\n",
              "      <td>4.50</td>\n",
              "      <td>0.0</td>\n",
              "      <td>0.0</td>\n",
              "      <td>64.72</td>\n",
              "      <td>100.0</td>\n",
              "      <td>4500</td>\n",
              "      <td>Weekday</td>\n",
              "      <td>Monday</td>\n",
              "      <td>Light_Load</td>\n",
              "    </tr>\n",
              "  </tbody>\n",
              "</table>\n",
              "</div>\n",
              "      <button class=\"colab-df-convert\" onclick=\"convertToInteractive('df-015a49d9-8ec4-406a-9df6-f7665967c230')\"\n",
              "              title=\"Convert this dataframe to an interactive table.\"\n",
              "              style=\"display:none;\">\n",
              "        \n",
              "  <svg xmlns=\"http://www.w3.org/2000/svg\" height=\"24px\"viewBox=\"0 0 24 24\"\n",
              "       width=\"24px\">\n",
              "    <path d=\"M0 0h24v24H0V0z\" fill=\"none\"/>\n",
              "    <path d=\"M18.56 5.44l.94 2.06.94-2.06 2.06-.94-2.06-.94-.94-2.06-.94 2.06-2.06.94zm-11 1L8.5 8.5l.94-2.06 2.06-.94-2.06-.94L8.5 2.5l-.94 2.06-2.06.94zm10 10l.94 2.06.94-2.06 2.06-.94-2.06-.94-.94-2.06-.94 2.06-2.06.94z\"/><path d=\"M17.41 7.96l-1.37-1.37c-.4-.4-.92-.59-1.43-.59-.52 0-1.04.2-1.43.59L10.3 9.45l-7.72 7.72c-.78.78-.78 2.05 0 2.83L4 21.41c.39.39.9.59 1.41.59.51 0 1.02-.2 1.41-.59l7.78-7.78 2.81-2.81c.8-.78.8-2.07 0-2.86zM5.41 20L4 18.59l7.72-7.72 1.47 1.35L5.41 20z\"/>\n",
              "  </svg>\n",
              "      </button>\n",
              "      \n",
              "  <style>\n",
              "    .colab-df-container {\n",
              "      display:flex;\n",
              "      flex-wrap:wrap;\n",
              "      gap: 12px;\n",
              "    }\n",
              "\n",
              "    .colab-df-convert {\n",
              "      background-color: #E8F0FE;\n",
              "      border: none;\n",
              "      border-radius: 50%;\n",
              "      cursor: pointer;\n",
              "      display: none;\n",
              "      fill: #1967D2;\n",
              "      height: 32px;\n",
              "      padding: 0 0 0 0;\n",
              "      width: 32px;\n",
              "    }\n",
              "\n",
              "    .colab-df-convert:hover {\n",
              "      background-color: #E2EBFA;\n",
              "      box-shadow: 0px 1px 2px rgba(60, 64, 67, 0.3), 0px 1px 3px 1px rgba(60, 64, 67, 0.15);\n",
              "      fill: #174EA6;\n",
              "    }\n",
              "\n",
              "    [theme=dark] .colab-df-convert {\n",
              "      background-color: #3B4455;\n",
              "      fill: #D2E3FC;\n",
              "    }\n",
              "\n",
              "    [theme=dark] .colab-df-convert:hover {\n",
              "      background-color: #434B5C;\n",
              "      box-shadow: 0px 1px 3px 1px rgba(0, 0, 0, 0.15);\n",
              "      filter: drop-shadow(0px 1px 2px rgba(0, 0, 0, 0.3));\n",
              "      fill: #FFFFFF;\n",
              "    }\n",
              "  </style>\n",
              "\n",
              "      <script>\n",
              "        const buttonEl =\n",
              "          document.querySelector('#df-015a49d9-8ec4-406a-9df6-f7665967c230 button.colab-df-convert');\n",
              "        buttonEl.style.display =\n",
              "          google.colab.kernel.accessAllowed ? 'block' : 'none';\n",
              "\n",
              "        async function convertToInteractive(key) {\n",
              "          const element = document.querySelector('#df-015a49d9-8ec4-406a-9df6-f7665967c230');\n",
              "          const dataTable =\n",
              "            await google.colab.kernel.invokeFunction('convertToInteractive',\n",
              "                                                     [key], {});\n",
              "          if (!dataTable) return;\n",
              "\n",
              "          const docLinkHtml = 'Like what you see? Visit the ' +\n",
              "            '<a target=\"_blank\" href=https://colab.research.google.com/notebooks/data_table.ipynb>data table notebook</a>'\n",
              "            + ' to learn more about interactive tables.';\n",
              "          element.innerHTML = '';\n",
              "          dataTable['output_type'] = 'display_data';\n",
              "          await google.colab.output.renderOutput(dataTable, element);\n",
              "          const docLink = document.createElement('div');\n",
              "          docLink.innerHTML = docLinkHtml;\n",
              "          element.appendChild(docLink);\n",
              "        }\n",
              "      </script>\n",
              "    </div>\n",
              "  </div>\n",
              "  "
            ]
          },
          "metadata": {},
          "execution_count": 3
        }
      ],
      "source": [
        "df.head()"
      ]
    },
    {
      "cell_type": "code",
      "execution_count": null,
      "metadata": {
        "colab": {
          "base_uri": "https://localhost:8080/",
          "height": 444
        },
        "id": "ArQsMZ7pyb5E",
        "outputId": "cd6c5456-a968-4d41-c87c-7dd676f8088f"
      },
      "outputs": [
        {
          "output_type": "execute_result",
          "data": {
            "text/plain": [
              "                     date  Usage_kWh  Lagging_Current_Reactive.Power_kVarh  \\\n",
              "35035 2018-12-31 23:00:00       3.85                                  4.86   \n",
              "35036 2018-12-31 23:15:00       3.74                                  3.74   \n",
              "35037 2018-12-31 23:30:00       3.78                                  3.17   \n",
              "35038 2018-12-31 23:45:00       3.78                                  3.06   \n",
              "35039 2018-12-31 00:00:00       3.67                                  3.02   \n",
              "\n",
              "       Leading_Current_Reactive_Power_kVarh  CO2(tCO2)  \\\n",
              "35035                                  0.00        0.0   \n",
              "35036                                  0.00        0.0   \n",
              "35037                                  0.07        0.0   \n",
              "35038                                  0.11        0.0   \n",
              "35039                                  0.07        0.0   \n",
              "\n",
              "       Lagging_Current_Power_Factor  Leading_Current_Power_Factor    NSM  \\\n",
              "35035                         62.10                        100.00  82800   \n",
              "35036                         70.71                        100.00  83700   \n",
              "35037                         76.62                         99.98  84600   \n",
              "35038                         77.72                         99.96  85500   \n",
              "35039                         77.22                         99.98      0   \n",
              "\n",
              "      WeekStatus Day_of_week   Load_Type  \n",
              "35035    Weekday      Monday  Light_Load  \n",
              "35036    Weekday      Monday  Light_Load  \n",
              "35037    Weekday      Monday  Light_Load  \n",
              "35038    Weekday      Monday  Light_Load  \n",
              "35039    Weekday      Monday  Light_Load  "
            ],
            "text/html": [
              "\n",
              "  <div id=\"df-4d666736-253d-4ce4-9cb9-f53c1e649818\">\n",
              "    <div class=\"colab-df-container\">\n",
              "      <div>\n",
              "<style scoped>\n",
              "    .dataframe tbody tr th:only-of-type {\n",
              "        vertical-align: middle;\n",
              "    }\n",
              "\n",
              "    .dataframe tbody tr th {\n",
              "        vertical-align: top;\n",
              "    }\n",
              "\n",
              "    .dataframe thead th {\n",
              "        text-align: right;\n",
              "    }\n",
              "</style>\n",
              "<table border=\"1\" class=\"dataframe\">\n",
              "  <thead>\n",
              "    <tr style=\"text-align: right;\">\n",
              "      <th></th>\n",
              "      <th>date</th>\n",
              "      <th>Usage_kWh</th>\n",
              "      <th>Lagging_Current_Reactive.Power_kVarh</th>\n",
              "      <th>Leading_Current_Reactive_Power_kVarh</th>\n",
              "      <th>CO2(tCO2)</th>\n",
              "      <th>Lagging_Current_Power_Factor</th>\n",
              "      <th>Leading_Current_Power_Factor</th>\n",
              "      <th>NSM</th>\n",
              "      <th>WeekStatus</th>\n",
              "      <th>Day_of_week</th>\n",
              "      <th>Load_Type</th>\n",
              "    </tr>\n",
              "  </thead>\n",
              "  <tbody>\n",
              "    <tr>\n",
              "      <th>35035</th>\n",
              "      <td>2018-12-31 23:00:00</td>\n",
              "      <td>3.85</td>\n",
              "      <td>4.86</td>\n",
              "      <td>0.00</td>\n",
              "      <td>0.0</td>\n",
              "      <td>62.10</td>\n",
              "      <td>100.00</td>\n",
              "      <td>82800</td>\n",
              "      <td>Weekday</td>\n",
              "      <td>Monday</td>\n",
              "      <td>Light_Load</td>\n",
              "    </tr>\n",
              "    <tr>\n",
              "      <th>35036</th>\n",
              "      <td>2018-12-31 23:15:00</td>\n",
              "      <td>3.74</td>\n",
              "      <td>3.74</td>\n",
              "      <td>0.00</td>\n",
              "      <td>0.0</td>\n",
              "      <td>70.71</td>\n",
              "      <td>100.00</td>\n",
              "      <td>83700</td>\n",
              "      <td>Weekday</td>\n",
              "      <td>Monday</td>\n",
              "      <td>Light_Load</td>\n",
              "    </tr>\n",
              "    <tr>\n",
              "      <th>35037</th>\n",
              "      <td>2018-12-31 23:30:00</td>\n",
              "      <td>3.78</td>\n",
              "      <td>3.17</td>\n",
              "      <td>0.07</td>\n",
              "      <td>0.0</td>\n",
              "      <td>76.62</td>\n",
              "      <td>99.98</td>\n",
              "      <td>84600</td>\n",
              "      <td>Weekday</td>\n",
              "      <td>Monday</td>\n",
              "      <td>Light_Load</td>\n",
              "    </tr>\n",
              "    <tr>\n",
              "      <th>35038</th>\n",
              "      <td>2018-12-31 23:45:00</td>\n",
              "      <td>3.78</td>\n",
              "      <td>3.06</td>\n",
              "      <td>0.11</td>\n",
              "      <td>0.0</td>\n",
              "      <td>77.72</td>\n",
              "      <td>99.96</td>\n",
              "      <td>85500</td>\n",
              "      <td>Weekday</td>\n",
              "      <td>Monday</td>\n",
              "      <td>Light_Load</td>\n",
              "    </tr>\n",
              "    <tr>\n",
              "      <th>35039</th>\n",
              "      <td>2018-12-31 00:00:00</td>\n",
              "      <td>3.67</td>\n",
              "      <td>3.02</td>\n",
              "      <td>0.07</td>\n",
              "      <td>0.0</td>\n",
              "      <td>77.22</td>\n",
              "      <td>99.98</td>\n",
              "      <td>0</td>\n",
              "      <td>Weekday</td>\n",
              "      <td>Monday</td>\n",
              "      <td>Light_Load</td>\n",
              "    </tr>\n",
              "  </tbody>\n",
              "</table>\n",
              "</div>\n",
              "      <button class=\"colab-df-convert\" onclick=\"convertToInteractive('df-4d666736-253d-4ce4-9cb9-f53c1e649818')\"\n",
              "              title=\"Convert this dataframe to an interactive table.\"\n",
              "              style=\"display:none;\">\n",
              "        \n",
              "  <svg xmlns=\"http://www.w3.org/2000/svg\" height=\"24px\"viewBox=\"0 0 24 24\"\n",
              "       width=\"24px\">\n",
              "    <path d=\"M0 0h24v24H0V0z\" fill=\"none\"/>\n",
              "    <path d=\"M18.56 5.44l.94 2.06.94-2.06 2.06-.94-2.06-.94-.94-2.06-.94 2.06-2.06.94zm-11 1L8.5 8.5l.94-2.06 2.06-.94-2.06-.94L8.5 2.5l-.94 2.06-2.06.94zm10 10l.94 2.06.94-2.06 2.06-.94-2.06-.94-.94-2.06-.94 2.06-2.06.94z\"/><path d=\"M17.41 7.96l-1.37-1.37c-.4-.4-.92-.59-1.43-.59-.52 0-1.04.2-1.43.59L10.3 9.45l-7.72 7.72c-.78.78-.78 2.05 0 2.83L4 21.41c.39.39.9.59 1.41.59.51 0 1.02-.2 1.41-.59l7.78-7.78 2.81-2.81c.8-.78.8-2.07 0-2.86zM5.41 20L4 18.59l7.72-7.72 1.47 1.35L5.41 20z\"/>\n",
              "  </svg>\n",
              "      </button>\n",
              "      \n",
              "  <style>\n",
              "    .colab-df-container {\n",
              "      display:flex;\n",
              "      flex-wrap:wrap;\n",
              "      gap: 12px;\n",
              "    }\n",
              "\n",
              "    .colab-df-convert {\n",
              "      background-color: #E8F0FE;\n",
              "      border: none;\n",
              "      border-radius: 50%;\n",
              "      cursor: pointer;\n",
              "      display: none;\n",
              "      fill: #1967D2;\n",
              "      height: 32px;\n",
              "      padding: 0 0 0 0;\n",
              "      width: 32px;\n",
              "    }\n",
              "\n",
              "    .colab-df-convert:hover {\n",
              "      background-color: #E2EBFA;\n",
              "      box-shadow: 0px 1px 2px rgba(60, 64, 67, 0.3), 0px 1px 3px 1px rgba(60, 64, 67, 0.15);\n",
              "      fill: #174EA6;\n",
              "    }\n",
              "\n",
              "    [theme=dark] .colab-df-convert {\n",
              "      background-color: #3B4455;\n",
              "      fill: #D2E3FC;\n",
              "    }\n",
              "\n",
              "    [theme=dark] .colab-df-convert:hover {\n",
              "      background-color: #434B5C;\n",
              "      box-shadow: 0px 1px 3px 1px rgba(0, 0, 0, 0.15);\n",
              "      filter: drop-shadow(0px 1px 2px rgba(0, 0, 0, 0.3));\n",
              "      fill: #FFFFFF;\n",
              "    }\n",
              "  </style>\n",
              "\n",
              "      <script>\n",
              "        const buttonEl =\n",
              "          document.querySelector('#df-4d666736-253d-4ce4-9cb9-f53c1e649818 button.colab-df-convert');\n",
              "        buttonEl.style.display =\n",
              "          google.colab.kernel.accessAllowed ? 'block' : 'none';\n",
              "\n",
              "        async function convertToInteractive(key) {\n",
              "          const element = document.querySelector('#df-4d666736-253d-4ce4-9cb9-f53c1e649818');\n",
              "          const dataTable =\n",
              "            await google.colab.kernel.invokeFunction('convertToInteractive',\n",
              "                                                     [key], {});\n",
              "          if (!dataTable) return;\n",
              "\n",
              "          const docLinkHtml = 'Like what you see? Visit the ' +\n",
              "            '<a target=\"_blank\" href=https://colab.research.google.com/notebooks/data_table.ipynb>data table notebook</a>'\n",
              "            + ' to learn more about interactive tables.';\n",
              "          element.innerHTML = '';\n",
              "          dataTable['output_type'] = 'display_data';\n",
              "          await google.colab.output.renderOutput(dataTable, element);\n",
              "          const docLink = document.createElement('div');\n",
              "          docLink.innerHTML = docLinkHtml;\n",
              "          element.appendChild(docLink);\n",
              "        }\n",
              "      </script>\n",
              "    </div>\n",
              "  </div>\n",
              "  "
            ]
          },
          "metadata": {},
          "execution_count": 4
        }
      ],
      "source": [
        "df.tail()"
      ]
    },
    {
      "cell_type": "code",
      "execution_count": null,
      "metadata": {
        "colab": {
          "base_uri": "https://localhost:8080/"
        },
        "id": "c9jLdzzHyen_",
        "outputId": "81bec64c-83c4-41ed-fd5e-e94fd0bc5819"
      },
      "outputs": [
        {
          "output_type": "execute_result",
          "data": {
            "text/plain": [
              "(35040, 11)"
            ]
          },
          "metadata": {},
          "execution_count": 5
        }
      ],
      "source": [
        "df.shape"
      ]
    },
    {
      "cell_type": "code",
      "execution_count": null,
      "metadata": {
        "colab": {
          "base_uri": "https://localhost:8080/",
          "height": 300
        },
        "id": "Yi7hoi5CyhPU",
        "outputId": "99fdd1f7-020b-4fae-dde1-d3939e7cb70a"
      },
      "outputs": [
        {
          "output_type": "execute_result",
          "data": {
            "text/plain": [
              "          Usage_kWh  Lagging_Current_Reactive.Power_kVarh  \\\n",
              "count  35040.000000                          35040.000000   \n",
              "mean      27.386892                             13.035384   \n",
              "std       33.444380                             16.306000   \n",
              "min        0.000000                              0.000000   \n",
              "25%        3.200000                              2.300000   \n",
              "50%        4.570000                              5.000000   \n",
              "75%       51.237500                             22.640000   \n",
              "max      157.180000                             96.910000   \n",
              "\n",
              "       Leading_Current_Reactive_Power_kVarh     CO2(tCO2)  \\\n",
              "count                          35040.000000  35040.000000   \n",
              "mean                               3.870949      0.011524   \n",
              "std                                7.424463      0.016151   \n",
              "min                                0.000000      0.000000   \n",
              "25%                                0.000000      0.000000   \n",
              "50%                                0.000000      0.000000   \n",
              "75%                                2.090000      0.020000   \n",
              "max                               27.760000      0.070000   \n",
              "\n",
              "       Lagging_Current_Power_Factor  Leading_Current_Power_Factor  \\\n",
              "count                  35040.000000                  35040.000000   \n",
              "mean                      80.578056                     84.367870   \n",
              "std                       18.921322                     30.456535   \n",
              "min                        0.000000                      0.000000   \n",
              "25%                       63.320000                     99.700000   \n",
              "50%                       87.960000                    100.000000   \n",
              "75%                       99.022500                    100.000000   \n",
              "max                      100.000000                    100.000000   \n",
              "\n",
              "                NSM  \n",
              "count  35040.000000  \n",
              "mean   42750.000000  \n",
              "std    24940.534317  \n",
              "min        0.000000  \n",
              "25%    21375.000000  \n",
              "50%    42750.000000  \n",
              "75%    64125.000000  \n",
              "max    85500.000000  "
            ],
            "text/html": [
              "\n",
              "  <div id=\"df-fae79899-06ec-4d86-80b9-4600a60301a8\">\n",
              "    <div class=\"colab-df-container\">\n",
              "      <div>\n",
              "<style scoped>\n",
              "    .dataframe tbody tr th:only-of-type {\n",
              "        vertical-align: middle;\n",
              "    }\n",
              "\n",
              "    .dataframe tbody tr th {\n",
              "        vertical-align: top;\n",
              "    }\n",
              "\n",
              "    .dataframe thead th {\n",
              "        text-align: right;\n",
              "    }\n",
              "</style>\n",
              "<table border=\"1\" class=\"dataframe\">\n",
              "  <thead>\n",
              "    <tr style=\"text-align: right;\">\n",
              "      <th></th>\n",
              "      <th>Usage_kWh</th>\n",
              "      <th>Lagging_Current_Reactive.Power_kVarh</th>\n",
              "      <th>Leading_Current_Reactive_Power_kVarh</th>\n",
              "      <th>CO2(tCO2)</th>\n",
              "      <th>Lagging_Current_Power_Factor</th>\n",
              "      <th>Leading_Current_Power_Factor</th>\n",
              "      <th>NSM</th>\n",
              "    </tr>\n",
              "  </thead>\n",
              "  <tbody>\n",
              "    <tr>\n",
              "      <th>count</th>\n",
              "      <td>35040.000000</td>\n",
              "      <td>35040.000000</td>\n",
              "      <td>35040.000000</td>\n",
              "      <td>35040.000000</td>\n",
              "      <td>35040.000000</td>\n",
              "      <td>35040.000000</td>\n",
              "      <td>35040.000000</td>\n",
              "    </tr>\n",
              "    <tr>\n",
              "      <th>mean</th>\n",
              "      <td>27.386892</td>\n",
              "      <td>13.035384</td>\n",
              "      <td>3.870949</td>\n",
              "      <td>0.011524</td>\n",
              "      <td>80.578056</td>\n",
              "      <td>84.367870</td>\n",
              "      <td>42750.000000</td>\n",
              "    </tr>\n",
              "    <tr>\n",
              "      <th>std</th>\n",
              "      <td>33.444380</td>\n",
              "      <td>16.306000</td>\n",
              "      <td>7.424463</td>\n",
              "      <td>0.016151</td>\n",
              "      <td>18.921322</td>\n",
              "      <td>30.456535</td>\n",
              "      <td>24940.534317</td>\n",
              "    </tr>\n",
              "    <tr>\n",
              "      <th>min</th>\n",
              "      <td>0.000000</td>\n",
              "      <td>0.000000</td>\n",
              "      <td>0.000000</td>\n",
              "      <td>0.000000</td>\n",
              "      <td>0.000000</td>\n",
              "      <td>0.000000</td>\n",
              "      <td>0.000000</td>\n",
              "    </tr>\n",
              "    <tr>\n",
              "      <th>25%</th>\n",
              "      <td>3.200000</td>\n",
              "      <td>2.300000</td>\n",
              "      <td>0.000000</td>\n",
              "      <td>0.000000</td>\n",
              "      <td>63.320000</td>\n",
              "      <td>99.700000</td>\n",
              "      <td>21375.000000</td>\n",
              "    </tr>\n",
              "    <tr>\n",
              "      <th>50%</th>\n",
              "      <td>4.570000</td>\n",
              "      <td>5.000000</td>\n",
              "      <td>0.000000</td>\n",
              "      <td>0.000000</td>\n",
              "      <td>87.960000</td>\n",
              "      <td>100.000000</td>\n",
              "      <td>42750.000000</td>\n",
              "    </tr>\n",
              "    <tr>\n",
              "      <th>75%</th>\n",
              "      <td>51.237500</td>\n",
              "      <td>22.640000</td>\n",
              "      <td>2.090000</td>\n",
              "      <td>0.020000</td>\n",
              "      <td>99.022500</td>\n",
              "      <td>100.000000</td>\n",
              "      <td>64125.000000</td>\n",
              "    </tr>\n",
              "    <tr>\n",
              "      <th>max</th>\n",
              "      <td>157.180000</td>\n",
              "      <td>96.910000</td>\n",
              "      <td>27.760000</td>\n",
              "      <td>0.070000</td>\n",
              "      <td>100.000000</td>\n",
              "      <td>100.000000</td>\n",
              "      <td>85500.000000</td>\n",
              "    </tr>\n",
              "  </tbody>\n",
              "</table>\n",
              "</div>\n",
              "      <button class=\"colab-df-convert\" onclick=\"convertToInteractive('df-fae79899-06ec-4d86-80b9-4600a60301a8')\"\n",
              "              title=\"Convert this dataframe to an interactive table.\"\n",
              "              style=\"display:none;\">\n",
              "        \n",
              "  <svg xmlns=\"http://www.w3.org/2000/svg\" height=\"24px\"viewBox=\"0 0 24 24\"\n",
              "       width=\"24px\">\n",
              "    <path d=\"M0 0h24v24H0V0z\" fill=\"none\"/>\n",
              "    <path d=\"M18.56 5.44l.94 2.06.94-2.06 2.06-.94-2.06-.94-.94-2.06-.94 2.06-2.06.94zm-11 1L8.5 8.5l.94-2.06 2.06-.94-2.06-.94L8.5 2.5l-.94 2.06-2.06.94zm10 10l.94 2.06.94-2.06 2.06-.94-2.06-.94-.94-2.06-.94 2.06-2.06.94z\"/><path d=\"M17.41 7.96l-1.37-1.37c-.4-.4-.92-.59-1.43-.59-.52 0-1.04.2-1.43.59L10.3 9.45l-7.72 7.72c-.78.78-.78 2.05 0 2.83L4 21.41c.39.39.9.59 1.41.59.51 0 1.02-.2 1.41-.59l7.78-7.78 2.81-2.81c.8-.78.8-2.07 0-2.86zM5.41 20L4 18.59l7.72-7.72 1.47 1.35L5.41 20z\"/>\n",
              "  </svg>\n",
              "      </button>\n",
              "      \n",
              "  <style>\n",
              "    .colab-df-container {\n",
              "      display:flex;\n",
              "      flex-wrap:wrap;\n",
              "      gap: 12px;\n",
              "    }\n",
              "\n",
              "    .colab-df-convert {\n",
              "      background-color: #E8F0FE;\n",
              "      border: none;\n",
              "      border-radius: 50%;\n",
              "      cursor: pointer;\n",
              "      display: none;\n",
              "      fill: #1967D2;\n",
              "      height: 32px;\n",
              "      padding: 0 0 0 0;\n",
              "      width: 32px;\n",
              "    }\n",
              "\n",
              "    .colab-df-convert:hover {\n",
              "      background-color: #E2EBFA;\n",
              "      box-shadow: 0px 1px 2px rgba(60, 64, 67, 0.3), 0px 1px 3px 1px rgba(60, 64, 67, 0.15);\n",
              "      fill: #174EA6;\n",
              "    }\n",
              "\n",
              "    [theme=dark] .colab-df-convert {\n",
              "      background-color: #3B4455;\n",
              "      fill: #D2E3FC;\n",
              "    }\n",
              "\n",
              "    [theme=dark] .colab-df-convert:hover {\n",
              "      background-color: #434B5C;\n",
              "      box-shadow: 0px 1px 3px 1px rgba(0, 0, 0, 0.15);\n",
              "      filter: drop-shadow(0px 1px 2px rgba(0, 0, 0, 0.3));\n",
              "      fill: #FFFFFF;\n",
              "    }\n",
              "  </style>\n",
              "\n",
              "      <script>\n",
              "        const buttonEl =\n",
              "          document.querySelector('#df-fae79899-06ec-4d86-80b9-4600a60301a8 button.colab-df-convert');\n",
              "        buttonEl.style.display =\n",
              "          google.colab.kernel.accessAllowed ? 'block' : 'none';\n",
              "\n",
              "        async function convertToInteractive(key) {\n",
              "          const element = document.querySelector('#df-fae79899-06ec-4d86-80b9-4600a60301a8');\n",
              "          const dataTable =\n",
              "            await google.colab.kernel.invokeFunction('convertToInteractive',\n",
              "                                                     [key], {});\n",
              "          if (!dataTable) return;\n",
              "\n",
              "          const docLinkHtml = 'Like what you see? Visit the ' +\n",
              "            '<a target=\"_blank\" href=https://colab.research.google.com/notebooks/data_table.ipynb>data table notebook</a>'\n",
              "            + ' to learn more about interactive tables.';\n",
              "          element.innerHTML = '';\n",
              "          dataTable['output_type'] = 'display_data';\n",
              "          await google.colab.output.renderOutput(dataTable, element);\n",
              "          const docLink = document.createElement('div');\n",
              "          docLink.innerHTML = docLinkHtml;\n",
              "          element.appendChild(docLink);\n",
              "        }\n",
              "      </script>\n",
              "    </div>\n",
              "  </div>\n",
              "  "
            ]
          },
          "metadata": {},
          "execution_count": 6
        }
      ],
      "source": [
        "df.describe()"
      ]
    },
    {
      "cell_type": "code",
      "execution_count": null,
      "metadata": {
        "colab": {
          "base_uri": "https://localhost:8080/"
        },
        "id": "iKHo9mtjyk1c",
        "outputId": "7b4b8bb0-c667-4623-cf07-3ada20a5f8c8"
      },
      "outputs": [
        {
          "output_type": "stream",
          "name": "stdout",
          "text": [
            "<class 'pandas.core.frame.DataFrame'>\n",
            "RangeIndex: 35040 entries, 0 to 35039\n",
            "Data columns (total 11 columns):\n",
            " #   Column                                Non-Null Count  Dtype         \n",
            "---  ------                                --------------  -----         \n",
            " 0   date                                  35040 non-null  datetime64[ns]\n",
            " 1   Usage_kWh                             35040 non-null  float64       \n",
            " 2   Lagging_Current_Reactive.Power_kVarh  35040 non-null  float64       \n",
            " 3   Leading_Current_Reactive_Power_kVarh  35040 non-null  float64       \n",
            " 4   CO2(tCO2)                             35040 non-null  float64       \n",
            " 5   Lagging_Current_Power_Factor          35040 non-null  float64       \n",
            " 6   Leading_Current_Power_Factor          35040 non-null  float64       \n",
            " 7   NSM                                   35040 non-null  int64         \n",
            " 8   WeekStatus                            35040 non-null  object        \n",
            " 9   Day_of_week                           35040 non-null  object        \n",
            " 10  Load_Type                             35040 non-null  object        \n",
            "dtypes: datetime64[ns](1), float64(6), int64(1), object(3)\n",
            "memory usage: 2.9+ MB\n"
          ]
        }
      ],
      "source": [
        "df.info()"
      ]
    },
    {
      "cell_type": "code",
      "execution_count": null,
      "metadata": {
        "colab": {
          "base_uri": "https://localhost:8080/"
        },
        "id": "vM-WMFIDyngd",
        "outputId": "44d75d64-700b-4a90-d529-227d103105e3"
      },
      "outputs": [
        {
          "output_type": "execute_result",
          "data": {
            "text/plain": [
              "0"
            ]
          },
          "metadata": {},
          "execution_count": 8
        }
      ],
      "source": [
        "df.duplicated().sum()"
      ]
    },
    {
      "cell_type": "code",
      "execution_count": null,
      "metadata": {
        "colab": {
          "base_uri": "https://localhost:8080/"
        },
        "id": "qTwpf0XWypzz",
        "outputId": "8dffe5f6-a8ee-47a2-b8c5-22995e7368bd"
      },
      "outputs": [
        {
          "output_type": "execute_result",
          "data": {
            "text/plain": [
              "date                 Usage_kWh  Lagging_Current_Reactive.Power_kVarh  Leading_Current_Reactive_Power_kVarh  CO2(tCO2)  Lagging_Current_Power_Factor  Leading_Current_Power_Factor  NSM    WeekStatus  Day_of_week  Load_Type  \n",
              "2018-01-01 00:00:00  3.42       3.46                                  0.00                                  0.00       70.30                         100.00                        0      Weekday     Monday       Light_Load     1\n",
              "2018-09-01 08:30:00  83.74      56.99                                 0.00                                  0.04       82.67                         100.00                        30600  Weekday     Tuesday      Light_Load     1\n",
              "2018-09-01 07:00:00  4.57       3.89                                  0.00                                  0.00       76.15                         100.00                        25200  Weekday     Tuesday      Light_Load     1\n",
              "2018-09-01 07:15:00  4.10       3.28                                  0.00                                  0.00       78.09                         100.00                        26100  Weekday     Tuesday      Light_Load     1\n",
              "2018-09-01 07:30:00  5.18       3.42                                  0.00                                  0.00       83.45                         100.00                        27000  Weekday     Tuesday      Light_Load     1\n",
              "                                                                                                                                                                                                                                 ..\n",
              "2018-05-02 14:30:00  88.20      19.69                                 0.00                                  0.04       97.60                         100.00                        52200  Weekday     Monday       Medium_Load    1\n",
              "2018-05-02 14:15:00  124.42     39.92                                 0.00                                  0.06       95.22                         100.00                        51300  Weekday     Monday       Medium_Load    1\n",
              "2018-05-02 14:00:00  89.68      20.05                                 0.00                                  0.04       97.59                         100.00                        50400  Weekday     Monday       Medium_Load    1\n",
              "2018-05-02 13:45:00  79.09      17.24                                 0.00                                  0.04       97.71                         100.00                        49500  Weekday     Monday       Medium_Load    1\n",
              "2018-12-31 23:45:00  3.78       3.06                                  0.11                                  0.00       77.72                         99.96                         85500  Weekday     Monday       Light_Load     1\n",
              "Length: 35040, dtype: int64"
            ]
          },
          "metadata": {},
          "execution_count": 9
        }
      ],
      "source": [
        "df.value_counts()"
      ]
    },
    {
      "cell_type": "code",
      "execution_count": null,
      "metadata": {
        "colab": {
          "base_uri": "https://localhost:8080/"
        },
        "id": "dCvd9rAjyqaD",
        "outputId": "2e89fc4e-872f-40cc-b54b-083afdcaaed3"
      },
      "outputs": [
        {
          "output_type": "execute_result",
          "data": {
            "text/plain": [
              "date                 Usage_kWh  Lagging_Current_Reactive.Power_kVarh  Leading_Current_Reactive_Power_kVarh  CO2(tCO2)  Lagging_Current_Power_Factor  Leading_Current_Power_Factor  NSM    WeekStatus  Day_of_week  Load_Type  \n",
              "2018-01-01 00:00:00  3.42       3.46                                  0.00                                  0.00       70.30                         100.00                        0      Weekday     Monday       Light_Load     0.000029\n",
              "2018-09-01 08:30:00  83.74      56.99                                 0.00                                  0.04       82.67                         100.00                        30600  Weekday     Tuesday      Light_Load     0.000029\n",
              "2018-09-01 07:00:00  4.57       3.89                                  0.00                                  0.00       76.15                         100.00                        25200  Weekday     Tuesday      Light_Load     0.000029\n",
              "2018-09-01 07:15:00  4.10       3.28                                  0.00                                  0.00       78.09                         100.00                        26100  Weekday     Tuesday      Light_Load     0.000029\n",
              "2018-09-01 07:30:00  5.18       3.42                                  0.00                                  0.00       83.45                         100.00                        27000  Weekday     Tuesday      Light_Load     0.000029\n",
              "                                                                                                                                                                                                                                    ...   \n",
              "2018-05-02 14:30:00  88.20      19.69                                 0.00                                  0.04       97.60                         100.00                        52200  Weekday     Monday       Medium_Load    0.000029\n",
              "2018-05-02 14:15:00  124.42     39.92                                 0.00                                  0.06       95.22                         100.00                        51300  Weekday     Monday       Medium_Load    0.000029\n",
              "2018-05-02 14:00:00  89.68      20.05                                 0.00                                  0.04       97.59                         100.00                        50400  Weekday     Monday       Medium_Load    0.000029\n",
              "2018-05-02 13:45:00  79.09      17.24                                 0.00                                  0.04       97.71                         100.00                        49500  Weekday     Monday       Medium_Load    0.000029\n",
              "2018-12-31 23:45:00  3.78       3.06                                  0.11                                  0.00       77.72                         99.96                         85500  Weekday     Monday       Light_Load     0.000029\n",
              "Length: 35040, dtype: float64"
            ]
          },
          "metadata": {},
          "execution_count": 10
        }
      ],
      "source": [
        "df.value_counts(normalize=True)"
      ]
    },
    {
      "cell_type": "code",
      "execution_count": null,
      "metadata": {
        "colab": {
          "base_uri": "https://localhost:8080/"
        },
        "id": "WMw2NONzytH3",
        "outputId": "dbce06e9-3143-4880-bcc4-53c1fdf35a30"
      },
      "outputs": [
        {
          "output_type": "execute_result",
          "data": {
            "text/plain": [
              "count    35040.000000\n",
              "mean         3.870949\n",
              "std          7.424463\n",
              "min          0.000000\n",
              "25%          0.000000\n",
              "50%          0.000000\n",
              "75%          2.090000\n",
              "max         27.760000\n",
              "Name: Leading_Current_Reactive_Power_kVarh, dtype: float64"
            ]
          },
          "metadata": {},
          "execution_count": 11
        }
      ],
      "source": [
        "df.Leading_Current_Reactive_Power_kVarh.describe()"
      ]
    },
    {
      "cell_type": "code",
      "execution_count": null,
      "metadata": {
        "colab": {
          "base_uri": "https://localhost:8080/"
        },
        "id": "H9OE27loyuqm",
        "outputId": "00511842-81d9-4524-bc8c-91f3ff0d26ce"
      },
      "outputs": [
        {
          "output_type": "stream",
          "name": "stdout",
          "text": [
            "Skewness: 1.7343137431298614\n",
            "Kurtosis: 1.5810971096311754\n"
          ]
        }
      ],
      "source": [
        "print(f\"Skewness: {df['Leading_Current_Reactive_Power_kVarh'].skew()}\")\n",
        "print(f\"Kurtosis: {df['Leading_Current_Reactive_Power_kVarh'].kurt()}\")"
      ]
    },
    {
      "cell_type": "code",
      "execution_count": null,
      "metadata": {
        "colab": {
          "base_uri": "https://localhost:8080/"
        },
        "id": "1gu_m88Pt6ej",
        "outputId": "123819fb-c2c8-4035-e611-82bfd350f5a1"
      },
      "outputs": [
        {
          "output_type": "execute_result",
          "data": {
            "text/plain": [
              "Index(['date', 'Usage_kWh', 'Lagging_Current_Reactive.Power_kVarh',\n",
              "       'Leading_Current_Reactive_Power_kVarh', 'CO2(tCO2)',\n",
              "       'Lagging_Current_Power_Factor', 'Leading_Current_Power_Factor', 'NSM',\n",
              "       'WeekStatus', 'Day_of_week', 'Load_Type'],\n",
              "      dtype='object')"
            ]
          },
          "metadata": {},
          "execution_count": 13
        }
      ],
      "source": [
        "df.columns"
      ]
    },
    {
      "cell_type": "code",
      "execution_count": null,
      "metadata": {
        "colab": {
          "base_uri": "https://localhost:8080/"
        },
        "id": "VS_9BICauCEU",
        "outputId": "c939692c-0353-4832-a1a1-554038747f74"
      },
      "outputs": [
        {
          "output_type": "execute_result",
          "data": {
            "text/plain": [
              "array(['2018-01-01T00:15:00.000000000', '2018-01-01T00:30:00.000000000',\n",
              "       '2018-01-01T00:45:00.000000000', ...,\n",
              "       '2018-12-31T23:30:00.000000000', '2018-12-31T23:45:00.000000000',\n",
              "       '2018-12-31T00:00:00.000000000'], dtype='datetime64[ns]')"
            ]
          },
          "metadata": {},
          "execution_count": 14
        }
      ],
      "source": [
        "df['date'].unique()"
      ]
    },
    {
      "cell_type": "code",
      "execution_count": null,
      "metadata": {
        "colab": {
          "base_uri": "https://localhost:8080/"
        },
        "id": "ewCb48FLuD7t",
        "outputId": "bcf20355-eb01-42a3-db00-1308f0131a88"
      },
      "outputs": [
        {
          "output_type": "execute_result",
          "data": {
            "text/plain": [
              "array([ 3.17,  4.  ,  3.24, ..., 21.89, 17.82, 45.  ])"
            ]
          },
          "metadata": {},
          "execution_count": 15
        }
      ],
      "source": [
        "df['Usage_kWh'].unique()"
      ]
    },
    {
      "cell_type": "code",
      "execution_count": null,
      "metadata": {
        "colab": {
          "base_uri": "https://localhost:8080/"
        },
        "id": "2iN0r_h2uF_d",
        "outputId": "1722e387-db3f-4d5e-c3ae-4a0fb18916f2"
      },
      "outputs": [
        {
          "output_type": "execute_result",
          "data": {
            "text/plain": [
              "array([ 2.95,  4.46,  3.28, ..., 69.77, 74.56, 70.67])"
            ]
          },
          "metadata": {},
          "execution_count": 16
        }
      ],
      "source": [
        "df['Lagging_Current_Reactive.Power_kVarh'].unique()"
      ]
    },
    {
      "cell_type": "code",
      "execution_count": null,
      "metadata": {
        "colab": {
          "base_uri": "https://localhost:8080/"
        },
        "id": "rA_HrIsWuH7W",
        "outputId": "1aa72971-6516-4883-ea42-701e25640c9e"
      },
      "outputs": [
        {
          "output_type": "execute_result",
          "data": {
            "text/plain": [
              "array([ 0.  ,  0.18, 15.66, 16.96, 21.28, 19.22, 16.88, 22.32, 18.  ,\n",
              "       16.92, 23.4 ,  5.65,  4.82,  6.7 ,  4.57, 12.89, 23.15, 16.67,\n",
              "       16.63, 23.33, 16.74, 16.99, 18.25, 22.1 , 16.7 , 19.33, 21.35,\n",
              "       16.81, 20.45, 20.77, 21.64, 19.19, 23.51, 17.39, 17.35,  8.96,\n",
              "        5.47, 16.24, 22.57, 20.74, 20.88, 22.54, 19.55, 17.42, 24.26,\n",
              "       17.75, 25.2 , 17.5 , 10.08,  0.07,  0.11,  0.94,  1.15,  0.54,\n",
              "        0.14, 18.9 , 25.92, 25.34, 25.49,  6.52,  1.04,  0.5 ,  1.58,\n",
              "        0.43,  1.37,  0.47,  3.96, 12.13, 23.22, 25.16, 26.5 , 26.42,\n",
              "       26.46, 15.44,  0.04, 26.21, 25.56, 25.74,  6.08,  1.69,  1.94,\n",
              "        0.79,  1.66,  1.22,  6.98, 23.83, 24.8 , 26.82, 26.78, 15.16,\n",
              "       18.79, 26.39, 26.89,  1.19,  3.46,  2.12,  2.77, 24.08, 25.78,\n",
              "       25.85, 14.65, 20.2 , 26.32, 25.81,  7.6 ,  3.56,  0.61,  4.43,\n",
              "       17.64, 24.05, 26.68, 26.64, 26.6 , 15.19, 20.7 , 20.99, 19.73,\n",
              "       17.93,  9.9 ,  7.06,  7.63,  7.42, 14.08, 24.91, 19.69, 18.14,\n",
              "       20.92, 21.67, 23.  , 24.3 , 18.43, 17.6 , 24.73, 18.18, 17.71,\n",
              "       17.82, 24.62,  7.96,  6.23, 18.94, 17.86, 24.19, 18.65, 24.16,\n",
              "       17.68, 18.97, 24.41, 10.01, 19.3 , 17.21, 18.04, 22.93, 19.91,\n",
              "       17.28,  7.24,  5.08,  6.59,  5.69, 13.21, 22.46, 17.96, 16.85,\n",
              "       23.58, 22.61, 16.6 , 22.79, 23.8 , 23.72, 24.01,  6.41,  7.78,\n",
              "       14.69, 17.17, 18.72, 22.86, 17.14, 18.68, 21.49, 20.02, 13.36,\n",
              "       20.63, 25.7 ,  9.  ,  9.47,  0.58,  0.97, 20.3 , 26.03, 25.99,\n",
              "       25.96, 19.37, 20.56,  2.59,  8.53,  9.94,  1.73, 26.71, 26.75,\n",
              "       15.3 , 20.16, 25.13,  3.02,  4.46, 21.02, 26.96, 27.04, 27.  ,\n",
              "       26.93, 26.53, 26.35, 15.08, 25.45, 23.69, 16.78,  3.06,  9.11,\n",
              "        0.86,  2.56, 15.52, 18.61, 25.38, 24.66,  3.82,  6.3 ,  8.17,\n",
              "        6.34, 25.24, 15.88, 19.84, 25.52,  6.8 , 19.98, 10.37, 23.08,\n",
              "       26.86,  0.25, 17.89, 23.76, 23.18, 13.5 , 13.97, 21.82,  6.37,\n",
              "        5.15,  4.14, 12.64, 13.54,  5.26,  4.32,  5.94,  8.75, 10.26,\n",
              "        9.32,  2.52,  2.45,  2.41,  1.3 ,  8.71, 22.25, 10.91, 27.14,\n",
              "       27.07, 27.11, 15.62, 18.47, 26.14,  6.66,  4.93,  0.32,  2.88,\n",
              "       25.88, 14.47, 19.51,  1.84,  8.6 , 26.57, 14.87, 18.36, 25.27,\n",
              "        3.6 ,  9.07,  2.2 ,  1.55,  2.09,  1.62,  2.81,  2.34,  1.8 ,\n",
              "        2.38,  2.48,  1.44, 26.06, 25.02, 23.47,  6.84,  2.27, 20.59,\n",
              "       25.42,  8.42,  9.04,  0.29,  2.05,  2.02,  2.23,  0.68,  2.16,\n",
              "        3.92,  9.83,  9.4 , 10.44,  4.68,  3.31,  1.98,  5.22,  4.07,\n",
              "        0.36, 20.38,  8.46,  7.49,  7.31, 25.31, 25.67, 25.6 ,  9.43,\n",
              "       23.04, 21.92, 23.62, 22.07, 18.58,  5.87,  3.67,  5.83, 24.98,\n",
              "       23.94,  2.84,  3.35,  1.26,  1.48,  4.03,  0.65,  1.12,  9.68,\n",
              "        0.9 ,  9.79, 11.63, 10.62, 10.73,  7.99,  5.98,  4.54,  4.9 ,\n",
              "        3.42,  3.49,  7.34,  9.36,  1.51,  0.22, 26.17, 25.63,  2.3 ,\n",
              "        6.19, 10.87, 10.76, 10.84, 10.58, 10.48,  0.83,  4.75, 17.53,\n",
              "       10.12,  8.32,  8.39,  4.28,  0.72, 12.92,  9.58, 22.28, 26.1 ,\n",
              "       22.64, 17.1 , 13.82, 10.3 , 10.8 , 23.87, 23.9 , 24.12, 24.23,\n",
              "        2.74,  2.7 ,  2.66,  2.63, 11.16, 22.82, 24.59, 10.33,  1.01,\n",
              "       24.84, 24.95,  3.85,  4.25,  0.4 ,  1.91,  0.76, 18.4 ,  2.92,\n",
              "       25.06,  2.99,  1.4 , 12.35, 14.4 ,  4.1 ,  4.5 ,  1.87, 17.32,\n",
              "       21.56, 17.06, 19.04, 26.24,  6.05,  6.73, 13.03, 21.24, 17.03,\n",
              "       24.44, 22.75, 17.57, 26.28,  3.13,  1.76,  4.64,  6.48, 18.83,\n",
              "        3.38,  5.4 ,  1.08,  3.24, 19.01,  6.95, 20.41, 27.22, 27.18,\n",
              "       10.94,  9.61,  8.89, 27.29, 25.09, 10.15, 15.05, 21.89, 19.4 ,\n",
              "       15.34, 16.34,  5.51,  7.38,  6.55, 17.78, 23.36, 17.24, 19.87,\n",
              "       24.37,  8.57, 21.71, 18.5 , 24.55,  3.2 , 12.42, 10.4 ,  8.68,\n",
              "        7.02,  7.81,  7.56,  4.39,  5.36,  3.53,  4.21,  4.72,  3.28,\n",
              "       22.18, 27.76, 27.47, 27.43, 27.61, 27.4 ,  6.12,  8.03, 24.7 ,\n",
              "       22.72,  6.62,  4.86, 14.29, 20.81, 13.07,  5.54,  7.85, 18.29,\n",
              "       18.11, 17.46,  6.91, 10.22, 13.  , 23.65, 22.68, 13.1 ,  6.16,\n",
              "       22.97, 27.25, 15.98, 12.71, 22.39,  5.9 , 12.78, 16.45, 16.38,\n",
              "       16.52, 23.44, 16.42, 16.27, 16.31,  5.8 ,  5.11, 14.44, 21.6 ,\n",
              "       19.12, 20.05,  5.44,  6.77, 23.26, 20.84, 21.1 , 16.13, 16.16,\n",
              "       19.66,  5.18, 13.79, 20.27, 16.56, 19.94,  9.54, 20.34, 19.26,\n",
              "       22.21, 14.  ,  4.36,  5.  ,  3.1 , 18.76,  6.26,  4.18, 12.56,\n",
              "       22.03, 21.78, 14.76, 15.48,  8.93, 15.59, 20.23,  8.06, 14.26,\n",
              "        3.78, 13.39, 13.28,  7.52,  4.97,  5.04,  8.86, 27.54, 27.65,\n",
              "       27.58, 23.11, 18.32, 10.55,  2.95,  3.89, 12.67, 12.24, 11.92,\n",
              "       11.48, 11.99, 12.02, 15.8 , 13.32,  3.17,  4.61,  6.01, 14.15,\n",
              "        4.  , 13.86, 27.36, 18.07, 14.33, 22.43,  5.62, 13.64, 14.58,\n",
              "        3.74,  7.13,  8.14, 15.37, 12.85,  7.88, 23.98, 21.13, 11.05,\n",
              "        8.35,  9.22,  8.82,  5.58,  8.5 ,  8.21,  9.25,  9.18,  6.88,\n",
              "        5.76, 24.88, 13.72, 19.76, 24.48,  7.09, 23.29, 14.18, 12.2 ,\n",
              "       14.98, 11.23, 12.74, 13.61,  9.97,  8.28, 13.75, 22.36, 21.2 ,\n",
              "       14.22, 11.81, 14.94, 14.9 , 11.12, 12.28, 21.42, 24.77, 13.93,\n",
              "       19.08,  7.67, 24.34,  4.79, 16.2 , 10.98,  1.33, 15.84,  5.29,\n",
              "       11.2 , 18.86, 14.36,  9.14, 14.72, 20.09, 10.69, 14.8 , 13.68,\n",
              "       21.53,  9.65, 14.83, 21.96, 22.9 ,  7.27, 15.23, 12.31, 11.41,\n",
              "       10.04, 14.51, 21.06, 11.59, 11.27,  8.24, 15.7 , 19.8 ,  9.72,\n",
              "        9.76, 16.06, 12.82, 16.02, 15.95,  6.44,  5.72, 24.52, 11.66,\n",
              "       15.01, 12.49,  7.45, 12.1 , 15.55, 10.51,  3.64, 19.58, 15.26,\n",
              "        7.7 , 21.38, 21.17,  9.5 , 13.43, 13.57, 19.62, 20.52, 22.14,\n",
              "       16.49, 20.66,  9.29, 19.48, 13.46, 22.  , 13.18, 12.96,  3.71,\n",
              "       12.17, 13.9 , 14.04, 11.3 , 12.53, 19.15,  7.16, 11.34, 21.46,\n",
              "       21.74, 16.09, 12.06, 11.88, 11.95, 11.52, 11.45, 20.95, 15.91,\n",
              "       19.44,  8.78, 18.22, 13.25, 23.54, 21.31,  7.92, 20.48, 21.85,\n",
              "       11.7 , 10.19,  5.33,  8.64, 20.12, 22.5 , 12.6 , 10.66, 11.09,\n",
              "        9.86,  8.1 , 11.02, 15.73, 14.62, 14.54, 13.14, 15.12, 14.11,\n",
              "       15.41,  7.74, 12.46,  7.2 , 11.38, 11.56, 12.38, 11.84, 11.77,\n",
              "       11.74, 18.54, 15.77])"
            ]
          },
          "metadata": {},
          "execution_count": 17
        }
      ],
      "source": [
        "df['Leading_Current_Reactive_Power_kVarh'].unique()"
      ]
    },
    {
      "cell_type": "code",
      "execution_count": null,
      "metadata": {
        "colab": {
          "base_uri": "https://localhost:8080/"
        },
        "id": "GKc96HZCuJ_A",
        "outputId": "8d3b387a-2c3e-4169-e7a5-97402a7f6162"
      },
      "outputs": [
        {
          "output_type": "execute_result",
          "data": {
            "text/plain": [
              "array([0.  , 0.02, 0.03, 0.05, 0.06, 0.04, 0.01, 0.07])"
            ]
          },
          "metadata": {},
          "execution_count": 18
        }
      ],
      "source": [
        "df['CO2(tCO2)'].unique()"
      ]
    },
    {
      "cell_type": "code",
      "execution_count": null,
      "metadata": {
        "colab": {
          "base_uri": "https://localhost:8080/"
        },
        "id": "KuaGtOuIuMak",
        "outputId": "4fb217c8-f09a-460e-8adc-a73b2be20a2b"
      },
      "outputs": [
        {
          "output_type": "execute_result",
          "data": {
            "text/plain": [
              "array([73.21, 66.77, 70.28, ..., 73.73, 69.2 , 64.38])"
            ]
          },
          "metadata": {},
          "execution_count": 19
        }
      ],
      "source": [
        "df['Lagging_Current_Power_Factor'].unique()"
      ]
    },
    {
      "cell_type": "code",
      "execution_count": null,
      "metadata": {
        "colab": {
          "base_uri": "https://localhost:8080/"
        },
        "id": "aMfPSJaVuP7N",
        "outputId": "2f160753-31ce-45eb-bacf-482ac6d1f07b"
      },
      "outputs": [
        {
          "output_type": "execute_result",
          "data": {
            "text/plain": [
              "array([100.  ,  99.87,  24.11, ...,  26.21,  57.73,  31.65])"
            ]
          },
          "metadata": {},
          "execution_count": 20
        }
      ],
      "source": [
        "df['Leading_Current_Power_Factor'].unique()"
      ]
    },
    {
      "cell_type": "code",
      "execution_count": null,
      "metadata": {
        "colab": {
          "base_uri": "https://localhost:8080/"
        },
        "id": "vUWQirhHuS9u",
        "outputId": "91849219-6d09-49ed-b2d7-e2deeefc4a0a"
      },
      "outputs": [
        {
          "output_type": "execute_result",
          "data": {
            "text/plain": [
              "array([  900,  1800,  2700,  3600,  4500,  5400,  6300,  7200,  8100,\n",
              "        9000,  9900, 10800, 11700, 12600, 13500, 14400, 15300, 16200,\n",
              "       17100, 18000, 18900, 19800, 20700, 21600, 22500, 23400, 24300,\n",
              "       25200, 26100, 27000, 27900, 28800, 29700, 30600, 31500, 32400,\n",
              "       33300, 34200, 35100, 36000, 36900, 37800, 38700, 39600, 40500,\n",
              "       41400, 42300, 43200, 44100, 45000, 45900, 46800, 47700, 48600,\n",
              "       49500, 50400, 51300, 52200, 53100, 54000, 54900, 55800, 56700,\n",
              "       57600, 58500, 59400, 60300, 61200, 62100, 63000, 63900, 64800,\n",
              "       65700, 66600, 67500, 68400, 69300, 70200, 71100, 72000, 72900,\n",
              "       73800, 74700, 75600, 76500, 77400, 78300, 79200, 80100, 81000,\n",
              "       81900, 82800, 83700, 84600, 85500,     0])"
            ]
          },
          "metadata": {},
          "execution_count": 21
        }
      ],
      "source": [
        "df['NSM'].unique()"
      ]
    },
    {
      "cell_type": "code",
      "execution_count": null,
      "metadata": {
        "colab": {
          "base_uri": "https://localhost:8080/"
        },
        "id": "lXDYfBUouXIp",
        "outputId": "c37e0459-5e7d-4bdc-e57a-3ba033681c95"
      },
      "outputs": [
        {
          "output_type": "execute_result",
          "data": {
            "text/plain": [
              "array(['Weekday', 'Weekend'], dtype=object)"
            ]
          },
          "metadata": {},
          "execution_count": 22
        }
      ],
      "source": [
        "df['WeekStatus'].unique()"
      ]
    },
    {
      "cell_type": "code",
      "execution_count": null,
      "metadata": {
        "colab": {
          "base_uri": "https://localhost:8080/"
        },
        "id": "T7vrK1MAuY91",
        "outputId": "8bcd359b-1cb1-421f-8e5b-6a889adf0c9a"
      },
      "outputs": [
        {
          "output_type": "execute_result",
          "data": {
            "text/plain": [
              "array(['Monday', 'Tuesday', 'Wednesday', 'Thursday', 'Friday', 'Saturday',\n",
              "       'Sunday'], dtype=object)"
            ]
          },
          "metadata": {},
          "execution_count": 23
        }
      ],
      "source": [
        "df['Day_of_week'].unique()"
      ]
    },
    {
      "cell_type": "code",
      "execution_count": null,
      "metadata": {
        "colab": {
          "base_uri": "https://localhost:8080/"
        },
        "id": "Vrhr31-8ua6V",
        "outputId": "e82d6535-a427-47e6-afb6-4ea9d9c01cfd"
      },
      "outputs": [
        {
          "output_type": "execute_result",
          "data": {
            "text/plain": [
              "array(['Light_Load', 'Medium_Load', 'Maximum_Load'], dtype=object)"
            ]
          },
          "metadata": {},
          "execution_count": 24
        }
      ],
      "source": [
        "df['Load_Type'].unique()"
      ]
    },
    {
      "cell_type": "code",
      "execution_count": null,
      "metadata": {
        "colab": {
          "base_uri": "https://localhost:8080/",
          "height": 333
        },
        "id": "--HzTJTpuda1",
        "outputId": "0a828013-d838-4379-de78-76bdda142dd9"
      },
      "outputs": [
        {
          "output_type": "execute_result",
          "data": {
            "text/plain": [
              "                                      Usage_kWh  \\\n",
              "Usage_kWh                              1.000000   \n",
              "Lagging_Current_Reactive.Power_kVarh   0.896150   \n",
              "Leading_Current_Reactive_Power_kVarh  -0.324922   \n",
              "CO2(tCO2)                              0.988180   \n",
              "Lagging_Current_Power_Factor           0.385960   \n",
              "Leading_Current_Power_Factor           0.353566   \n",
              "NSM                                    0.234610   \n",
              "\n",
              "                                      Lagging_Current_Reactive.Power_kVarh  \\\n",
              "Usage_kWh                                                         0.896150   \n",
              "Lagging_Current_Reactive.Power_kVarh                              1.000000   \n",
              "Leading_Current_Reactive_Power_kVarh                             -0.405142   \n",
              "CO2(tCO2)                                                         0.886948   \n",
              "Lagging_Current_Power_Factor                                      0.144534   \n",
              "Leading_Current_Power_Factor                                      0.407716   \n",
              "NSM                                                               0.082662   \n",
              "\n",
              "                                      Leading_Current_Reactive_Power_kVarh  \\\n",
              "Usage_kWh                                                        -0.324922   \n",
              "Lagging_Current_Reactive.Power_kVarh                             -0.405142   \n",
              "Leading_Current_Reactive_Power_kVarh                              1.000000   \n",
              "CO2(tCO2)                                                        -0.332777   \n",
              "Lagging_Current_Power_Factor                                      0.526770   \n",
              "Leading_Current_Power_Factor                                     -0.944039   \n",
              "NSM                                                               0.371605   \n",
              "\n",
              "                                      CO2(tCO2)  Lagging_Current_Power_Factor  \\\n",
              "Usage_kWh                              0.988180                      0.385960   \n",
              "Lagging_Current_Reactive.Power_kVarh   0.886948                      0.144534   \n",
              "Leading_Current_Reactive_Power_kVarh  -0.332777                      0.526770   \n",
              "CO2(tCO2)                              1.000000                      0.379605   \n",
              "Lagging_Current_Power_Factor           0.379605                      1.000000   \n",
              "Leading_Current_Power_Factor           0.360019                     -0.519967   \n",
              "NSM                                    0.231726                      0.565270   \n",
              "\n",
              "                                      Leading_Current_Power_Factor       NSM  \n",
              "Usage_kWh                                                 0.353566  0.234610  \n",
              "Lagging_Current_Reactive.Power_kVarh                      0.407716  0.082662  \n",
              "Leading_Current_Reactive_Power_kVarh                     -0.944039  0.371605  \n",
              "CO2(tCO2)                                                 0.360019  0.231726  \n",
              "Lagging_Current_Power_Factor                             -0.519967  0.565270  \n",
              "Leading_Current_Power_Factor                              1.000000 -0.360563  \n",
              "NSM                                                      -0.360563  1.000000  "
            ],
            "text/html": [
              "\n",
              "  <div id=\"df-6aea10aa-c341-41e1-a141-e6efa3e39dd2\">\n",
              "    <div class=\"colab-df-container\">\n",
              "      <div>\n",
              "<style scoped>\n",
              "    .dataframe tbody tr th:only-of-type {\n",
              "        vertical-align: middle;\n",
              "    }\n",
              "\n",
              "    .dataframe tbody tr th {\n",
              "        vertical-align: top;\n",
              "    }\n",
              "\n",
              "    .dataframe thead th {\n",
              "        text-align: right;\n",
              "    }\n",
              "</style>\n",
              "<table border=\"1\" class=\"dataframe\">\n",
              "  <thead>\n",
              "    <tr style=\"text-align: right;\">\n",
              "      <th></th>\n",
              "      <th>Usage_kWh</th>\n",
              "      <th>Lagging_Current_Reactive.Power_kVarh</th>\n",
              "      <th>Leading_Current_Reactive_Power_kVarh</th>\n",
              "      <th>CO2(tCO2)</th>\n",
              "      <th>Lagging_Current_Power_Factor</th>\n",
              "      <th>Leading_Current_Power_Factor</th>\n",
              "      <th>NSM</th>\n",
              "    </tr>\n",
              "  </thead>\n",
              "  <tbody>\n",
              "    <tr>\n",
              "      <th>Usage_kWh</th>\n",
              "      <td>1.000000</td>\n",
              "      <td>0.896150</td>\n",
              "      <td>-0.324922</td>\n",
              "      <td>0.988180</td>\n",
              "      <td>0.385960</td>\n",
              "      <td>0.353566</td>\n",
              "      <td>0.234610</td>\n",
              "    </tr>\n",
              "    <tr>\n",
              "      <th>Lagging_Current_Reactive.Power_kVarh</th>\n",
              "      <td>0.896150</td>\n",
              "      <td>1.000000</td>\n",
              "      <td>-0.405142</td>\n",
              "      <td>0.886948</td>\n",
              "      <td>0.144534</td>\n",
              "      <td>0.407716</td>\n",
              "      <td>0.082662</td>\n",
              "    </tr>\n",
              "    <tr>\n",
              "      <th>Leading_Current_Reactive_Power_kVarh</th>\n",
              "      <td>-0.324922</td>\n",
              "      <td>-0.405142</td>\n",
              "      <td>1.000000</td>\n",
              "      <td>-0.332777</td>\n",
              "      <td>0.526770</td>\n",
              "      <td>-0.944039</td>\n",
              "      <td>0.371605</td>\n",
              "    </tr>\n",
              "    <tr>\n",
              "      <th>CO2(tCO2)</th>\n",
              "      <td>0.988180</td>\n",
              "      <td>0.886948</td>\n",
              "      <td>-0.332777</td>\n",
              "      <td>1.000000</td>\n",
              "      <td>0.379605</td>\n",
              "      <td>0.360019</td>\n",
              "      <td>0.231726</td>\n",
              "    </tr>\n",
              "    <tr>\n",
              "      <th>Lagging_Current_Power_Factor</th>\n",
              "      <td>0.385960</td>\n",
              "      <td>0.144534</td>\n",
              "      <td>0.526770</td>\n",
              "      <td>0.379605</td>\n",
              "      <td>1.000000</td>\n",
              "      <td>-0.519967</td>\n",
              "      <td>0.565270</td>\n",
              "    </tr>\n",
              "    <tr>\n",
              "      <th>Leading_Current_Power_Factor</th>\n",
              "      <td>0.353566</td>\n",
              "      <td>0.407716</td>\n",
              "      <td>-0.944039</td>\n",
              "      <td>0.360019</td>\n",
              "      <td>-0.519967</td>\n",
              "      <td>1.000000</td>\n",
              "      <td>-0.360563</td>\n",
              "    </tr>\n",
              "    <tr>\n",
              "      <th>NSM</th>\n",
              "      <td>0.234610</td>\n",
              "      <td>0.082662</td>\n",
              "      <td>0.371605</td>\n",
              "      <td>0.231726</td>\n",
              "      <td>0.565270</td>\n",
              "      <td>-0.360563</td>\n",
              "      <td>1.000000</td>\n",
              "    </tr>\n",
              "  </tbody>\n",
              "</table>\n",
              "</div>\n",
              "      <button class=\"colab-df-convert\" onclick=\"convertToInteractive('df-6aea10aa-c341-41e1-a141-e6efa3e39dd2')\"\n",
              "              title=\"Convert this dataframe to an interactive table.\"\n",
              "              style=\"display:none;\">\n",
              "        \n",
              "  <svg xmlns=\"http://www.w3.org/2000/svg\" height=\"24px\"viewBox=\"0 0 24 24\"\n",
              "       width=\"24px\">\n",
              "    <path d=\"M0 0h24v24H0V0z\" fill=\"none\"/>\n",
              "    <path d=\"M18.56 5.44l.94 2.06.94-2.06 2.06-.94-2.06-.94-.94-2.06-.94 2.06-2.06.94zm-11 1L8.5 8.5l.94-2.06 2.06-.94-2.06-.94L8.5 2.5l-.94 2.06-2.06.94zm10 10l.94 2.06.94-2.06 2.06-.94-2.06-.94-.94-2.06-.94 2.06-2.06.94z\"/><path d=\"M17.41 7.96l-1.37-1.37c-.4-.4-.92-.59-1.43-.59-.52 0-1.04.2-1.43.59L10.3 9.45l-7.72 7.72c-.78.78-.78 2.05 0 2.83L4 21.41c.39.39.9.59 1.41.59.51 0 1.02-.2 1.41-.59l7.78-7.78 2.81-2.81c.8-.78.8-2.07 0-2.86zM5.41 20L4 18.59l7.72-7.72 1.47 1.35L5.41 20z\"/>\n",
              "  </svg>\n",
              "      </button>\n",
              "      \n",
              "  <style>\n",
              "    .colab-df-container {\n",
              "      display:flex;\n",
              "      flex-wrap:wrap;\n",
              "      gap: 12px;\n",
              "    }\n",
              "\n",
              "    .colab-df-convert {\n",
              "      background-color: #E8F0FE;\n",
              "      border: none;\n",
              "      border-radius: 50%;\n",
              "      cursor: pointer;\n",
              "      display: none;\n",
              "      fill: #1967D2;\n",
              "      height: 32px;\n",
              "      padding: 0 0 0 0;\n",
              "      width: 32px;\n",
              "    }\n",
              "\n",
              "    .colab-df-convert:hover {\n",
              "      background-color: #E2EBFA;\n",
              "      box-shadow: 0px 1px 2px rgba(60, 64, 67, 0.3), 0px 1px 3px 1px rgba(60, 64, 67, 0.15);\n",
              "      fill: #174EA6;\n",
              "    }\n",
              "\n",
              "    [theme=dark] .colab-df-convert {\n",
              "      background-color: #3B4455;\n",
              "      fill: #D2E3FC;\n",
              "    }\n",
              "\n",
              "    [theme=dark] .colab-df-convert:hover {\n",
              "      background-color: #434B5C;\n",
              "      box-shadow: 0px 1px 3px 1px rgba(0, 0, 0, 0.15);\n",
              "      filter: drop-shadow(0px 1px 2px rgba(0, 0, 0, 0.3));\n",
              "      fill: #FFFFFF;\n",
              "    }\n",
              "  </style>\n",
              "\n",
              "      <script>\n",
              "        const buttonEl =\n",
              "          document.querySelector('#df-6aea10aa-c341-41e1-a141-e6efa3e39dd2 button.colab-df-convert');\n",
              "        buttonEl.style.display =\n",
              "          google.colab.kernel.accessAllowed ? 'block' : 'none';\n",
              "\n",
              "        async function convertToInteractive(key) {\n",
              "          const element = document.querySelector('#df-6aea10aa-c341-41e1-a141-e6efa3e39dd2');\n",
              "          const dataTable =\n",
              "            await google.colab.kernel.invokeFunction('convertToInteractive',\n",
              "                                                     [key], {});\n",
              "          if (!dataTable) return;\n",
              "\n",
              "          const docLinkHtml = 'Like what you see? Visit the ' +\n",
              "            '<a target=\"_blank\" href=https://colab.research.google.com/notebooks/data_table.ipynb>data table notebook</a>'\n",
              "            + ' to learn more about interactive tables.';\n",
              "          element.innerHTML = '';\n",
              "          dataTable['output_type'] = 'display_data';\n",
              "          await google.colab.output.renderOutput(dataTable, element);\n",
              "          const docLink = document.createElement('div');\n",
              "          docLink.innerHTML = docLinkHtml;\n",
              "          element.appendChild(docLink);\n",
              "        }\n",
              "      </script>\n",
              "    </div>\n",
              "  </div>\n",
              "  "
            ]
          },
          "metadata": {},
          "execution_count": 25
        }
      ],
      "source": [
        "df.corr()"
      ]
    },
    {
      "cell_type": "markdown",
      "metadata": {
        "id": "EF7-MZ94u-i4"
      },
      "source": [
        "#**DATA VISUALIZATION**"
      ]
    },
    {
      "cell_type": "code",
      "execution_count": null,
      "metadata": {
        "colab": {
          "base_uri": "https://localhost:8080/",
          "height": 394
        },
        "id": "y412ZqlDHVLg",
        "outputId": "fe0647c2-140b-4ff7-9182-d5d863a99d73"
      },
      "outputs": [
        {
          "output_type": "execute_result",
          "data": {
            "text/plain": [
              "                     Usage_kWh\n",
              "date                          \n",
              "2018-01-01 00:00:00       3.42\n",
              "2018-01-01 00:15:00       3.17\n",
              "2018-01-01 00:30:00       4.00\n",
              "2018-01-01 00:45:00       3.24\n",
              "2018-01-01 01:00:00       3.31\n",
              "2018-01-01 01:15:00       3.82\n",
              "2018-01-01 01:30:00       3.28\n",
              "2018-01-01 01:45:00       3.60\n",
              "2018-01-01 02:00:00       3.60\n",
              "2018-01-01 02:15:00       3.28"
            ],
            "text/html": [
              "\n",
              "  <div id=\"df-e5838683-f6a7-4e22-a9ab-b15901344d9f\">\n",
              "    <div class=\"colab-df-container\">\n",
              "      <div>\n",
              "<style scoped>\n",
              "    .dataframe tbody tr th:only-of-type {\n",
              "        vertical-align: middle;\n",
              "    }\n",
              "\n",
              "    .dataframe tbody tr th {\n",
              "        vertical-align: top;\n",
              "    }\n",
              "\n",
              "    .dataframe thead th {\n",
              "        text-align: right;\n",
              "    }\n",
              "</style>\n",
              "<table border=\"1\" class=\"dataframe\">\n",
              "  <thead>\n",
              "    <tr style=\"text-align: right;\">\n",
              "      <th></th>\n",
              "      <th>Usage_kWh</th>\n",
              "    </tr>\n",
              "    <tr>\n",
              "      <th>date</th>\n",
              "      <th></th>\n",
              "    </tr>\n",
              "  </thead>\n",
              "  <tbody>\n",
              "    <tr>\n",
              "      <th>2018-01-01 00:00:00</th>\n",
              "      <td>3.42</td>\n",
              "    </tr>\n",
              "    <tr>\n",
              "      <th>2018-01-01 00:15:00</th>\n",
              "      <td>3.17</td>\n",
              "    </tr>\n",
              "    <tr>\n",
              "      <th>2018-01-01 00:30:00</th>\n",
              "      <td>4.00</td>\n",
              "    </tr>\n",
              "    <tr>\n",
              "      <th>2018-01-01 00:45:00</th>\n",
              "      <td>3.24</td>\n",
              "    </tr>\n",
              "    <tr>\n",
              "      <th>2018-01-01 01:00:00</th>\n",
              "      <td>3.31</td>\n",
              "    </tr>\n",
              "    <tr>\n",
              "      <th>2018-01-01 01:15:00</th>\n",
              "      <td>3.82</td>\n",
              "    </tr>\n",
              "    <tr>\n",
              "      <th>2018-01-01 01:30:00</th>\n",
              "      <td>3.28</td>\n",
              "    </tr>\n",
              "    <tr>\n",
              "      <th>2018-01-01 01:45:00</th>\n",
              "      <td>3.60</td>\n",
              "    </tr>\n",
              "    <tr>\n",
              "      <th>2018-01-01 02:00:00</th>\n",
              "      <td>3.60</td>\n",
              "    </tr>\n",
              "    <tr>\n",
              "      <th>2018-01-01 02:15:00</th>\n",
              "      <td>3.28</td>\n",
              "    </tr>\n",
              "  </tbody>\n",
              "</table>\n",
              "</div>\n",
              "      <button class=\"colab-df-convert\" onclick=\"convertToInteractive('df-e5838683-f6a7-4e22-a9ab-b15901344d9f')\"\n",
              "              title=\"Convert this dataframe to an interactive table.\"\n",
              "              style=\"display:none;\">\n",
              "        \n",
              "  <svg xmlns=\"http://www.w3.org/2000/svg\" height=\"24px\"viewBox=\"0 0 24 24\"\n",
              "       width=\"24px\">\n",
              "    <path d=\"M0 0h24v24H0V0z\" fill=\"none\"/>\n",
              "    <path d=\"M18.56 5.44l.94 2.06.94-2.06 2.06-.94-2.06-.94-.94-2.06-.94 2.06-2.06.94zm-11 1L8.5 8.5l.94-2.06 2.06-.94-2.06-.94L8.5 2.5l-.94 2.06-2.06.94zm10 10l.94 2.06.94-2.06 2.06-.94-2.06-.94-.94-2.06-.94 2.06-2.06.94z\"/><path d=\"M17.41 7.96l-1.37-1.37c-.4-.4-.92-.59-1.43-.59-.52 0-1.04.2-1.43.59L10.3 9.45l-7.72 7.72c-.78.78-.78 2.05 0 2.83L4 21.41c.39.39.9.59 1.41.59.51 0 1.02-.2 1.41-.59l7.78-7.78 2.81-2.81c.8-.78.8-2.07 0-2.86zM5.41 20L4 18.59l7.72-7.72 1.47 1.35L5.41 20z\"/>\n",
              "  </svg>\n",
              "      </button>\n",
              "      \n",
              "  <style>\n",
              "    .colab-df-container {\n",
              "      display:flex;\n",
              "      flex-wrap:wrap;\n",
              "      gap: 12px;\n",
              "    }\n",
              "\n",
              "    .colab-df-convert {\n",
              "      background-color: #E8F0FE;\n",
              "      border: none;\n",
              "      border-radius: 50%;\n",
              "      cursor: pointer;\n",
              "      display: none;\n",
              "      fill: #1967D2;\n",
              "      height: 32px;\n",
              "      padding: 0 0 0 0;\n",
              "      width: 32px;\n",
              "    }\n",
              "\n",
              "    .colab-df-convert:hover {\n",
              "      background-color: #E2EBFA;\n",
              "      box-shadow: 0px 1px 2px rgba(60, 64, 67, 0.3), 0px 1px 3px 1px rgba(60, 64, 67, 0.15);\n",
              "      fill: #174EA6;\n",
              "    }\n",
              "\n",
              "    [theme=dark] .colab-df-convert {\n",
              "      background-color: #3B4455;\n",
              "      fill: #D2E3FC;\n",
              "    }\n",
              "\n",
              "    [theme=dark] .colab-df-convert:hover {\n",
              "      background-color: #434B5C;\n",
              "      box-shadow: 0px 1px 3px 1px rgba(0, 0, 0, 0.15);\n",
              "      filter: drop-shadow(0px 1px 2px rgba(0, 0, 0, 0.3));\n",
              "      fill: #FFFFFF;\n",
              "    }\n",
              "  </style>\n",
              "\n",
              "      <script>\n",
              "        const buttonEl =\n",
              "          document.querySelector('#df-e5838683-f6a7-4e22-a9ab-b15901344d9f button.colab-df-convert');\n",
              "        buttonEl.style.display =\n",
              "          google.colab.kernel.accessAllowed ? 'block' : 'none';\n",
              "\n",
              "        async function convertToInteractive(key) {\n",
              "          const element = document.querySelector('#df-e5838683-f6a7-4e22-a9ab-b15901344d9f');\n",
              "          const dataTable =\n",
              "            await google.colab.kernel.invokeFunction('convertToInteractive',\n",
              "                                                     [key], {});\n",
              "          if (!dataTable) return;\n",
              "\n",
              "          const docLinkHtml = 'Like what you see? Visit the ' +\n",
              "            '<a target=\"_blank\" href=https://colab.research.google.com/notebooks/data_table.ipynb>data table notebook</a>'\n",
              "            + ' to learn more about interactive tables.';\n",
              "          element.innerHTML = '';\n",
              "          dataTable['output_type'] = 'display_data';\n",
              "          await google.colab.output.renderOutput(dataTable, element);\n",
              "          const docLink = document.createElement('div');\n",
              "          docLink.innerHTML = docLinkHtml;\n",
              "          element.appendChild(docLink);\n",
              "        }\n",
              "      </script>\n",
              "    </div>\n",
              "  </div>\n",
              "  "
            ]
          },
          "metadata": {},
          "execution_count": 26
        }
      ],
      "source": [
        "most_energy_consumption = pd.pivot_table(df, index = 'date', values = 'Usage_kWh', aggfunc = {'Usage_kWh' : np.max})\n",
        "most_energy_consumption.head(10)"
      ]
    },
    {
      "cell_type": "code",
      "execution_count": null,
      "metadata": {
        "colab": {
          "base_uri": "https://localhost:8080/",
          "height": 353
        },
        "id": "LxwQhF3EHnOa",
        "outputId": "a89b3464-b901-4a1e-f593-0aa312715088"
      },
      "outputs": [
        {
          "output_type": "display_data",
          "data": {
            "text/plain": [
              "<Figure size 432x288 with 1 Axes>"
            ],
            "image/png": "[encoded data removed]"
          },
          "metadata": {
            "needs_background": "light"
          }
        }
      ],
      "source": [
        "chart = most_energy_consumption[:10].sort_values(by = 'Usage_kWh', ascending = False).plot(kind = 'line', color = 'tomato')\n",
        "date=['2018-01-01 00:00:00','2018-01-01 00:15:00','2018-01-01 00:30:00','2018-01-01 00:45:00','2018-01-01 01:00:00','2018-01-01 01:15:00','2018-01-01 01:30:00','2018-01-01 01:45:00','2018-01-01 02:00:00','2018-01-01 02:15:00']\n",
        "chart.set_xticklabels(date, rotation = 45)\n",
        "plt.title('The Most Energy Consumption', fontsize = 15, color = 'b', loc = 'center', pad = 12)\n",
        "plt.xlabel('Date')\n",
        "plt.ylabel('Energy Consumption')\n",
        "plt.show()"
      ]
    },
    {
      "cell_type": "code",
      "execution_count": null,
      "metadata": {
        "colab": {
          "base_uri": "https://localhost:8080/",
          "height": 304
        },
        "id": "xyfkt6LQIQNQ",
        "outputId": "4b29ac40-fd34-4366-dcc7-3f0c58cbdab6"
      },
      "outputs": [
        {
          "output_type": "display_data",
          "data": {
            "text/plain": [
              "<Figure size 432x288 with 1 Axes>"
            ],
            "image/png": "[encoded data removed]"
          },
          "metadata": {
            "needs_background": "light"
          }
        }
      ],
      "source": [
        "chart = df.boxplot(column = ['Usage_kWh'])\n",
        "chart.set_xticklabels(chart.get_xticklabels())\n",
        "plt.title('The Factor of Energy Consumption in Steel Industry', fontsize = 15, color = 'green', pad = 12)\n",
        "plt.xlabel('Factors')\n",
        "plt.ylabel('Count')\n",
        "plt.show()"
      ]
    },
    {
      "cell_type": "markdown",
      "metadata": {
        "id": "noqzGPMA4Rl6"
      },
      "source": [
        "USAGE_KWH:\n",
        "\n",
        "          min\t0.000000\n",
        "          25%\t3.200000\n",
        "          50%\t4.570000\n",
        "          75%\t51.237500\n",
        "          max\t157.180000"
      ]
    },
    {
      "cell_type": "code",
      "execution_count": null,
      "metadata": {
        "colab": {
          "base_uri": "https://localhost:8080/",
          "height": 304
        },
        "id": "PLlNK65MIT88",
        "outputId": "aaaaa6a6-b17e-443e-b5e3-a5287880db04"
      },
      "outputs": [
        {
          "output_type": "display_data",
          "data": {
            "text/plain": [
              "<Figure size 432x288 with 1 Axes>"
            ],
            "image/png": "[encoded data removed]"
          },
          "metadata": {
            "needs_background": "light"
          }
        }
      ],
      "source": [
        "chart = df.boxplot(column = ['Lagging_Current_Reactive.Power_kVarh'])\n",
        "chart.set_xticklabels(chart.get_xticklabels())\n",
        "plt.title('The Factor of Energy Consumption in Steel Industry', fontsize = 15, color = 'green', pad = 12)\n",
        "plt.xlabel('Factors')\n",
        "plt.ylabel('Count')\n",
        "plt.show()"
      ]
    },
    {
      "cell_type": "markdown",
      "metadata": {
        "id": "1D9y42On5a3N"
      },
      "source": [
        "Lagging_Current_Reactive.Power_kVarh:\n",
        "\n",
        "    "
      ]
    },
    {
      "cell_type": "code",
      "execution_count": null,
      "metadata": {
        "colab": {
          "base_uri": "https://localhost:8080/",
          "height": 304
        },
        "id": "lmMK26cpIpTT",
        "outputId": "8c5352f8-8217-4ba0-e29a-10b6c4228707"
      },
      "outputs": [
        {
          "output_type": "display_data",
          "data": {
            "text/plain": [
              "<Figure size 432x288 with 1 Axes>"
            ],
            "image/png": "[encoded data removed]"
          },
          "metadata": {
            "needs_background": "light"
          }
        }
      ],
      "source": [
        "chart = df.boxplot(column = ['Lagging_Current_Reactive.Power_kVarh'])\n",
        "chart.set_xticklabels(chart.get_xticklabels())\n",
        "plt.title('The Factor of Energy Consumption in Steel Industry', fontsize = 15, color = 'green', pad = 12)\n",
        "plt.xlabel('Factors')\n",
        "plt.ylabel('Count')\n",
        "plt.show()"
      ]
    },
    {
      "cell_type": "code",
      "execution_count": null,
      "metadata": {
        "colab": {
          "base_uri": "https://localhost:8080/",
          "height": 304
        },
        "id": "Yp2Gp5OFIrq2",
        "outputId": "14e249c2-a9f7-4ea9-8172-fc7d0aa47765"
      },
      "outputs": [
        {
          "output_type": "display_data",
          "data": {
            "text/plain": [
              "<Figure size 432x288 with 1 Axes>"
            ],
            "image/png": "[encoded data removed]"
          },
          "metadata": {
            "needs_background": "light"
          }
        }
      ],
      "source": [
        "chart = df.boxplot(column = ['Leading_Current_Reactive_Power_kVarh'])\n",
        "chart.set_xticklabels(chart.get_xticklabels())\n",
        "plt.title('The Factor of Energy Consumption in Steel Industry', fontsize = 15, color = 'green', pad = 12)\n",
        "plt.xlabel('Factors')\n",
        "plt.ylabel('Count')\n",
        "plt.show()"
      ]
    },
    {
      "cell_type": "code",
      "execution_count": null,
      "metadata": {
        "colab": {
          "base_uri": "https://localhost:8080/",
          "height": 303
        },
        "id": "wVF0usofIytU",
        "outputId": "31587664-974c-4b1e-c92a-8e5b235deb49"
      },
      "outputs": [
        {
          "output_type": "display_data",
          "data": {
            "text/plain": [
              "<Figure size 432x288 with 1 Axes>"
            ],
            "image/png": "[encoded data removed]"
          },
          "metadata": {
            "needs_background": "light"
          }
        }
      ],
      "source": [
        "chart = df.boxplot(column = ['CO2(tCO2)'])\n",
        "chart.set_xticklabels(chart.get_xticklabels())\n",
        "plt.title('The Factor of Energy Consumption in Steel Industry', fontsize = 15, color = 'green', pad = 12)\n",
        "plt.xlabel('Factors')\n",
        "plt.ylabel('Count')\n",
        "plt.show()"
      ]
    },
    {
      "cell_type": "code",
      "execution_count": null,
      "metadata": {
        "colab": {
          "base_uri": "https://localhost:8080/",
          "height": 304
        },
        "id": "nLaw7x8II2Te",
        "outputId": "f8f99c9a-cbf6-451f-af82-eb74006023dd"
      },
      "outputs": [
        {
          "output_type": "display_data",
          "data": {
            "text/plain": [
              "<Figure size 432x288 with 1 Axes>"
            ],
            "image/png": "[encoded data removed]"
          },
          "metadata": {
            "needs_background": "light"
          }
        }
      ],
      "source": [
        "chart = df.boxplot(column = ['Lagging_Current_Power_Factor'])\n",
        "chart.set_xticklabels(chart.get_xticklabels())\n",
        "plt.title('The Factor of Energy Consumption in Steel Industry', fontsize = 15, color = 'green', pad = 12)\n",
        "plt.xlabel('Factors')\n",
        "plt.ylabel('Count')\n",
        "plt.show()"
      ]
    },
    {
      "cell_type": "code",
      "execution_count": null,
      "metadata": {
        "colab": {
          "base_uri": "https://localhost:8080/",
          "height": 304
        },
        "id": "qmlbssQcI7CH",
        "outputId": "6d362549-351a-4694-81cb-1a0854aa379e"
      },
      "outputs": [
        {
          "output_type": "display_data",
          "data": {
            "text/plain": [
              "<Figure size 432x288 with 1 Axes>"
            ],
            "image/png": "[encoded data removed]"
          },
          "metadata": {
            "needs_background": "light"
          }
        }
      ],
      "source": [
        "chart = df.boxplot(column = ['Leading_Current_Power_Factor'])\n",
        "chart.set_xticklabels(chart.get_xticklabels())\n",
        "plt.title('The Factor of Energy Consumption in Steel Industry', fontsize = 15, color = 'green', pad = 12)\n",
        "plt.xlabel('Factors')\n",
        "plt.ylabel('Count')\n",
        "plt.show()"
      ]
    },
    {
      "cell_type": "code",
      "execution_count": null,
      "metadata": {
        "colab": {
          "base_uri": "https://localhost:8080/",
          "height": 303
        },
        "id": "SVwknHJ5I_z_",
        "outputId": "bd7c9374-1ea3-43f7-bd55-590e453c9ed5"
      },
      "outputs": [
        {
          "output_type": "display_data",
          "data": {
            "text/plain": [
              "<Figure size 432x288 with 1 Axes>"
            ],
            "image/png": "[encoded data removed]"
          },
          "metadata": {
            "needs_background": "light"
          }
        }
      ],
      "source": [
        "chart = df.boxplot(column = ['NSM'])\n",
        "chart.set_xticklabels(chart.get_xticklabels())\n",
        "plt.title('The Factor of Energy Consumption in Steel Industry', fontsize = 15, color = 'green', pad = 12)\n",
        "plt.xlabel('Factors')\n",
        "plt.ylabel('Count')\n",
        "plt.show()"
      ]
    },
    {
      "cell_type": "code",
      "execution_count": null,
      "metadata": {
        "colab": {
          "base_uri": "https://localhost:8080/",
          "height": 739
        },
        "id": "pppLWybEJGOh",
        "outputId": "08b25804-ac2a-4cda-dab4-8dffd2b6cefe"
      },
      "outputs": [
        {
          "output_type": "execute_result",
          "data": {
            "text/plain": [
              "                                              NSM  Usage_kWh\n",
              "Load_Type    Day_of_week WeekStatus                         \n",
              "Light_Load   Friday      Weekday     23206.204380  11.361442\n",
              "             Monday      Weekday     24026.223776   8.805459\n",
              "             Saturday    Weekend     31381.843575   7.072210\n",
              "             Sunday      Weekend     39144.653465   4.171106\n",
              "             Thursday    Weekday     23206.204380  11.803964\n",
              "             Tuesday     Weekday     24074.199288  10.510040\n",
              "             Wednesday   Weekday     24074.199288  10.780560\n",
              "Maximum_Load Friday      Weekday     53106.000000  61.043700\n",
              "             Monday      Weekday     53106.000000  66.278233\n",
              "             Saturday    Weekend     52492.105263  41.529605\n",
              "             Sunday      Weekend     52826.470588  29.195662\n",
              "             Thursday    Weekday     53106.000000  64.522758\n",
              "             Tuesday     Weekday     53176.530612  66.023359\n",
              "             Wednesday   Weekday     53176.530612  62.358359\n",
              "Medium_Load  Friday      Weekday     61758.000000  42.220494\n",
              "             Monday      Weekday     61758.000000  43.097231\n",
              "             Saturday    Weekend     62218.421053  17.547648\n",
              "             Sunday      Weekend     61967.647059  16.368934\n",
              "             Thursday    Weekday     61758.000000  44.986200\n",
              "             Tuesday     Weekday     61705.102041  45.020797\n",
              "             Wednesday   Weekday     61705.102041  40.462379"
            ],
            "text/html": [
              "\n",
              "  <div id=\"df-151e2961-4568-4d09-a062-553f9fb56fb2\">\n",
              "    <div class=\"colab-df-container\">\n",
              "      <div>\n",
              "<style scoped>\n",
              "    .dataframe tbody tr th:only-of-type {\n",
              "        vertical-align: middle;\n",
              "    }\n",
              "\n",
              "    .dataframe tbody tr th {\n",
              "        vertical-align: top;\n",
              "    }\n",
              "\n",
              "    .dataframe thead th {\n",
              "        text-align: right;\n",
              "    }\n",
              "</style>\n",
              "<table border=\"1\" class=\"dataframe\">\n",
              "  <thead>\n",
              "    <tr style=\"text-align: right;\">\n",
              "      <th></th>\n",
              "      <th></th>\n",
              "      <th></th>\n",
              "      <th>NSM</th>\n",
              "      <th>Usage_kWh</th>\n",
              "    </tr>\n",
              "    <tr>\n",
              "      <th>Load_Type</th>\n",
              "      <th>Day_of_week</th>\n",
              "      <th>WeekStatus</th>\n",
              "      <th></th>\n",
              "      <th></th>\n",
              "    </tr>\n",
              "  </thead>\n",
              "  <tbody>\n",
              "    <tr>\n",
              "      <th rowspan=\"7\" valign=\"top\">Light_Load</th>\n",
              "      <th>Friday</th>\n",
              "      <th>Weekday</th>\n",
              "      <td>23206.204380</td>\n",
              "      <td>11.361442</td>\n",
              "    </tr>\n",
              "    <tr>\n",
              "      <th>Monday</th>\n",
              "      <th>Weekday</th>\n",
              "      <td>24026.223776</td>\n",
              "      <td>8.805459</td>\n",
              "    </tr>\n",
              "    <tr>\n",
              "      <th>Saturday</th>\n",
              "      <th>Weekend</th>\n",
              "      <td>31381.843575</td>\n",
              "      <td>7.072210</td>\n",
              "    </tr>\n",
              "    <tr>\n",
              "      <th>Sunday</th>\n",
              "      <th>Weekend</th>\n",
              "      <td>39144.653465</td>\n",
              "      <td>4.171106</td>\n",
              "    </tr>\n",
              "    <tr>\n",
              "      <th>Thursday</th>\n",
              "      <th>Weekday</th>\n",
              "      <td>23206.204380</td>\n",
              "      <td>11.803964</td>\n",
              "    </tr>\n",
              "    <tr>\n",
              "      <th>Tuesday</th>\n",
              "      <th>Weekday</th>\n",
              "      <td>24074.199288</td>\n",
              "      <td>10.510040</td>\n",
              "    </tr>\n",
              "    <tr>\n",
              "      <th>Wednesday</th>\n",
              "      <th>Weekday</th>\n",
              "      <td>24074.199288</td>\n",
              "      <td>10.780560</td>\n",
              "    </tr>\n",
              "    <tr>\n",
              "      <th rowspan=\"7\" valign=\"top\">Maximum_Load</th>\n",
              "      <th>Friday</th>\n",
              "      <th>Weekday</th>\n",
              "      <td>53106.000000</td>\n",
              "      <td>61.043700</td>\n",
              "    </tr>\n",
              "    <tr>\n",
              "      <th>Monday</th>\n",
              "      <th>Weekday</th>\n",
              "      <td>53106.000000</td>\n",
              "      <td>66.278233</td>\n",
              "    </tr>\n",
              "    <tr>\n",
              "      <th>Saturday</th>\n",
              "      <th>Weekend</th>\n",
              "      <td>52492.105263</td>\n",
              "      <td>41.529605</td>\n",
              "    </tr>\n",
              "    <tr>\n",
              "      <th>Sunday</th>\n",
              "      <th>Weekend</th>\n",
              "      <td>52826.470588</td>\n",
              "      <td>29.195662</td>\n",
              "    </tr>\n",
              "    <tr>\n",
              "      <th>Thursday</th>\n",
              "      <th>Weekday</th>\n",
              "      <td>53106.000000</td>\n",
              "      <td>64.522758</td>\n",
              "    </tr>\n",
              "    <tr>\n",
              "      <th>Tuesday</th>\n",
              "      <th>Weekday</th>\n",
              "      <td>53176.530612</td>\n",
              "      <td>66.023359</td>\n",
              "    </tr>\n",
              "    <tr>\n",
              "      <th>Wednesday</th>\n",
              "      <th>Weekday</th>\n",
              "      <td>53176.530612</td>\n",
              "      <td>62.358359</td>\n",
              "    </tr>\n",
              "    <tr>\n",
              "      <th rowspan=\"7\" valign=\"top\">Medium_Load</th>\n",
              "      <th>Friday</th>\n",
              "      <th>Weekday</th>\n",
              "      <td>61758.000000</td>\n",
              "      <td>42.220494</td>\n",
              "    </tr>\n",
              "    <tr>\n",
              "      <th>Monday</th>\n",
              "      <th>Weekday</th>\n",
              "      <td>61758.000000</td>\n",
              "      <td>43.097231</td>\n",
              "    </tr>\n",
              "    <tr>\n",
              "      <th>Saturday</th>\n",
              "      <th>Weekend</th>\n",
              "      <td>62218.421053</td>\n",
              "      <td>17.547648</td>\n",
              "    </tr>\n",
              "    <tr>\n",
              "      <th>Sunday</th>\n",
              "      <th>Weekend</th>\n",
              "      <td>61967.647059</td>\n",
              "      <td>16.368934</td>\n",
              "    </tr>\n",
              "    <tr>\n",
              "      <th>Thursday</th>\n",
              "      <th>Weekday</th>\n",
              "      <td>61758.000000</td>\n",
              "      <td>44.986200</td>\n",
              "    </tr>\n",
              "    <tr>\n",
              "      <th>Tuesday</th>\n",
              "      <th>Weekday</th>\n",
              "      <td>61705.102041</td>\n",
              "      <td>45.020797</td>\n",
              "    </tr>\n",
              "    <tr>\n",
              "      <th>Wednesday</th>\n",
              "      <th>Weekday</th>\n",
              "      <td>61705.102041</td>\n",
              "      <td>40.462379</td>\n",
              "    </tr>\n",
              "  </tbody>\n",
              "</table>\n",
              "</div>\n",
              "      <button class=\"colab-df-convert\" onclick=\"convertToInteractive('df-151e2961-4568-4d09-a062-553f9fb56fb2')\"\n",
              "              title=\"Convert this dataframe to an interactive table.\"\n",
              "              style=\"display:none;\">\n",
              "        \n",
              "  <svg xmlns=\"http://www.w3.org/2000/svg\" height=\"24px\"viewBox=\"0 0 24 24\"\n",
              "       width=\"24px\">\n",
              "    <path d=\"M0 0h24v24H0V0z\" fill=\"none\"/>\n",
              "    <path d=\"M18.56 5.44l.94 2.06.94-2.06 2.06-.94-2.06-.94-.94-2.06-.94 2.06-2.06.94zm-11 1L8.5 8.5l.94-2.06 2.06-.94-2.06-.94L8.5 2.5l-.94 2.06-2.06.94zm10 10l.94 2.06.94-2.06 2.06-.94-2.06-.94-.94-2.06-.94 2.06-2.06.94z\"/><path d=\"M17.41 7.96l-1.37-1.37c-.4-.4-.92-.59-1.43-.59-.52 0-1.04.2-1.43.59L10.3 9.45l-7.72 7.72c-.78.78-.78 2.05 0 2.83L4 21.41c.39.39.9.59 1.41.59.51 0 1.02-.2 1.41-.59l7.78-7.78 2.81-2.81c.8-.78.8-2.07 0-2.86zM5.41 20L4 18.59l7.72-7.72 1.47 1.35L5.41 20z\"/>\n",
              "  </svg>\n",
              "      </button>\n",
              "      \n",
              "  <style>\n",
              "    .colab-df-container {\n",
              "      display:flex;\n",
              "      flex-wrap:wrap;\n",
              "      gap: 12px;\n",
              "    }\n",
              "\n",
              "    .colab-df-convert {\n",
              "      background-color: #E8F0FE;\n",
              "      border: none;\n",
              "      border-radius: 50%;\n",
              "      cursor: pointer;\n",
              "      display: none;\n",
              "      fill: #1967D2;\n",
              "      height: 32px;\n",
              "      padding: 0 0 0 0;\n",
              "      width: 32px;\n",
              "    }\n",
              "\n",
              "    .colab-df-convert:hover {\n",
              "      background-color: #E2EBFA;\n",
              "      box-shadow: 0px 1px 2px rgba(60, 64, 67, 0.3), 0px 1px 3px 1px rgba(60, 64, 67, 0.15);\n",
              "      fill: #174EA6;\n",
              "    }\n",
              "\n",
              "    [theme=dark] .colab-df-convert {\n",
              "      background-color: #3B4455;\n",
              "      fill: #D2E3FC;\n",
              "    }\n",
              "\n",
              "    [theme=dark] .colab-df-convert:hover {\n",
              "      background-color: #434B5C;\n",
              "      box-shadow: 0px 1px 3px 1px rgba(0, 0, 0, 0.15);\n",
              "      filter: drop-shadow(0px 1px 2px rgba(0, 0, 0, 0.3));\n",
              "      fill: #FFFFFF;\n",
              "    }\n",
              "  </style>\n",
              "\n",
              "      <script>\n",
              "        const buttonEl =\n",
              "          document.querySelector('#df-151e2961-4568-4d09-a062-553f9fb56fb2 button.colab-df-convert');\n",
              "        buttonEl.style.display =\n",
              "          google.colab.kernel.accessAllowed ? 'block' : 'none';\n",
              "\n",
              "        async function convertToInteractive(key) {\n",
              "          const element = document.querySelector('#df-151e2961-4568-4d09-a062-553f9fb56fb2');\n",
              "          const dataTable =\n",
              "            await google.colab.kernel.invokeFunction('convertToInteractive',\n",
              "                                                     [key], {});\n",
              "          if (!dataTable) return;\n",
              "\n",
              "          const docLinkHtml = 'Like what you see? Visit the ' +\n",
              "            '<a target=\"_blank\" href=https://colab.research.google.com/notebooks/data_table.ipynb>data table notebook</a>'\n",
              "            + ' to learn more about interactive tables.';\n",
              "          element.innerHTML = '';\n",
              "          dataTable['output_type'] = 'display_data';\n",
              "          await google.colab.output.renderOutput(dataTable, element);\n",
              "          const docLink = document.createElement('div');\n",
              "          docLink.innerHTML = docLinkHtml;\n",
              "          element.appendChild(docLink);\n",
              "        }\n",
              "      </script>\n",
              "    </div>\n",
              "  </div>\n",
              "  "
            ]
          },
          "metadata": {},
          "execution_count": 36
        }
      ],
      "source": [
        "#analyze of energy consumption and NSM based on load type, day of week and week status\n",
        "pd.pivot_table(df, index = ['Load_Type', 'Day_of_week', 'WeekStatus'], values = ['NSM', 'Usage_kWh'],\n",
        "               aggfunc = {'NSM' : np.mean, 'Usage_kWh' : np.mean})"
      ]
    },
    {
      "cell_type": "code",
      "execution_count": null,
      "metadata": {
        "colab": {
          "base_uri": "https://localhost:8080/",
          "height": 359
        },
        "id": "P2NDplYFJLPg",
        "outputId": "3635ce3f-7d1e-4d8b-a674-a5414f7772f1"
      },
      "outputs": [
        {
          "output_type": "display_data",
          "data": {
            "text/plain": [
              "<Figure size 1080x360 with 2 Axes>"
            ],
            "image/png": "[encoded data removed]"
          },
          "metadata": {
            "needs_background": "light"
          }
        }
      ],
      "source": [
        "#visualize energy consumption based on load type\n",
        "plt.rcParams['figure.figsize'] = (15,5)\n",
        "plt.subplot(1, 2, 1)\n",
        "chart = df.groupby('Load_Type')['Usage_kWh'].mean().sort_values(ascending = False).plot(kind = 'bar', color = 'orangered')\n",
        "chart.set_xticklabels(chart.get_xticklabels(), rotation = 0)\n",
        "plt.title('Energy Consumption based on Load Type', fontsize = 15, color = 'b', pad = 12)\n",
        "plt.xlabel('Load Type')\n",
        "plt.ylabel('Energy Consumption')\n",
        "\n",
        "#visualize number of second from midnight based on load type\n",
        "plt.subplot(1, 2, 2)\n",
        "chart = df.groupby('Load_Type')['NSM'].mean().sort_values(ascending = False).plot(kind = 'bar', color = 'gold')\n",
        "chart.set_xticklabels(chart.get_xticklabels(), rotation = 0)\n",
        "plt.title('Number of Second from Midnight based on Load Type', fontsize = 15, color = 'b', pad = 12)\n",
        "plt.xlabel('Load Type')\n",
        "plt.ylabel('Number of Second from Midnight')\n",
        "plt.show()"
      ]
    },
    {
      "cell_type": "code",
      "execution_count": null,
      "metadata": {
        "colab": {
          "base_uri": "https://localhost:8080/",
          "height": 361
        },
        "id": "KlDal6VRJPaq",
        "outputId": "fc283b4c-6548-4770-f107-9e46070a5f45"
      },
      "outputs": [
        {
          "output_type": "display_data",
          "data": {
            "text/plain": [
              "<Figure size 504x360 with 1 Axes>"
            ],
            "image/png": "[encoded data removed]"
          },
          "metadata": {
            "needs_background": "light"
          }
        }
      ],
      "source": [
        "#visualize energy consumption based on week status and load type\n",
        "plt.rcParams['figure.figsize'] = (7,5)\n",
        "chart = df.groupby(['WeekStatus','Load_Type'])['Usage_kWh'].mean().unstack().plot(kind = 'bar')\n",
        "chart.set_xticklabels(chart.get_xticklabels(), rotation = 0)\n",
        "plt.title('Energy Consumption based on Week Status and Load Type', fontsize = 15, pad = 15, color = 'b')\n",
        "plt.xlabel('Week Status')\n",
        "plt.ylabel('Energy Consumption')\n",
        "plt.legend(bbox_to_anchor = (1.3, 1), borderaxespad = 0)\n",
        "plt.show()"
      ]
    },
    {
      "cell_type": "code",
      "execution_count": null,
      "metadata": {
        "colab": {
          "base_uri": "https://localhost:8080/",
          "height": 399
        },
        "id": "EAcuuaM9JT70",
        "outputId": "5ac9074c-b53a-4a2d-d38b-f1c4322183cf"
      },
      "outputs": [
        {
          "output_type": "display_data",
          "data": {
            "text/plain": [
              "<Figure size 504x360 with 1 Axes>"
            ],
            "image/png": "[encoded data removed]"
          },
          "metadata": {
            "needs_background": "light"
          }
        }
      ],
      "source": [
        "#visualize energy consumption based on day of week and load type\n",
        "chart = df.groupby(['Day_of_week','Load_Type'])['Usage_kWh'].mean().unstack().plot(kind = 'bar')\n",
        "chart.set_xticklabels(chart.get_xticklabels(), rotation = 45)\n",
        "plt.title('Energy Consumption based on Day of Week and Load Type', fontsize = 15, pad = 15, color = 'b')\n",
        "plt.xlabel('Day of Week')\n",
        "plt.ylabel('Energy Consumption')\n",
        "plt.legend(bbox_to_anchor = (1.01, 1), borderaxespad = 0)\n",
        "plt.show()"
      ]
    },
    {
      "cell_type": "code",
      "execution_count": null,
      "metadata": {
        "colab": {
          "base_uri": "https://localhost:8080/",
          "height": 361
        },
        "id": "chkcu8YEJYmx",
        "outputId": "f6d2d6f6-b912-41ca-e767-b95c97198fbf"
      },
      "outputs": [
        {
          "output_type": "display_data",
          "data": {
            "text/plain": [
              "<Figure size 504x360 with 1 Axes>"
            ],
            "image/png": "[encoded data removed]"
          },
          "metadata": {
            "needs_background": "light"
          }
        }
      ],
      "source": [
        "#visualize number of second from midnight based on week status and load type\n",
        "chart = df.groupby(['WeekStatus','Load_Type'])['NSM'].mean().unstack().plot(kind = 'bar')\n",
        "chart.set_xticklabels(chart.get_xticklabels(), rotation = 0)\n",
        "plt.title('Number of Second from Midnight based on Week Status and Load Type', fontsize = 15, pad = 15, color = 'b')\n",
        "plt.xlabel('Week Status')\n",
        "plt.ylabel('Number of Second from Midnight')\n",
        "plt.legend(bbox_to_anchor = (1.3, 1), borderaxespad = 0)\n",
        "plt.show()"
      ]
    },
    {
      "cell_type": "code",
      "execution_count": null,
      "metadata": {
        "colab": {
          "base_uri": "https://localhost:8080/",
          "height": 399
        },
        "id": "3k8i0PyUJa3K",
        "outputId": "ac85c997-862d-47bb-ed41-2bc32c9a824c"
      },
      "outputs": [
        {
          "output_type": "display_data",
          "data": {
            "text/plain": [
              "<Figure size 504x360 with 1 Axes>"
            ],
            "image/png": "[encoded data removed]"
          },
          "metadata": {
            "needs_background": "light"
          }
        }
      ],
      "source": [
        "#visualize number of second from midnight based on day of week and load type\n",
        "chart = df.groupby(['Day_of_week','Load_Type'])['NSM'].mean().unstack().plot(kind = 'bar')\n",
        "chart.set_xticklabels(chart.get_xticklabels(), rotation = 45)\n",
        "plt.title('Number of Second from Midnight based on Day of Week and Load Type', fontsize = 15, pad = 15, color = 'b')\n",
        "plt.xlabel('Day of Week')\n",
        "plt.ylabel('Number of Second from Midnight')\n",
        "plt.legend(bbox_to_anchor = (1.01, 1), borderaxespad = 0)\n",
        "plt.show()"
      ]
    },
    {
      "cell_type": "code",
      "execution_count": null,
      "metadata": {
        "colab": {
          "base_uri": "https://localhost:8080/",
          "height": 529
        },
        "id": "7cXJnNuH7zA3",
        "outputId": "a1f14287-7eb9-4c8f-d8a5-881a2875d9d0"
      },
      "outputs": [
        {
          "output_type": "execute_result",
          "data": {
            "text/plain": [
              "<matplotlib.axes._subplots.AxesSubplot at 0x7f9b6f336760>"
            ]
          },
          "metadata": {},
          "execution_count": 42
        },
        {
          "output_type": "display_data",
          "data": {
            "text/plain": [
              "<Figure size 504x360 with 2 Axes>"
            ],
            "image/png": "[encoded data removed]"
          },
          "metadata": {
            "needs_background": "light"
          }
        }
      ],
      "source": [
        "corr=df.corr()\n",
        "sns.heatmap(corr,annot=True)"
      ]
    },
    {
      "cell_type": "code",
      "execution_count": null,
      "metadata": {
        "colab": {
          "base_uri": "https://localhost:8080/",
          "height": 1000
        },
        "id": "PHsAEgM-JhPm",
        "outputId": "69f47f81-b5c3-4279-c672-a6f50bbe596c"
      },
      "outputs": [
        {
          "output_type": "display_data",
          "data": {
            "text/plain": [
              "<Figure size 360x360 with 1 Axes>"
            ],
            "image/png": "[encoded data removed]"
          },
          "metadata": {
            "needs_background": "light"
          }
        },
        {
          "output_type": "display_data",
          "data": {
            "text/plain": [
              "<Figure size 360x360 with 1 Axes>"
            ],
            "image/png": "[encoded data removed]"
          },
          "metadata": {
            "needs_background": "light"
          }
        },
        {
          "output_type": "display_data",
          "data": {
            "text/plain": [
              "<Figure size 360x360 with 1 Axes>"
            ],
            "image/png": "[encoded data removed]"
          },
          "metadata": {
            "needs_background": "light"
          }
        },
        {
          "output_type": "display_data",
          "data": {
            "text/plain": [
              "<Figure size 360x360 with 1 Axes>"
            ],
            "image/png": "[encoded data removed]"
          },
          "metadata": {
            "needs_background": "light"
          }
        },
        {
          "output_type": "display_data",
          "data": {
            "text/plain": [
              "<Figure size 360x360 with 1 Axes>"
            ],
            "image/png": "[encoded data removed]"
          },
          "metadata": {
            "needs_background": "light"
          }
        },
        {
          "output_type": "display_data",
          "data": {
            "text/plain": [
              "<Figure size 360x360 with 1 Axes>"
            ],
            "image/png": "[encoded data removed]"
          },
          "metadata": {
            "needs_background": "light"
          }
        }
      ],
      "source": [
        "df.hist(column='Usage_kWh',figsize = (5,5),color=\"green\")\n",
        "df.hist(column='Lagging_Current_Reactive.Power_kVarh',figsize = (5,5),color=\"red\")\n",
        "df.hist(column='Leading_Current_Reactive_Power_kVarh',figsize = (5,5),color=\"purple\")\n",
        "df.hist(column='Lagging_Current_Power_Factor',figsize = (5,5),color=\"yellow\")\n",
        "df.hist(column='Leading_Current_Power_Factor',figsize = (5,5),color=\"brown\")\n",
        "df.hist(column='NSM',figsize = (5,5))\n",
        "plt.show()"
      ]
    },
    {
      "cell_type": "markdown",
      "metadata": {
        "id": "tp_mFWhfzv9t"
      },
      "source": [
        "#**FEATURE** **ENGINEERING**\n",
        "\n"
      ]
    },
    {
      "cell_type": "markdown",
      "metadata": {
        "id": "3hz0qm1Azxfd"
      },
      "source": [
        "1. Feature Splitting"
      ]
    },
    {
      "cell_type": "code",
      "execution_count": null,
      "metadata": {
        "colab": {
          "base_uri": "https://localhost:8080/",
          "height": 748
        },
        "id": "59g7e4_nvxUi",
        "outputId": "cb8899b0-ae5d-4a22-8bc2-d30921a16a40"
      },
      "outputs": [
        {
          "output_type": "stream",
          "name": "stdout",
          "text": [
            "Index(['Usage_kWh', 'Lagging_Current_Reactive.Power_kVarh',\n",
            "       'Leading_Current_Reactive_Power_kVarh', 'CO2(tCO2)',\n",
            "       'Lagging_Current_Power_Factor', 'Leading_Current_Power_Factor', 'NSM',\n",
            "       'WeekStatus', 'Day_of_week', 'Load_Type', 'Date', 'Time'],\n",
            "      dtype='object')\n"
          ]
        },
        {
          "output_type": "execute_result",
          "data": {
            "text/plain": [
              "             Date      Time  Usage_kWh  Lagging_Current_Reactive.Power_kVarh  \\\n",
              "0      2018-01-01  00:15:00       3.17                                  2.95   \n",
              "1      2018-01-01  00:30:00       4.00                                  4.46   \n",
              "2      2018-01-01  00:45:00       3.24                                  3.28   \n",
              "3      2018-01-01  01:00:00       3.31                                  3.56   \n",
              "4      2018-01-01  01:15:00       3.82                                  4.50   \n",
              "...           ...       ...        ...                                   ...   \n",
              "35035  2018-12-31  23:00:00       3.85                                  4.86   \n",
              "35036  2018-12-31  23:15:00       3.74                                  3.74   \n",
              "35037  2018-12-31  23:30:00       3.78                                  3.17   \n",
              "35038  2018-12-31  23:45:00       3.78                                  3.06   \n",
              "35039  2018-12-31  00:00:00       3.67                                  3.02   \n",
              "\n",
              "       Leading_Current_Reactive_Power_kVarh  CO2(tCO2)  \\\n",
              "0                                      0.00        0.0   \n",
              "1                                      0.00        0.0   \n",
              "2                                      0.00        0.0   \n",
              "3                                      0.00        0.0   \n",
              "4                                      0.00        0.0   \n",
              "...                                     ...        ...   \n",
              "35035                                  0.00        0.0   \n",
              "35036                                  0.00        0.0   \n",
              "35037                                  0.07        0.0   \n",
              "35038                                  0.11        0.0   \n",
              "35039                                  0.07        0.0   \n",
              "\n",
              "       Lagging_Current_Power_Factor  Leading_Current_Power_Factor    NSM  \\\n",
              "0                             73.21                        100.00    900   \n",
              "1                             66.77                        100.00   1800   \n",
              "2                             70.28                        100.00   2700   \n",
              "3                             68.09                        100.00   3600   \n",
              "4                             64.72                        100.00   4500   \n",
              "...                             ...                           ...    ...   \n",
              "35035                         62.10                        100.00  82800   \n",
              "35036                         70.71                        100.00  83700   \n",
              "35037                         76.62                         99.98  84600   \n",
              "35038                         77.72                         99.96  85500   \n",
              "35039                         77.22                         99.98      0   \n",
              "\n",
              "      WeekStatus Day_of_week   Load_Type  \n",
              "0        Weekday      Monday  Light_Load  \n",
              "1        Weekday      Monday  Light_Load  \n",
              "2        Weekday      Monday  Light_Load  \n",
              "3        Weekday      Monday  Light_Load  \n",
              "4        Weekday      Monday  Light_Load  \n",
              "...          ...         ...         ...  \n",
              "35035    Weekday      Monday  Light_Load  \n",
              "35036    Weekday      Monday  Light_Load  \n",
              "35037    Weekday      Monday  Light_Load  \n",
              "35038    Weekday      Monday  Light_Load  \n",
              "35039    Weekday      Monday  Light_Load  \n",
              "\n",
              "[35040 rows x 12 columns]"
            ],
            "text/html": [
              "\n",
              "  <div id=\"df-a60114ec-fd30-4e20-84f9-751e950659e9\">\n",
              "    <div class=\"colab-df-container\">\n",
              "      <div>\n",
              "<style scoped>\n",
              "    .dataframe tbody tr th:only-of-type {\n",
              "        vertical-align: middle;\n",
              "    }\n",
              "\n",
              "    .dataframe tbody tr th {\n",
              "        vertical-align: top;\n",
              "    }\n",
              "\n",
              "    .dataframe thead th {\n",
              "        text-align: right;\n",
              "    }\n",
              "</style>\n",
              "<table border=\"1\" class=\"dataframe\">\n",
              "  <thead>\n",
              "    <tr style=\"text-align: right;\">\n",
              "      <th></th>\n",
              "      <th>Date</th>\n",
              "      <th>Time</th>\n",
              "      <th>Usage_kWh</th>\n",
              "      <th>Lagging_Current_Reactive.Power_kVarh</th>\n",
              "      <th>Leading_Current_Reactive_Power_kVarh</th>\n",
              "      <th>CO2(tCO2)</th>\n",
              "      <th>Lagging_Current_Power_Factor</th>\n",
              "      <th>Leading_Current_Power_Factor</th>\n",
              "      <th>NSM</th>\n",
              "      <th>WeekStatus</th>\n",
              "      <th>Day_of_week</th>\n",
              "      <th>Load_Type</th>\n",
              "    </tr>\n",
              "  </thead>\n",
              "  <tbody>\n",
              "    <tr>\n",
              "      <th>0</th>\n",
              "      <td>2018-01-01</td>\n",
              "      <td>00:15:00</td>\n",
              "      <td>3.17</td>\n",
              "      <td>2.95</td>\n",
              "      <td>0.00</td>\n",
              "      <td>0.0</td>\n",
              "      <td>73.21</td>\n",
              "      <td>100.00</td>\n",
              "      <td>900</td>\n",
              "      <td>Weekday</td>\n",
              "      <td>Monday</td>\n",
              "      <td>Light_Load</td>\n",
              "    </tr>\n",
              "    <tr>\n",
              "      <th>1</th>\n",
              "      <td>2018-01-01</td>\n",
              "      <td>00:30:00</td>\n",
              "      <td>4.00</td>\n",
              "      <td>4.46</td>\n",
              "      <td>0.00</td>\n",
              "      <td>0.0</td>\n",
              "      <td>66.77</td>\n",
              "      <td>100.00</td>\n",
              "      <td>1800</td>\n",
              "      <td>Weekday</td>\n",
              "      <td>Monday</td>\n",
              "      <td>Light_Load</td>\n",
              "    </tr>\n",
              "    <tr>\n",
              "      <th>2</th>\n",
              "      <td>2018-01-01</td>\n",
              "      <td>00:45:00</td>\n",
              "      <td>3.24</td>\n",
              "      <td>3.28</td>\n",
              "      <td>0.00</td>\n",
              "      <td>0.0</td>\n",
              "      <td>70.28</td>\n",
              "      <td>100.00</td>\n",
              "      <td>2700</td>\n",
              "      <td>Weekday</td>\n",
              "      <td>Monday</td>\n",
              "      <td>Light_Load</td>\n",
              "    </tr>\n",
              "    <tr>\n",
              "      <th>3</th>\n",
              "      <td>2018-01-01</td>\n",
              "      <td>01:00:00</td>\n",
              "      <td>3.31</td>\n",
              "      <td>3.56</td>\n",
              "      <td>0.00</td>\n",
              "      <td>0.0</td>\n",
              "      <td>68.09</td>\n",
              "      <td>100.00</td>\n",
              "      <td>3600</td>\n",
              "      <td>Weekday</td>\n",
              "      <td>Monday</td>\n",
              "      <td>Light_Load</td>\n",
              "    </tr>\n",
              "    <tr>\n",
              "      <th>4</th>\n",
              "      <td>2018-01-01</td>\n",
              "      <td>01:15:00</td>\n",
              "      <td>3.82</td>\n",
              "      <td>4.50</td>\n",
              "      <td>0.00</td>\n",
              "      <td>0.0</td>\n",
              "      <td>64.72</td>\n",
              "      <td>100.00</td>\n",
              "      <td>4500</td>\n",
              "      <td>Weekday</td>\n",
              "      <td>Monday</td>\n",
              "      <td>Light_Load</td>\n",
              "    </tr>\n",
              "    <tr>\n",
              "      <th>...</th>\n",
              "      <td>...</td>\n",
              "      <td>...</td>\n",
              "      <td>...</td>\n",
              "      <td>...</td>\n",
              "      <td>...</td>\n",
              "      <td>...</td>\n",
              "      <td>...</td>\n",
              "      <td>...</td>\n",
              "      <td>...</td>\n",
              "      <td>...</td>\n",
              "      <td>...</td>\n",
              "      <td>...</td>\n",
              "    </tr>\n",
              "    <tr>\n",
              "      <th>35035</th>\n",
              "      <td>2018-12-31</td>\n",
              "      <td>23:00:00</td>\n",
              "      <td>3.85</td>\n",
              "      <td>4.86</td>\n",
              "      <td>0.00</td>\n",
              "      <td>0.0</td>\n",
              "      <td>62.10</td>\n",
              "      <td>100.00</td>\n",
              "      <td>82800</td>\n",
              "      <td>Weekday</td>\n",
              "      <td>Monday</td>\n",
              "      <td>Light_Load</td>\n",
              "    </tr>\n",
              "    <tr>\n",
              "      <th>35036</th>\n",
              "      <td>2018-12-31</td>\n",
              "      <td>23:15:00</td>\n",
              "      <td>3.74</td>\n",
              "      <td>3.74</td>\n",
              "      <td>0.00</td>\n",
              "      <td>0.0</td>\n",
              "      <td>70.71</td>\n",
              "      <td>100.00</td>\n",
              "      <td>83700</td>\n",
              "      <td>Weekday</td>\n",
              "      <td>Monday</td>\n",
              "      <td>Light_Load</td>\n",
              "    </tr>\n",
              "    <tr>\n",
              "      <th>35037</th>\n",
              "      <td>2018-12-31</td>\n",
              "      <td>23:30:00</td>\n",
              "      <td>3.78</td>\n",
              "      <td>3.17</td>\n",
              "      <td>0.07</td>\n",
              "      <td>0.0</td>\n",
              "      <td>76.62</td>\n",
              "      <td>99.98</td>\n",
              "      <td>84600</td>\n",
              "      <td>Weekday</td>\n",
              "      <td>Monday</td>\n",
              "      <td>Light_Load</td>\n",
              "    </tr>\n",
              "    <tr>\n",
              "      <th>35038</th>\n",
              "      <td>2018-12-31</td>\n",
              "      <td>23:45:00</td>\n",
              "      <td>3.78</td>\n",
              "      <td>3.06</td>\n",
              "      <td>0.11</td>\n",
              "      <td>0.0</td>\n",
              "      <td>77.72</td>\n",
              "      <td>99.96</td>\n",
              "      <td>85500</td>\n",
              "      <td>Weekday</td>\n",
              "      <td>Monday</td>\n",
              "      <td>Light_Load</td>\n",
              "    </tr>\n",
              "    <tr>\n",
              "      <th>35039</th>\n",
              "      <td>2018-12-31</td>\n",
              "      <td>00:00:00</td>\n",
              "      <td>3.67</td>\n",
              "      <td>3.02</td>\n",
              "      <td>0.07</td>\n",
              "      <td>0.0</td>\n",
              "      <td>77.22</td>\n",
              "      <td>99.98</td>\n",
              "      <td>0</td>\n",
              "      <td>Weekday</td>\n",
              "      <td>Monday</td>\n",
              "      <td>Light_Load</td>\n",
              "    </tr>\n",
              "  </tbody>\n",
              "</table>\n",
              "<p>35040 rows × 12 columns</p>\n",
              "</div>\n",
              "      <button class=\"colab-df-convert\" onclick=\"convertToInteractive('df-a60114ec-fd30-4e20-84f9-751e950659e9')\"\n",
              "              title=\"Convert this dataframe to an interactive table.\"\n",
              "              style=\"display:none;\">\n",
              "        \n",
              "  <svg xmlns=\"http://www.w3.org/2000/svg\" height=\"24px\"viewBox=\"0 0 24 24\"\n",
              "       width=\"24px\">\n",
              "    <path d=\"M0 0h24v24H0V0z\" fill=\"none\"/>\n",
              "    <path d=\"M18.56 5.44l.94 2.06.94-2.06 2.06-.94-2.06-.94-.94-2.06-.94 2.06-2.06.94zm-11 1L8.5 8.5l.94-2.06 2.06-.94-2.06-.94L8.5 2.5l-.94 2.06-2.06.94zm10 10l.94 2.06.94-2.06 2.06-.94-2.06-.94-.94-2.06-.94 2.06-2.06.94z\"/><path d=\"M17.41 7.96l-1.37-1.37c-.4-.4-.92-.59-1.43-.59-.52 0-1.04.2-1.43.59L10.3 9.45l-7.72 7.72c-.78.78-.78 2.05 0 2.83L4 21.41c.39.39.9.59 1.41.59.51 0 1.02-.2 1.41-.59l7.78-7.78 2.81-2.81c.8-.78.8-2.07 0-2.86zM5.41 20L4 18.59l7.72-7.72 1.47 1.35L5.41 20z\"/>\n",
              "  </svg>\n",
              "      </button>\n",
              "      \n",
              "  <style>\n",
              "    .colab-df-container {\n",
              "      display:flex;\n",
              "      flex-wrap:wrap;\n",
              "      gap: 12px;\n",
              "    }\n",
              "\n",
              "    .colab-df-convert {\n",
              "      background-color: #E8F0FE;\n",
              "      border: none;\n",
              "      border-radius: 50%;\n",
              "      cursor: pointer;\n",
              "      display: none;\n",
              "      fill: #1967D2;\n",
              "      height: 32px;\n",
              "      padding: 0 0 0 0;\n",
              "      width: 32px;\n",
              "    }\n",
              "\n",
              "    .colab-df-convert:hover {\n",
              "      background-color: #E2EBFA;\n",
              "      box-shadow: 0px 1px 2px rgba(60, 64, 67, 0.3), 0px 1px 3px 1px rgba(60, 64, 67, 0.15);\n",
              "      fill: #174EA6;\n",
              "    }\n",
              "\n",
              "    [theme=dark] .colab-df-convert {\n",
              "      background-color: #3B4455;\n",
              "      fill: #D2E3FC;\n",
              "    }\n",
              "\n",
              "    [theme=dark] .colab-df-convert:hover {\n",
              "      background-color: #434B5C;\n",
              "      box-shadow: 0px 1px 3px 1px rgba(0, 0, 0, 0.15);\n",
              "      filter: drop-shadow(0px 1px 2px rgba(0, 0, 0, 0.3));\n",
              "      fill: #FFFFFF;\n",
              "    }\n",
              "  </style>\n",
              "\n",
              "      <script>\n",
              "        const buttonEl =\n",
              "          document.querySelector('#df-a60114ec-fd30-4e20-84f9-751e950659e9 button.colab-df-convert');\n",
              "        buttonEl.style.display =\n",
              "          google.colab.kernel.accessAllowed ? 'block' : 'none';\n",
              "\n",
              "        async function convertToInteractive(key) {\n",
              "          const element = document.querySelector('#df-a60114ec-fd30-4e20-84f9-751e950659e9');\n",
              "          const dataTable =\n",
              "            await google.colab.kernel.invokeFunction('convertToInteractive',\n",
              "                                                     [key], {});\n",
              "          if (!dataTable) return;\n",
              "\n",
              "          const docLinkHtml = 'Like what you see? Visit the ' +\n",
              "            '<a target=\"_blank\" href=https://colab.research.google.com/notebooks/data_table.ipynb>data table notebook</a>'\n",
              "            + ' to learn more about interactive tables.';\n",
              "          element.innerHTML = '';\n",
              "          dataTable['output_type'] = 'display_data';\n",
              "          await google.colab.output.renderOutput(dataTable, element);\n",
              "          const docLink = document.createElement('div');\n",
              "          docLink.innerHTML = docLinkHtml;\n",
              "          element.appendChild(docLink);\n",
              "        }\n",
              "      </script>\n",
              "    </div>\n",
              "  </div>\n",
              "  "
            ]
          },
          "metadata": {},
          "execution_count": 44
        }
      ],
      "source": [
        "df[\"date\"] = pd.to_datetime(df[\"date\"])\n",
        "df[\"Date\"] = df[\"date\"].dt.date\n",
        "df[\"Time\"] = df[\"date\"].dt.time\n",
        "df.drop([\"date\"], axis=1, inplace=True)\n",
        "print(df.columns)\n",
        "df = df[[ 'Date', 'Time', 'Usage_kWh', 'Lagging_Current_Reactive.Power_kVarh',\n",
        "       'Leading_Current_Reactive_Power_kVarh', 'CO2(tCO2)',\n",
        "       'Lagging_Current_Power_Factor', 'Leading_Current_Power_Factor', 'NSM',\n",
        "       'WeekStatus', 'Day_of_week', 'Load_Type']]\n",
        "df"
      ]
    },
    {
      "cell_type": "markdown",
      "metadata": {
        "id": "hNUxaMt1_gC8"
      },
      "source": [
        "2. Handling Outliers"
      ]
    },
    {
      "cell_type": "code",
      "execution_count": null,
      "metadata": {
        "colab": {
          "base_uri": "https://localhost:8080/",
          "height": 300
        },
        "id": "WbPORxHXFHIT",
        "outputId": "957a6cab-62f1-4036-c126-4b61c6694831"
      },
      "outputs": [
        {
          "output_type": "execute_result",
          "data": {
            "text/plain": [
              "          Usage_kWh  Lagging_Current_Reactive.Power_kVarh  \\\n",
              "count  35040.000000                          35040.000000   \n",
              "mean      27.386892                             13.035384   \n",
              "std       33.444380                             16.306000   \n",
              "min        0.000000                              0.000000   \n",
              "25%        3.200000                              2.300000   \n",
              "50%        4.570000                              5.000000   \n",
              "75%       51.237500                             22.640000   \n",
              "max      157.180000                             96.910000   \n",
              "\n",
              "       Leading_Current_Reactive_Power_kVarh     CO2(tCO2)  \\\n",
              "count                          35040.000000  35040.000000   \n",
              "mean                               3.870949      0.011524   \n",
              "std                                7.424463      0.016151   \n",
              "min                                0.000000      0.000000   \n",
              "25%                                0.000000      0.000000   \n",
              "50%                                0.000000      0.000000   \n",
              "75%                                2.090000      0.020000   \n",
              "max                               27.760000      0.070000   \n",
              "\n",
              "       Lagging_Current_Power_Factor  Leading_Current_Power_Factor  \\\n",
              "count                  35040.000000                  35040.000000   \n",
              "mean                      80.578056                     84.367870   \n",
              "std                       18.921322                     30.456535   \n",
              "min                        0.000000                      0.000000   \n",
              "25%                       63.320000                     99.700000   \n",
              "50%                       87.960000                    100.000000   \n",
              "75%                       99.022500                    100.000000   \n",
              "max                      100.000000                    100.000000   \n",
              "\n",
              "                NSM  \n",
              "count  35040.000000  \n",
              "mean   42750.000000  \n",
              "std    24940.534317  \n",
              "min        0.000000  \n",
              "25%    21375.000000  \n",
              "50%    42750.000000  \n",
              "75%    64125.000000  \n",
              "max    85500.000000  "
            ],
            "text/html": [
              "\n",
              "  <div id=\"df-9b976d87-0f21-459d-93c4-1b1dd028de20\">\n",
              "    <div class=\"colab-df-container\">\n",
              "      <div>\n",
              "<style scoped>\n",
              "    .dataframe tbody tr th:only-of-type {\n",
              "        vertical-align: middle;\n",
              "    }\n",
              "\n",
              "    .dataframe tbody tr th {\n",
              "        vertical-align: top;\n",
              "    }\n",
              "\n",
              "    .dataframe thead th {\n",
              "        text-align: right;\n",
              "    }\n",
              "</style>\n",
              "<table border=\"1\" class=\"dataframe\">\n",
              "  <thead>\n",
              "    <tr style=\"text-align: right;\">\n",
              "      <th></th>\n",
              "      <th>Usage_kWh</th>\n",
              "      <th>Lagging_Current_Reactive.Power_kVarh</th>\n",
              "      <th>Leading_Current_Reactive_Power_kVarh</th>\n",
              "      <th>CO2(tCO2)</th>\n",
              "      <th>Lagging_Current_Power_Factor</th>\n",
              "      <th>Leading_Current_Power_Factor</th>\n",
              "      <th>NSM</th>\n",
              "    </tr>\n",
              "  </thead>\n",
              "  <tbody>\n",
              "    <tr>\n",
              "      <th>count</th>\n",
              "      <td>35040.000000</td>\n",
              "      <td>35040.000000</td>\n",
              "      <td>35040.000000</td>\n",
              "      <td>35040.000000</td>\n",
              "      <td>35040.000000</td>\n",
              "      <td>35040.000000</td>\n",
              "      <td>35040.000000</td>\n",
              "    </tr>\n",
              "    <tr>\n",
              "      <th>mean</th>\n",
              "      <td>27.386892</td>\n",
              "      <td>13.035384</td>\n",
              "      <td>3.870949</td>\n",
              "      <td>0.011524</td>\n",
              "      <td>80.578056</td>\n",
              "      <td>84.367870</td>\n",
              "      <td>42750.000000</td>\n",
              "    </tr>\n",
              "    <tr>\n",
              "      <th>std</th>\n",
              "      <td>33.444380</td>\n",
              "      <td>16.306000</td>\n",
              "      <td>7.424463</td>\n",
              "      <td>0.016151</td>\n",
              "      <td>18.921322</td>\n",
              "      <td>30.456535</td>\n",
              "      <td>24940.534317</td>\n",
              "    </tr>\n",
              "    <tr>\n",
              "      <th>min</th>\n",
              "      <td>0.000000</td>\n",
              "      <td>0.000000</td>\n",
              "      <td>0.000000</td>\n",
              "      <td>0.000000</td>\n",
              "      <td>0.000000</td>\n",
              "      <td>0.000000</td>\n",
              "      <td>0.000000</td>\n",
              "    </tr>\n",
              "    <tr>\n",
              "      <th>25%</th>\n",
              "      <td>3.200000</td>\n",
              "      <td>2.300000</td>\n",
              "      <td>0.000000</td>\n",
              "      <td>0.000000</td>\n",
              "      <td>63.320000</td>\n",
              "      <td>99.700000</td>\n",
              "      <td>21375.000000</td>\n",
              "    </tr>\n",
              "    <tr>\n",
              "      <th>50%</th>\n",
              "      <td>4.570000</td>\n",
              "      <td>5.000000</td>\n",
              "      <td>0.000000</td>\n",
              "      <td>0.000000</td>\n",
              "      <td>87.960000</td>\n",
              "      <td>100.000000</td>\n",
              "      <td>42750.000000</td>\n",
              "    </tr>\n",
              "    <tr>\n",
              "      <th>75%</th>\n",
              "      <td>51.237500</td>\n",
              "      <td>22.640000</td>\n",
              "      <td>2.090000</td>\n",
              "      <td>0.020000</td>\n",
              "      <td>99.022500</td>\n",
              "      <td>100.000000</td>\n",
              "      <td>64125.000000</td>\n",
              "    </tr>\n",
              "    <tr>\n",
              "      <th>max</th>\n",
              "      <td>157.180000</td>\n",
              "      <td>96.910000</td>\n",
              "      <td>27.760000</td>\n",
              "      <td>0.070000</td>\n",
              "      <td>100.000000</td>\n",
              "      <td>100.000000</td>\n",
              "      <td>85500.000000</td>\n",
              "    </tr>\n",
              "  </tbody>\n",
              "</table>\n",
              "</div>\n",
              "      <button class=\"colab-df-convert\" onclick=\"convertToInteractive('df-9b976d87-0f21-459d-93c4-1b1dd028de20')\"\n",
              "              title=\"Convert this dataframe to an interactive table.\"\n",
              "              style=\"display:none;\">\n",
              "        \n",
              "  <svg xmlns=\"http://www.w3.org/2000/svg\" height=\"24px\"viewBox=\"0 0 24 24\"\n",
              "       width=\"24px\">\n",
              "    <path d=\"M0 0h24v24H0V0z\" fill=\"none\"/>\n",
              "    <path d=\"M18.56 5.44l.94 2.06.94-2.06 2.06-.94-2.06-.94-.94-2.06-.94 2.06-2.06.94zm-11 1L8.5 8.5l.94-2.06 2.06-.94-2.06-.94L8.5 2.5l-.94 2.06-2.06.94zm10 10l.94 2.06.94-2.06 2.06-.94-2.06-.94-.94-2.06-.94 2.06-2.06.94z\"/><path d=\"M17.41 7.96l-1.37-1.37c-.4-.4-.92-.59-1.43-.59-.52 0-1.04.2-1.43.59L10.3 9.45l-7.72 7.72c-.78.78-.78 2.05 0 2.83L4 21.41c.39.39.9.59 1.41.59.51 0 1.02-.2 1.41-.59l7.78-7.78 2.81-2.81c.8-.78.8-2.07 0-2.86zM5.41 20L4 18.59l7.72-7.72 1.47 1.35L5.41 20z\"/>\n",
              "  </svg>\n",
              "      </button>\n",
              "      \n",
              "  <style>\n",
              "    .colab-df-container {\n",
              "      display:flex;\n",
              "      flex-wrap:wrap;\n",
              "      gap: 12px;\n",
              "    }\n",
              "\n",
              "    .colab-df-convert {\n",
              "      background-color: #E8F0FE;\n",
              "      border: none;\n",
              "      border-radius: 50%;\n",
              "      cursor: pointer;\n",
              "      display: none;\n",
              "      fill: #1967D2;\n",
              "      height: 32px;\n",
              "      padding: 0 0 0 0;\n",
              "      width: 32px;\n",
              "    }\n",
              "\n",
              "    .colab-df-convert:hover {\n",
              "      background-color: #E2EBFA;\n",
              "      box-shadow: 0px 1px 2px rgba(60, 64, 67, 0.3), 0px 1px 3px 1px rgba(60, 64, 67, 0.15);\n",
              "      fill: #174EA6;\n",
              "    }\n",
              "\n",
              "    [theme=dark] .colab-df-convert {\n",
              "      background-color: #3B4455;\n",
              "      fill: #D2E3FC;\n",
              "    }\n",
              "\n",
              "    [theme=dark] .colab-df-convert:hover {\n",
              "      background-color: #434B5C;\n",
              "      box-shadow: 0px 1px 3px 1px rgba(0, 0, 0, 0.15);\n",
              "      filter: drop-shadow(0px 1px 2px rgba(0, 0, 0, 0.3));\n",
              "      fill: #FFFFFF;\n",
              "    }\n",
              "  </style>\n",
              "\n",
              "      <script>\n",
              "        const buttonEl =\n",
              "          document.querySelector('#df-9b976d87-0f21-459d-93c4-1b1dd028de20 button.colab-df-convert');\n",
              "        buttonEl.style.display =\n",
              "          google.colab.kernel.accessAllowed ? 'block' : 'none';\n",
              "\n",
              "        async function convertToInteractive(key) {\n",
              "          const element = document.querySelector('#df-9b976d87-0f21-459d-93c4-1b1dd028de20');\n",
              "          const dataTable =\n",
              "            await google.colab.kernel.invokeFunction('convertToInteractive',\n",
              "                                                     [key], {});\n",
              "          if (!dataTable) return;\n",
              "\n",
              "          const docLinkHtml = 'Like what you see? Visit the ' +\n",
              "            '<a target=\"_blank\" href=https://colab.research.google.com/notebooks/data_table.ipynb>data table notebook</a>'\n",
              "            + ' to learn more about interactive tables.';\n",
              "          element.innerHTML = '';\n",
              "          dataTable['output_type'] = 'display_data';\n",
              "          await google.colab.output.renderOutput(dataTable, element);\n",
              "          const docLink = document.createElement('div');\n",
              "          docLink.innerHTML = docLinkHtml;\n",
              "          element.appendChild(docLink);\n",
              "        }\n",
              "      </script>\n",
              "    </div>\n",
              "  </div>\n",
              "  "
            ]
          },
          "metadata": {},
          "execution_count": 45
        }
      ],
      "source": [
        "df.describe()"
      ]
    },
    {
      "cell_type": "code",
      "execution_count": null,
      "metadata": {
        "id": "h_xLX-oyREs1"
      },
      "outputs": [],
      "source": []
    },
    {
      "cell_type": "markdown",
      "metadata": {
        "id": "Hz_fIlptC034"
      },
      "source": [
        "Usage_kWh"
      ]
    },
    {
      "cell_type": "code",
      "execution_count": null,
      "metadata": {
        "colab": {
          "base_uri": "https://localhost:8080/",
          "height": 770
        },
        "id": "m2PzjdjHC22i",
        "outputId": "0029fe5f-16f9-4b49-f61d-7e85724b9757"
      },
      "outputs": [
        {
          "output_type": "stream",
          "name": "stdout",
          "text": [
            "Max Value: 157.18\n",
            "Min Value: 0.0\n",
            "Lower Limit: -68.85624999999999\n",
            "Upper Limit: 123.29374999999999\n"
          ]
        },
        {
          "output_type": "display_data",
          "data": {
            "text/plain": [
              "<Figure size 504x360 with 1 Axes>"
            ],
            "image/png": "[encoded data removed]"
          },
          "metadata": {
            "needs_background": "light"
          }
        },
        {
          "output_type": "display_data",
          "data": {
            "text/plain": [
              "<Figure size 504x360 with 1 Axes>"
            ],
            "image/png": "[encoded data removed]"
          },
          "metadata": {
            "needs_background": "light"
          }
        }
      ],
      "source": [
        "Q1 = df[\"Usage_kWh\"].quantile(0.25)\n",
        "Q3 = df[\"Usage_kWh\"].quantile(0.75)\n",
        "IQR = Q3 - Q1\n",
        "lower_limit = Q1 - 1.5 * IQR\n",
        "upper_limit = Q3 + 1.5 * IQR\n",
        "\n",
        "print(\"Max Value:\" , df[\"Usage_kWh\"].max())\n",
        "print(\"Min Value:\" , df[\"Usage_kWh\"].min())\n",
        "\n",
        "print(\"Lower Limit:\", lower_limit)\n",
        "print(\"Upper Limit:\", upper_limit)\n",
        "\n",
        "chart = df.boxplot(column = ['Usage_kWh'])\n",
        "chart.set_xticklabels(chart.get_xticklabels())\n",
        "plt.title('The Factor of Energy Consumption in Steel Industry', fontsize = 15, color = 'green', pad = 12)\n",
        "plt.xlabel('Factors')\n",
        "plt.ylabel('Count')\n",
        "plt.show()\n",
        "\n",
        "new_df = df[(df[\"Usage_kWh\"] > lower_limit) & (df[\"Usage_kWh\"] < upper_limit)]\n",
        "new_df\n",
        "\n",
        "\n",
        "chart = new_df.boxplot(column = ['Usage_kWh'])\n",
        "chart.set_xticklabels(chart.get_xticklabels())\n",
        "plt.title('The Factor of Energy Consumption in Steel Industry', fontsize = 15, color = 'green', pad = 12)\n",
        "plt.xlabel('Factors')\n",
        "plt.ylabel('Count')\n",
        "plt.show()"
      ]
    },
    {
      "cell_type": "markdown",
      "metadata": {
        "id": "brXvzswECvNc"
      },
      "source": [
        "Lagging_Current_Reactive.Power_kVarh"
      ]
    },
    {
      "cell_type": "code",
      "execution_count": null,
      "metadata": {
        "colab": {
          "base_uri": "https://localhost:8080/",
          "height": 770
        },
        "id": "Mddthltvw7Hf",
        "outputId": "ee51aa8c-4fa8-4623-e3cc-a5501e4f7348"
      },
      "outputs": [
        {
          "output_type": "stream",
          "name": "stdout",
          "text": [
            "Max Value: 96.91\n",
            "Min Value: 0.0\n",
            "Lower Limit: -28.209999999999997\n",
            "Upper Limit: 53.15\n"
          ]
        },
        {
          "output_type": "display_data",
          "data": {
            "text/plain": [
              "<Figure size 504x360 with 1 Axes>"
            ],
            "image/png": "[encoded data removed]"
          },
          "metadata": {
            "needs_background": "light"
          }
        },
        {
          "output_type": "display_data",
          "data": {
            "text/plain": [
              "<Figure size 504x360 with 1 Axes>"
            ],
            "image/png": "[encoded data removed]"
          },
          "metadata": {
            "needs_background": "light"
          }
        }
      ],
      "source": [
        "Q1 = df[\"Lagging_Current_Reactive.Power_kVarh\"].quantile(0.25)\n",
        "Q3 = df[\"Lagging_Current_Reactive.Power_kVarh\"].quantile(0.75)\n",
        "IQR = Q3 - Q1\n",
        "lower_limit = Q1 - 1.5 * IQR\n",
        "upper_limit = Q3 + 1.5 * IQR\n",
        "\n",
        "print(\"Max Value:\" , df[\"Lagging_Current_Reactive.Power_kVarh\"].max())\n",
        "print(\"Min Value:\" , df[\"Lagging_Current_Reactive.Power_kVarh\"].min())\n",
        "\n",
        "print(\"Lower Limit:\", lower_limit)\n",
        "print(\"Upper Limit:\", upper_limit)\n",
        "\n",
        "chart = df.boxplot(column = ['Lagging_Current_Reactive.Power_kVarh'])\n",
        "chart.set_xticklabels(chart.get_xticklabels())\n",
        "plt.title('The Factor of Energy Consumption in Steel Industry', fontsize = 15, color = 'green', pad = 12)\n",
        "plt.xlabel('Factors')\n",
        "plt.ylabel('Count')\n",
        "plt.show()\n",
        "\n",
        "new_df = df[(df[\"Lagging_Current_Reactive.Power_kVarh\"] > lower_limit) & (df[\"Lagging_Current_Reactive.Power_kVarh\"] < upper_limit)]\n",
        "new_df\n",
        "\n",
        "chart = new_df.boxplot(column = ['Lagging_Current_Reactive.Power_kVarh'])\n",
        "chart.set_xticklabels(chart.get_xticklabels())\n",
        "plt.title('The Factor of Energy Consumption in Steel Industry', fontsize = 15, color = 'green', pad = 12)\n",
        "plt.xlabel('Factors')\n",
        "plt.ylabel('Count')\n",
        "plt.show()\n"
      ]
    },
    {
      "cell_type": "markdown",
      "metadata": {
        "id": "dGQFmrI3RgNq"
      },
      "source": [
        "Leading_Current_Reactive_Power_kVarh"
      ]
    },
    {
      "cell_type": "code",
      "execution_count": null,
      "metadata": {
        "colab": {
          "base_uri": "https://localhost:8080/",
          "height": 731
        },
        "id": "cumglQRENnYE",
        "outputId": "1a350a9d-5cca-434a-d10e-e7366dbe691e"
      },
      "outputs": [
        {
          "output_type": "stream",
          "name": "stdout",
          "text": [
            "Max Value: 27.76\n",
            "Min Value: 0.0\n",
            "Lower Limit: -3.135\n",
            "Upper Limit: 5.225\n"
          ]
        },
        {
          "output_type": "execute_result",
          "data": {
            "text/plain": [
              "             Date      Time  Usage_kWh  Lagging_Current_Reactive.Power_kVarh  \\\n",
              "0      2018-01-01  00:15:00       3.17                                  2.95   \n",
              "1      2018-01-01  00:30:00       4.00                                  4.46   \n",
              "2      2018-01-01  00:45:00       3.24                                  3.28   \n",
              "3      2018-01-01  01:00:00       3.31                                  3.56   \n",
              "4      2018-01-01  01:15:00       3.82                                  4.50   \n",
              "...           ...       ...        ...                                   ...   \n",
              "35035  2018-12-31  23:00:00       3.85                                  4.86   \n",
              "35036  2018-12-31  23:15:00       3.74                                  3.74   \n",
              "35037  2018-12-31  23:30:00       3.78                                  3.17   \n",
              "35038  2018-12-31  23:45:00       3.78                                  3.06   \n",
              "35039  2018-12-31  00:00:00       3.67                                  3.02   \n",
              "\n",
              "       Leading_Current_Reactive_Power_kVarh  CO2(tCO2)  \\\n",
              "0                                      0.00        0.0   \n",
              "1                                      0.00        0.0   \n",
              "2                                      0.00        0.0   \n",
              "3                                      0.00        0.0   \n",
              "4                                      0.00        0.0   \n",
              "...                                     ...        ...   \n",
              "35035                                  0.00        0.0   \n",
              "35036                                  0.00        0.0   \n",
              "35037                                  0.07        0.0   \n",
              "35038                                  0.11        0.0   \n",
              "35039                                  0.07        0.0   \n",
              "\n",
              "       Lagging_Current_Power_Factor  Leading_Current_Power_Factor    NSM  \\\n",
              "0                             73.21                        100.00    900   \n",
              "1                             66.77                        100.00   1800   \n",
              "2                             70.28                        100.00   2700   \n",
              "3                             68.09                        100.00   3600   \n",
              "4                             64.72                        100.00   4500   \n",
              "...                             ...                           ...    ...   \n",
              "35035                         62.10                        100.00  82800   \n",
              "35036                         70.71                        100.00  83700   \n",
              "35037                         76.62                         99.98  84600   \n",
              "35038                         77.72                         99.96  85500   \n",
              "35039                         77.22                         99.98      0   \n",
              "\n",
              "      WeekStatus Day_of_week   Load_Type  \n",
              "0        Weekday      Monday  Light_Load  \n",
              "1        Weekday      Monday  Light_Load  \n",
              "2        Weekday      Monday  Light_Load  \n",
              "3        Weekday      Monday  Light_Load  \n",
              "4        Weekday      Monday  Light_Load  \n",
              "...          ...         ...         ...  \n",
              "35035    Weekday      Monday  Light_Load  \n",
              "35036    Weekday      Monday  Light_Load  \n",
              "35037    Weekday      Monday  Light_Load  \n",
              "35038    Weekday      Monday  Light_Load  \n",
              "35039    Weekday      Monday  Light_Load  \n",
              "\n",
              "[27281 rows x 12 columns]"
            ],
            "text/html": [
              "\n",
              "  <div id=\"df-afa9520e-3f5b-48ba-8bcf-19c048d6cbb8\">\n",
              "    <div class=\"colab-df-container\">\n",
              "      <div>\n",
              "<style scoped>\n",
              "    .dataframe tbody tr th:only-of-type {\n",
              "        vertical-align: middle;\n",
              "    }\n",
              "\n",
              "    .dataframe tbody tr th {\n",
              "        vertical-align: top;\n",
              "    }\n",
              "\n",
              "    .dataframe thead th {\n",
              "        text-align: right;\n",
              "    }\n",
              "</style>\n",
              "<table border=\"1\" class=\"dataframe\">\n",
              "  <thead>\n",
              "    <tr style=\"text-align: right;\">\n",
              "      <th></th>\n",
              "      <th>Date</th>\n",
              "      <th>Time</th>\n",
              "      <th>Usage_kWh</th>\n",
              "      <th>Lagging_Current_Reactive.Power_kVarh</th>\n",
              "      <th>Leading_Current_Reactive_Power_kVarh</th>\n",
              "      <th>CO2(tCO2)</th>\n",
              "      <th>Lagging_Current_Power_Factor</th>\n",
              "      <th>Leading_Current_Power_Factor</th>\n",
              "      <th>NSM</th>\n",
              "      <th>WeekStatus</th>\n",
              "      <th>Day_of_week</th>\n",
              "      <th>Load_Type</th>\n",
              "    </tr>\n",
              "  </thead>\n",
              "  <tbody>\n",
              "    <tr>\n",
              "      <th>0</th>\n",
              "      <td>2018-01-01</td>\n",
              "      <td>00:15:00</td>\n",
              "      <td>3.17</td>\n",
              "      <td>2.95</td>\n",
              "      <td>0.00</td>\n",
              "      <td>0.0</td>\n",
              "      <td>73.21</td>\n",
              "      <td>100.00</td>\n",
              "      <td>900</td>\n",
              "      <td>Weekday</td>\n",
              "      <td>Monday</td>\n",
              "      <td>Light_Load</td>\n",
              "    </tr>\n",
              "    <tr>\n",
              "      <th>1</th>\n",
              "      <td>2018-01-01</td>\n",
              "      <td>00:30:00</td>\n",
              "      <td>4.00</td>\n",
              "      <td>4.46</td>\n",
              "      <td>0.00</td>\n",
              "      <td>0.0</td>\n",
              "      <td>66.77</td>\n",
              "      <td>100.00</td>\n",
              "      <td>1800</td>\n",
              "      <td>Weekday</td>\n",
              "      <td>Monday</td>\n",
              "      <td>Light_Load</td>\n",
              "    </tr>\n",
              "    <tr>\n",
              "      <th>2</th>\n",
              "      <td>2018-01-01</td>\n",
              "      <td>00:45:00</td>\n",
              "      <td>3.24</td>\n",
              "      <td>3.28</td>\n",
              "      <td>0.00</td>\n",
              "      <td>0.0</td>\n",
              "      <td>70.28</td>\n",
              "      <td>100.00</td>\n",
              "      <td>2700</td>\n",
              "      <td>Weekday</td>\n",
              "      <td>Monday</td>\n",
              "      <td>Light_Load</td>\n",
              "    </tr>\n",
              "    <tr>\n",
              "      <th>3</th>\n",
              "      <td>2018-01-01</td>\n",
              "      <td>01:00:00</td>\n",
              "      <td>3.31</td>\n",
              "      <td>3.56</td>\n",
              "      <td>0.00</td>\n",
              "      <td>0.0</td>\n",
              "      <td>68.09</td>\n",
              "      <td>100.00</td>\n",
              "      <td>3600</td>\n",
              "      <td>Weekday</td>\n",
              "      <td>Monday</td>\n",
              "      <td>Light_Load</td>\n",
              "    </tr>\n",
              "    <tr>\n",
              "      <th>4</th>\n",
              "      <td>2018-01-01</td>\n",
              "      <td>01:15:00</td>\n",
              "      <td>3.82</td>\n",
              "      <td>4.50</td>\n",
              "      <td>0.00</td>\n",
              "      <td>0.0</td>\n",
              "      <td>64.72</td>\n",
              "      <td>100.00</td>\n",
              "      <td>4500</td>\n",
              "      <td>Weekday</td>\n",
              "      <td>Monday</td>\n",
              "      <td>Light_Load</td>\n",
              "    </tr>\n",
              "    <tr>\n",
              "      <th>...</th>\n",
              "      <td>...</td>\n",
              "      <td>...</td>\n",
              "      <td>...</td>\n",
              "      <td>...</td>\n",
              "      <td>...</td>\n",
              "      <td>...</td>\n",
              "      <td>...</td>\n",
              "      <td>...</td>\n",
              "      <td>...</td>\n",
              "      <td>...</td>\n",
              "      <td>...</td>\n",
              "      <td>...</td>\n",
              "    </tr>\n",
              "    <tr>\n",
              "      <th>35035</th>\n",
              "      <td>2018-12-31</td>\n",
              "      <td>23:00:00</td>\n",
              "      <td>3.85</td>\n",
              "      <td>4.86</td>\n",
              "      <td>0.00</td>\n",
              "      <td>0.0</td>\n",
              "      <td>62.10</td>\n",
              "      <td>100.00</td>\n",
              "      <td>82800</td>\n",
              "      <td>Weekday</td>\n",
              "      <td>Monday</td>\n",
              "      <td>Light_Load</td>\n",
              "    </tr>\n",
              "    <tr>\n",
              "      <th>35036</th>\n",
              "      <td>2018-12-31</td>\n",
              "      <td>23:15:00</td>\n",
              "      <td>3.74</td>\n",
              "      <td>3.74</td>\n",
              "      <td>0.00</td>\n",
              "      <td>0.0</td>\n",
              "      <td>70.71</td>\n",
              "      <td>100.00</td>\n",
              "      <td>83700</td>\n",
              "      <td>Weekday</td>\n",
              "      <td>Monday</td>\n",
              "      <td>Light_Load</td>\n",
              "    </tr>\n",
              "    <tr>\n",
              "      <th>35037</th>\n",
              "      <td>2018-12-31</td>\n",
              "      <td>23:30:00</td>\n",
              "      <td>3.78</td>\n",
              "      <td>3.17</td>\n",
              "      <td>0.07</td>\n",
              "      <td>0.0</td>\n",
              "      <td>76.62</td>\n",
              "      <td>99.98</td>\n",
              "      <td>84600</td>\n",
              "      <td>Weekday</td>\n",
              "      <td>Monday</td>\n",
              "      <td>Light_Load</td>\n",
              "    </tr>\n",
              "    <tr>\n",
              "      <th>35038</th>\n",
              "      <td>2018-12-31</td>\n",
              "      <td>23:45:00</td>\n",
              "      <td>3.78</td>\n",
              "      <td>3.06</td>\n",
              "      <td>0.11</td>\n",
              "      <td>0.0</td>\n",
              "      <td>77.72</td>\n",
              "      <td>99.96</td>\n",
              "      <td>85500</td>\n",
              "      <td>Weekday</td>\n",
              "      <td>Monday</td>\n",
              "      <td>Light_Load</td>\n",
              "    </tr>\n",
              "    <tr>\n",
              "      <th>35039</th>\n",
              "      <td>2018-12-31</td>\n",
              "      <td>00:00:00</td>\n",
              "      <td>3.67</td>\n",
              "      <td>3.02</td>\n",
              "      <td>0.07</td>\n",
              "      <td>0.0</td>\n",
              "      <td>77.22</td>\n",
              "      <td>99.98</td>\n",
              "      <td>0</td>\n",
              "      <td>Weekday</td>\n",
              "      <td>Monday</td>\n",
              "      <td>Light_Load</td>\n",
              "    </tr>\n",
              "  </tbody>\n",
              "</table>\n",
              "<p>27281 rows × 12 columns</p>\n",
              "</div>\n",
              "      <button class=\"colab-df-convert\" onclick=\"convertToInteractive('df-afa9520e-3f5b-48ba-8bcf-19c048d6cbb8')\"\n",
              "              title=\"Convert this dataframe to an interactive table.\"\n",
              "              style=\"display:none;\">\n",
              "        \n",
              "  <svg xmlns=\"http://www.w3.org/2000/svg\" height=\"24px\"viewBox=\"0 0 24 24\"\n",
              "       width=\"24px\">\n",
              "    <path d=\"M0 0h24v24H0V0z\" fill=\"none\"/>\n",
              "    <path d=\"M18.56 5.44l.94 2.06.94-2.06 2.06-.94-2.06-.94-.94-2.06-.94 2.06-2.06.94zm-11 1L8.5 8.5l.94-2.06 2.06-.94-2.06-.94L8.5 2.5l-.94 2.06-2.06.94zm10 10l.94 2.06.94-2.06 2.06-.94-2.06-.94-.94-2.06-.94 2.06-2.06.94z\"/><path d=\"M17.41 7.96l-1.37-1.37c-.4-.4-.92-.59-1.43-.59-.52 0-1.04.2-1.43.59L10.3 9.45l-7.72 7.72c-.78.78-.78 2.05 0 2.83L4 21.41c.39.39.9.59 1.41.59.51 0 1.02-.2 1.41-.59l7.78-7.78 2.81-2.81c.8-.78.8-2.07 0-2.86zM5.41 20L4 18.59l7.72-7.72 1.47 1.35L5.41 20z\"/>\n",
              "  </svg>\n",
              "      </button>\n",
              "      \n",
              "  <style>\n",
              "    .colab-df-container {\n",
              "      display:flex;\n",
              "      flex-wrap:wrap;\n",
              "      gap: 12px;\n",
              "    }\n",
              "\n",
              "    .colab-df-convert {\n",
              "      background-color: #E8F0FE;\n",
              "      border: none;\n",
              "      border-radius: 50%;\n",
              "      cursor: pointer;\n",
              "      display: none;\n",
              "      fill: #1967D2;\n",
              "      height: 32px;\n",
              "      padding: 0 0 0 0;\n",
              "      width: 32px;\n",
              "    }\n",
              "\n",
              "    .colab-df-convert:hover {\n",
              "      background-color: #E2EBFA;\n",
              "      box-shadow: 0px 1px 2px rgba(60, 64, 67, 0.3), 0px 1px 3px 1px rgba(60, 64, 67, 0.15);\n",
              "      fill: #174EA6;\n",
              "    }\n",
              "\n",
              "    [theme=dark] .colab-df-convert {\n",
              "      background-color: #3B4455;\n",
              "      fill: #D2E3FC;\n",
              "    }\n",
              "\n",
              "    [theme=dark] .colab-df-convert:hover {\n",
              "      background-color: #434B5C;\n",
              "      box-shadow: 0px 1px 3px 1px rgba(0, 0, 0, 0.15);\n",
              "      filter: drop-shadow(0px 1px 2px rgba(0, 0, 0, 0.3));\n",
              "      fill: #FFFFFF;\n",
              "    }\n",
              "  </style>\n",
              "\n",
              "      <script>\n",
              "        const buttonEl =\n",
              "          document.querySelector('#df-afa9520e-3f5b-48ba-8bcf-19c048d6cbb8 button.colab-df-convert');\n",
              "        buttonEl.style.display =\n",
              "          google.colab.kernel.accessAllowed ? 'block' : 'none';\n",
              "\n",
              "        async function convertToInteractive(key) {\n",
              "          const element = document.querySelector('#df-afa9520e-3f5b-48ba-8bcf-19c048d6cbb8');\n",
              "          const dataTable =\n",
              "            await google.colab.kernel.invokeFunction('convertToInteractive',\n",
              "                                                     [key], {});\n",
              "          if (!dataTable) return;\n",
              "\n",
              "          const docLinkHtml = 'Like what you see? Visit the ' +\n",
              "            '<a target=\"_blank\" href=https://colab.research.google.com/notebooks/data_table.ipynb>data table notebook</a>'\n",
              "            + ' to learn more about interactive tables.';\n",
              "          element.innerHTML = '';\n",
              "          dataTable['output_type'] = 'display_data';\n",
              "          await google.colab.output.renderOutput(dataTable, element);\n",
              "          const docLink = document.createElement('div');\n",
              "          docLink.innerHTML = docLinkHtml;\n",
              "          element.appendChild(docLink);\n",
              "        }\n",
              "      </script>\n",
              "    </div>\n",
              "  </div>\n",
              "  "
            ]
          },
          "metadata": {},
          "execution_count": 48
        }
      ],
      "source": [
        "Q1 = df[\"Leading_Current_Reactive_Power_kVarh\"].quantile(0.25)\n",
        "Q3 = df[\"Leading_Current_Reactive_Power_kVarh\"].quantile(0.75)\n",
        "IQR = Q3 - Q1\n",
        "lower_limit = Q1 - 1.5 * IQR\n",
        "upper_limit = Q3 + 1.5 * IQR\n",
        "\n",
        "print(\"Max Value:\" , df[\"Leading_Current_Reactive_Power_kVarh\"].max())\n",
        "print(\"Min Value:\" , df[\"Leading_Current_Reactive_Power_kVarh\"].min())\n",
        "\n",
        "print(\"Lower Limit:\", lower_limit)\n",
        "print(\"Upper Limit:\", upper_limit)\n",
        "\n",
        "\n",
        "\n",
        "new_df = df[(df[\"Leading_Current_Reactive_Power_kVarh\"] > lower_limit) & (df[\"Leading_Current_Reactive_Power_kVarh\"] < upper_limit)]\n",
        "new_df\n",
        "\n",
        "\n"
      ]
    },
    {
      "cell_type": "markdown",
      "metadata": {
        "id": "BZC4iznkRbwA"
      },
      "source": [
        "Lagging_Current_Power_Factor"
      ]
    },
    {
      "cell_type": "code",
      "execution_count": null,
      "metadata": {
        "colab": {
          "base_uri": "https://localhost:8080/",
          "height": 731
        },
        "id": "5gpeIzucN8MR",
        "outputId": "029ba55a-a457-476b-ab22-5a3a11e2c70a"
      },
      "outputs": [
        {
          "output_type": "stream",
          "name": "stdout",
          "text": [
            "Max Value: 100.0\n",
            "Min Value: 0.0\n",
            "Lower Limit: 9.766250000000007\n",
            "Upper Limit: 152.57625\n"
          ]
        },
        {
          "output_type": "execute_result",
          "data": {
            "text/plain": [
              "             Date      Time  Usage_kWh  Lagging_Current_Reactive.Power_kVarh  \\\n",
              "0      2018-01-01  00:15:00       3.17                                  2.95   \n",
              "1      2018-01-01  00:30:00       4.00                                  4.46   \n",
              "2      2018-01-01  00:45:00       3.24                                  3.28   \n",
              "3      2018-01-01  01:00:00       3.31                                  3.56   \n",
              "4      2018-01-01  01:15:00       3.82                                  4.50   \n",
              "...           ...       ...        ...                                   ...   \n",
              "35035  2018-12-31  23:00:00       3.85                                  4.86   \n",
              "35036  2018-12-31  23:15:00       3.74                                  3.74   \n",
              "35037  2018-12-31  23:30:00       3.78                                  3.17   \n",
              "35038  2018-12-31  23:45:00       3.78                                  3.06   \n",
              "35039  2018-12-31  00:00:00       3.67                                  3.02   \n",
              "\n",
              "       Leading_Current_Reactive_Power_kVarh  CO2(tCO2)  \\\n",
              "0                                      0.00        0.0   \n",
              "1                                      0.00        0.0   \n",
              "2                                      0.00        0.0   \n",
              "3                                      0.00        0.0   \n",
              "4                                      0.00        0.0   \n",
              "...                                     ...        ...   \n",
              "35035                                  0.00        0.0   \n",
              "35036                                  0.00        0.0   \n",
              "35037                                  0.07        0.0   \n",
              "35038                                  0.11        0.0   \n",
              "35039                                  0.07        0.0   \n",
              "\n",
              "       Lagging_Current_Power_Factor  Leading_Current_Power_Factor    NSM  \\\n",
              "0                             73.21                        100.00    900   \n",
              "1                             66.77                        100.00   1800   \n",
              "2                             70.28                        100.00   2700   \n",
              "3                             68.09                        100.00   3600   \n",
              "4                             64.72                        100.00   4500   \n",
              "...                             ...                           ...    ...   \n",
              "35035                         62.10                        100.00  82800   \n",
              "35036                         70.71                        100.00  83700   \n",
              "35037                         76.62                         99.98  84600   \n",
              "35038                         77.72                         99.96  85500   \n",
              "35039                         77.22                         99.98      0   \n",
              "\n",
              "      WeekStatus Day_of_week   Load_Type  \n",
              "0        Weekday      Monday  Light_Load  \n",
              "1        Weekday      Monday  Light_Load  \n",
              "2        Weekday      Monday  Light_Load  \n",
              "3        Weekday      Monday  Light_Load  \n",
              "4        Weekday      Monday  Light_Load  \n",
              "...          ...         ...         ...  \n",
              "35035    Weekday      Monday  Light_Load  \n",
              "35036    Weekday      Monday  Light_Load  \n",
              "35037    Weekday      Monday  Light_Load  \n",
              "35038    Weekday      Monday  Light_Load  \n",
              "35039    Weekday      Monday  Light_Load  \n",
              "\n",
              "[35039 rows x 12 columns]"
            ],
            "text/html": [
              "\n",
              "  <div id=\"df-b1a0d6bf-0517-4e09-8c05-ea2da98a57f4\">\n",
              "    <div class=\"colab-df-container\">\n",
              "      <div>\n",
              "<style scoped>\n",
              "    .dataframe tbody tr th:only-of-type {\n",
              "        vertical-align: middle;\n",
              "    }\n",
              "\n",
              "    .dataframe tbody tr th {\n",
              "        vertical-align: top;\n",
              "    }\n",
              "\n",
              "    .dataframe thead th {\n",
              "        text-align: right;\n",
              "    }\n",
              "</style>\n",
              "<table border=\"1\" class=\"dataframe\">\n",
              "  <thead>\n",
              "    <tr style=\"text-align: right;\">\n",
              "      <th></th>\n",
              "      <th>Date</th>\n",
              "      <th>Time</th>\n",
              "      <th>Usage_kWh</th>\n",
              "      <th>Lagging_Current_Reactive.Power_kVarh</th>\n",
              "      <th>Leading_Current_Reactive_Power_kVarh</th>\n",
              "      <th>CO2(tCO2)</th>\n",
              "      <th>Lagging_Current_Power_Factor</th>\n",
              "      <th>Leading_Current_Power_Factor</th>\n",
              "      <th>NSM</th>\n",
              "      <th>WeekStatus</th>\n",
              "      <th>Day_of_week</th>\n",
              "      <th>Load_Type</th>\n",
              "    </tr>\n",
              "  </thead>\n",
              "  <tbody>\n",
              "    <tr>\n",
              "      <th>0</th>\n",
              "      <td>2018-01-01</td>\n",
              "      <td>00:15:00</td>\n",
              "      <td>3.17</td>\n",
              "      <td>2.95</td>\n",
              "      <td>0.00</td>\n",
              "      <td>0.0</td>\n",
              "      <td>73.21</td>\n",
              "      <td>100.00</td>\n",
              "      <td>900</td>\n",
              "      <td>Weekday</td>\n",
              "      <td>Monday</td>\n",
              "      <td>Light_Load</td>\n",
              "    </tr>\n",
              "    <tr>\n",
              "      <th>1</th>\n",
              "      <td>2018-01-01</td>\n",
              "      <td>00:30:00</td>\n",
              "      <td>4.00</td>\n",
              "      <td>4.46</td>\n",
              "      <td>0.00</td>\n",
              "      <td>0.0</td>\n",
              "      <td>66.77</td>\n",
              "      <td>100.00</td>\n",
              "      <td>1800</td>\n",
              "      <td>Weekday</td>\n",
              "      <td>Monday</td>\n",
              "      <td>Light_Load</td>\n",
              "    </tr>\n",
              "    <tr>\n",
              "      <th>2</th>\n",
              "      <td>2018-01-01</td>\n",
              "      <td>00:45:00</td>\n",
              "      <td>3.24</td>\n",
              "      <td>3.28</td>\n",
              "      <td>0.00</td>\n",
              "      <td>0.0</td>\n",
              "      <td>70.28</td>\n",
              "      <td>100.00</td>\n",
              "      <td>2700</td>\n",
              "      <td>Weekday</td>\n",
              "      <td>Monday</td>\n",
              "      <td>Light_Load</td>\n",
              "    </tr>\n",
              "    <tr>\n",
              "      <th>3</th>\n",
              "      <td>2018-01-01</td>\n",
              "      <td>01:00:00</td>\n",
              "      <td>3.31</td>\n",
              "      <td>3.56</td>\n",
              "      <td>0.00</td>\n",
              "      <td>0.0</td>\n",
              "      <td>68.09</td>\n",
              "      <td>100.00</td>\n",
              "      <td>3600</td>\n",
              "      <td>Weekday</td>\n",
              "      <td>Monday</td>\n",
              "      <td>Light_Load</td>\n",
              "    </tr>\n",
              "    <tr>\n",
              "      <th>4</th>\n",
              "      <td>2018-01-01</td>\n",
              "      <td>01:15:00</td>\n",
              "      <td>3.82</td>\n",
              "      <td>4.50</td>\n",
              "      <td>0.00</td>\n",
              "      <td>0.0</td>\n",
              "      <td>64.72</td>\n",
              "      <td>100.00</td>\n",
              "      <td>4500</td>\n",
              "      <td>Weekday</td>\n",
              "      <td>Monday</td>\n",
              "      <td>Light_Load</td>\n",
              "    </tr>\n",
              "    <tr>\n",
              "      <th>...</th>\n",
              "      <td>...</td>\n",
              "      <td>...</td>\n",
              "      <td>...</td>\n",
              "      <td>...</td>\n",
              "      <td>...</td>\n",
              "      <td>...</td>\n",
              "      <td>...</td>\n",
              "      <td>...</td>\n",
              "      <td>...</td>\n",
              "      <td>...</td>\n",
              "      <td>...</td>\n",
              "      <td>...</td>\n",
              "    </tr>\n",
              "    <tr>\n",
              "      <th>35035</th>\n",
              "      <td>2018-12-31</td>\n",
              "      <td>23:00:00</td>\n",
              "      <td>3.85</td>\n",
              "      <td>4.86</td>\n",
              "      <td>0.00</td>\n",
              "      <td>0.0</td>\n",
              "      <td>62.10</td>\n",
              "      <td>100.00</td>\n",
              "      <td>82800</td>\n",
              "      <td>Weekday</td>\n",
              "      <td>Monday</td>\n",
              "      <td>Light_Load</td>\n",
              "    </tr>\n",
              "    <tr>\n",
              "      <th>35036</th>\n",
              "      <td>2018-12-31</td>\n",
              "      <td>23:15:00</td>\n",
              "      <td>3.74</td>\n",
              "      <td>3.74</td>\n",
              "      <td>0.00</td>\n",
              "      <td>0.0</td>\n",
              "      <td>70.71</td>\n",
              "      <td>100.00</td>\n",
              "      <td>83700</td>\n",
              "      <td>Weekday</td>\n",
              "      <td>Monday</td>\n",
              "      <td>Light_Load</td>\n",
              "    </tr>\n",
              "    <tr>\n",
              "      <th>35037</th>\n",
              "      <td>2018-12-31</td>\n",
              "      <td>23:30:00</td>\n",
              "      <td>3.78</td>\n",
              "      <td>3.17</td>\n",
              "      <td>0.07</td>\n",
              "      <td>0.0</td>\n",
              "      <td>76.62</td>\n",
              "      <td>99.98</td>\n",
              "      <td>84600</td>\n",
              "      <td>Weekday</td>\n",
              "      <td>Monday</td>\n",
              "      <td>Light_Load</td>\n",
              "    </tr>\n",
              "    <tr>\n",
              "      <th>35038</th>\n",
              "      <td>2018-12-31</td>\n",
              "      <td>23:45:00</td>\n",
              "      <td>3.78</td>\n",
              "      <td>3.06</td>\n",
              "      <td>0.11</td>\n",
              "      <td>0.0</td>\n",
              "      <td>77.72</td>\n",
              "      <td>99.96</td>\n",
              "      <td>85500</td>\n",
              "      <td>Weekday</td>\n",
              "      <td>Monday</td>\n",
              "      <td>Light_Load</td>\n",
              "    </tr>\n",
              "    <tr>\n",
              "      <th>35039</th>\n",
              "      <td>2018-12-31</td>\n",
              "      <td>00:00:00</td>\n",
              "      <td>3.67</td>\n",
              "      <td>3.02</td>\n",
              "      <td>0.07</td>\n",
              "      <td>0.0</td>\n",
              "      <td>77.22</td>\n",
              "      <td>99.98</td>\n",
              "      <td>0</td>\n",
              "      <td>Weekday</td>\n",
              "      <td>Monday</td>\n",
              "      <td>Light_Load</td>\n",
              "    </tr>\n",
              "  </tbody>\n",
              "</table>\n",
              "<p>35039 rows × 12 columns</p>\n",
              "</div>\n",
              "      <button class=\"colab-df-convert\" onclick=\"convertToInteractive('df-b1a0d6bf-0517-4e09-8c05-ea2da98a57f4')\"\n",
              "              title=\"Convert this dataframe to an interactive table.\"\n",
              "              style=\"display:none;\">\n",
              "        \n",
              "  <svg xmlns=\"http://www.w3.org/2000/svg\" height=\"24px\"viewBox=\"0 0 24 24\"\n",
              "       width=\"24px\">\n",
              "    <path d=\"M0 0h24v24H0V0z\" fill=\"none\"/>\n",
              "    <path d=\"M18.56 5.44l.94 2.06.94-2.06 2.06-.94-2.06-.94-.94-2.06-.94 2.06-2.06.94zm-11 1L8.5 8.5l.94-2.06 2.06-.94-2.06-.94L8.5 2.5l-.94 2.06-2.06.94zm10 10l.94 2.06.94-2.06 2.06-.94-2.06-.94-.94-2.06-.94 2.06-2.06.94z\"/><path d=\"M17.41 7.96l-1.37-1.37c-.4-.4-.92-.59-1.43-.59-.52 0-1.04.2-1.43.59L10.3 9.45l-7.72 7.72c-.78.78-.78 2.05 0 2.83L4 21.41c.39.39.9.59 1.41.59.51 0 1.02-.2 1.41-.59l7.78-7.78 2.81-2.81c.8-.78.8-2.07 0-2.86zM5.41 20L4 18.59l7.72-7.72 1.47 1.35L5.41 20z\"/>\n",
              "  </svg>\n",
              "      </button>\n",
              "      \n",
              "  <style>\n",
              "    .colab-df-container {\n",
              "      display:flex;\n",
              "      flex-wrap:wrap;\n",
              "      gap: 12px;\n",
              "    }\n",
              "\n",
              "    .colab-df-convert {\n",
              "      background-color: #E8F0FE;\n",
              "      border: none;\n",
              "      border-radius: 50%;\n",
              "      cursor: pointer;\n",
              "      display: none;\n",
              "      fill: #1967D2;\n",
              "      height: 32px;\n",
              "      padding: 0 0 0 0;\n",
              "      width: 32px;\n",
              "    }\n",
              "\n",
              "    .colab-df-convert:hover {\n",
              "      background-color: #E2EBFA;\n",
              "      box-shadow: 0px 1px 2px rgba(60, 64, 67, 0.3), 0px 1px 3px 1px rgba(60, 64, 67, 0.15);\n",
              "      fill: #174EA6;\n",
              "    }\n",
              "\n",
              "    [theme=dark] .colab-df-convert {\n",
              "      background-color: #3B4455;\n",
              "      fill: #D2E3FC;\n",
              "    }\n",
              "\n",
              "    [theme=dark] .colab-df-convert:hover {\n",
              "      background-color: #434B5C;\n",
              "      box-shadow: 0px 1px 3px 1px rgba(0, 0, 0, 0.15);\n",
              "      filter: drop-shadow(0px 1px 2px rgba(0, 0, 0, 0.3));\n",
              "      fill: #FFFFFF;\n",
              "    }\n",
              "  </style>\n",
              "\n",
              "      <script>\n",
              "        const buttonEl =\n",
              "          document.querySelector('#df-b1a0d6bf-0517-4e09-8c05-ea2da98a57f4 button.colab-df-convert');\n",
              "        buttonEl.style.display =\n",
              "          google.colab.kernel.accessAllowed ? 'block' : 'none';\n",
              "\n",
              "        async function convertToInteractive(key) {\n",
              "          const element = document.querySelector('#df-b1a0d6bf-0517-4e09-8c05-ea2da98a57f4');\n",
              "          const dataTable =\n",
              "            await google.colab.kernel.invokeFunction('convertToInteractive',\n",
              "                                                     [key], {});\n",
              "          if (!dataTable) return;\n",
              "\n",
              "          const docLinkHtml = 'Like what you see? Visit the ' +\n",
              "            '<a target=\"_blank\" href=https://colab.research.google.com/notebooks/data_table.ipynb>data table notebook</a>'\n",
              "            + ' to learn more about interactive tables.';\n",
              "          element.innerHTML = '';\n",
              "          dataTable['output_type'] = 'display_data';\n",
              "          await google.colab.output.renderOutput(dataTable, element);\n",
              "          const docLink = document.createElement('div');\n",
              "          docLink.innerHTML = docLinkHtml;\n",
              "          element.appendChild(docLink);\n",
              "        }\n",
              "      </script>\n",
              "    </div>\n",
              "  </div>\n",
              "  "
            ]
          },
          "metadata": {},
          "execution_count": 49
        }
      ],
      "source": [
        "Q1 = df[\"Lagging_Current_Power_Factor\"].quantile(0.25)\n",
        "Q3 = df[\"Lagging_Current_Power_Factor\"].quantile(0.75)\n",
        "IQR = Q3 - Q1\n",
        "lower_limit = Q1 - 1.5 * IQR\n",
        "upper_limit = Q3 + 1.5 * IQR\n",
        "\n",
        "print(\"Max Value:\" , df[\"Lagging_Current_Power_Factor\"].max())\n",
        "print(\"Min Value:\" , df[\"Lagging_Current_Power_Factor\"].min())\n",
        "\n",
        "print(\"Lower Limit:\", lower_limit)\n",
        "print(\"Upper Limit:\", upper_limit)\n",
        "\n",
        "\n",
        "\n",
        "new_df = df[(df[\"Lagging_Current_Power_Factor\"] > lower_limit) & (df[\"Lagging_Current_Power_Factor\"] < upper_limit)]\n",
        "new_df\n",
        "\n",
        "\n"
      ]
    },
    {
      "cell_type": "markdown",
      "metadata": {
        "id": "ewQa0sBWRYRC"
      },
      "source": [
        "Leading_Current_Power_Factor"
      ]
    },
    {
      "cell_type": "code",
      "execution_count": null,
      "metadata": {
        "colab": {
          "base_uri": "https://localhost:8080/",
          "height": 731
        },
        "id": "YHoHWX9gOCSG",
        "outputId": "3898c402-57a4-43b6-d3de-2ebab66f6d8c"
      },
      "outputs": [
        {
          "output_type": "stream",
          "name": "stdout",
          "text": [
            "Max Value: 100.0\n",
            "Min Value: 0.0\n",
            "Lower Limit: 99.25\n",
            "Upper Limit: 100.44999999999999\n"
          ]
        },
        {
          "output_type": "execute_result",
          "data": {
            "text/plain": [
              "             Date      Time  Usage_kWh  Lagging_Current_Reactive.Power_kVarh  \\\n",
              "0      2018-01-01  00:15:00       3.17                                  2.95   \n",
              "1      2018-01-01  00:30:00       4.00                                  4.46   \n",
              "2      2018-01-01  00:45:00       3.24                                  3.28   \n",
              "3      2018-01-01  01:00:00       3.31                                  3.56   \n",
              "4      2018-01-01  01:15:00       3.82                                  4.50   \n",
              "...           ...       ...        ...                                   ...   \n",
              "35035  2018-12-31  23:00:00       3.85                                  4.86   \n",
              "35036  2018-12-31  23:15:00       3.74                                  3.74   \n",
              "35037  2018-12-31  23:30:00       3.78                                  3.17   \n",
              "35038  2018-12-31  23:45:00       3.78                                  3.06   \n",
              "35039  2018-12-31  00:00:00       3.67                                  3.02   \n",
              "\n",
              "       Leading_Current_Reactive_Power_kVarh  CO2(tCO2)  \\\n",
              "0                                      0.00        0.0   \n",
              "1                                      0.00        0.0   \n",
              "2                                      0.00        0.0   \n",
              "3                                      0.00        0.0   \n",
              "4                                      0.00        0.0   \n",
              "...                                     ...        ...   \n",
              "35035                                  0.00        0.0   \n",
              "35036                                  0.00        0.0   \n",
              "35037                                  0.07        0.0   \n",
              "35038                                  0.11        0.0   \n",
              "35039                                  0.07        0.0   \n",
              "\n",
              "       Lagging_Current_Power_Factor  Leading_Current_Power_Factor    NSM  \\\n",
              "0                             73.21                        100.00    900   \n",
              "1                             66.77                        100.00   1800   \n",
              "2                             70.28                        100.00   2700   \n",
              "3                             68.09                        100.00   3600   \n",
              "4                             64.72                        100.00   4500   \n",
              "...                             ...                           ...    ...   \n",
              "35035                         62.10                        100.00  82800   \n",
              "35036                         70.71                        100.00  83700   \n",
              "35037                         76.62                         99.98  84600   \n",
              "35038                         77.72                         99.96  85500   \n",
              "35039                         77.22                         99.98      0   \n",
              "\n",
              "      WeekStatus Day_of_week   Load_Type  \n",
              "0        Weekday      Monday  Light_Load  \n",
              "1        Weekday      Monday  Light_Load  \n",
              "2        Weekday      Monday  Light_Load  \n",
              "3        Weekday      Monday  Light_Load  \n",
              "4        Weekday      Monday  Light_Load  \n",
              "...          ...         ...         ...  \n",
              "35035    Weekday      Monday  Light_Load  \n",
              "35036    Weekday      Monday  Light_Load  \n",
              "35037    Weekday      Monday  Light_Load  \n",
              "35038    Weekday      Monday  Light_Load  \n",
              "35039    Weekday      Monday  Light_Load  \n",
              "\n",
              "[26708 rows x 12 columns]"
            ],
            "text/html": [
              "\n",
              "  <div id=\"df-4a7e57df-e9bc-4f14-8f55-d5d380a85bc1\">\n",
              "    <div class=\"colab-df-container\">\n",
              "      <div>\n",
              "<style scoped>\n",
              "    .dataframe tbody tr th:only-of-type {\n",
              "        vertical-align: middle;\n",
              "    }\n",
              "\n",
              "    .dataframe tbody tr th {\n",
              "        vertical-align: top;\n",
              "    }\n",
              "\n",
              "    .dataframe thead th {\n",
              "        text-align: right;\n",
              "    }\n",
              "</style>\n",
              "<table border=\"1\" class=\"dataframe\">\n",
              "  <thead>\n",
              "    <tr style=\"text-align: right;\">\n",
              "      <th></th>\n",
              "      <th>Date</th>\n",
              "      <th>Time</th>\n",
              "      <th>Usage_kWh</th>\n",
              "      <th>Lagging_Current_Reactive.Power_kVarh</th>\n",
              "      <th>Leading_Current_Reactive_Power_kVarh</th>\n",
              "      <th>CO2(tCO2)</th>\n",
              "      <th>Lagging_Current_Power_Factor</th>\n",
              "      <th>Leading_Current_Power_Factor</th>\n",
              "      <th>NSM</th>\n",
              "      <th>WeekStatus</th>\n",
              "      <th>Day_of_week</th>\n",
              "      <th>Load_Type</th>\n",
              "    </tr>\n",
              "  </thead>\n",
              "  <tbody>\n",
              "    <tr>\n",
              "      <th>0</th>\n",
              "      <td>2018-01-01</td>\n",
              "      <td>00:15:00</td>\n",
              "      <td>3.17</td>\n",
              "      <td>2.95</td>\n",
              "      <td>0.00</td>\n",
              "      <td>0.0</td>\n",
              "      <td>73.21</td>\n",
              "      <td>100.00</td>\n",
              "      <td>900</td>\n",
              "      <td>Weekday</td>\n",
              "      <td>Monday</td>\n",
              "      <td>Light_Load</td>\n",
              "    </tr>\n",
              "    <tr>\n",
              "      <th>1</th>\n",
              "      <td>2018-01-01</td>\n",
              "      <td>00:30:00</td>\n",
              "      <td>4.00</td>\n",
              "      <td>4.46</td>\n",
              "      <td>0.00</td>\n",
              "      <td>0.0</td>\n",
              "      <td>66.77</td>\n",
              "      <td>100.00</td>\n",
              "      <td>1800</td>\n",
              "      <td>Weekday</td>\n",
              "      <td>Monday</td>\n",
              "      <td>Light_Load</td>\n",
              "    </tr>\n",
              "    <tr>\n",
              "      <th>2</th>\n",
              "      <td>2018-01-01</td>\n",
              "      <td>00:45:00</td>\n",
              "      <td>3.24</td>\n",
              "      <td>3.28</td>\n",
              "      <td>0.00</td>\n",
              "      <td>0.0</td>\n",
              "      <td>70.28</td>\n",
              "      <td>100.00</td>\n",
              "      <td>2700</td>\n",
              "      <td>Weekday</td>\n",
              "      <td>Monday</td>\n",
              "      <td>Light_Load</td>\n",
              "    </tr>\n",
              "    <tr>\n",
              "      <th>3</th>\n",
              "      <td>2018-01-01</td>\n",
              "      <td>01:00:00</td>\n",
              "      <td>3.31</td>\n",
              "      <td>3.56</td>\n",
              "      <td>0.00</td>\n",
              "      <td>0.0</td>\n",
              "      <td>68.09</td>\n",
              "      <td>100.00</td>\n",
              "      <td>3600</td>\n",
              "      <td>Weekday</td>\n",
              "      <td>Monday</td>\n",
              "      <td>Light_Load</td>\n",
              "    </tr>\n",
              "    <tr>\n",
              "      <th>4</th>\n",
              "      <td>2018-01-01</td>\n",
              "      <td>01:15:00</td>\n",
              "      <td>3.82</td>\n",
              "      <td>4.50</td>\n",
              "      <td>0.00</td>\n",
              "      <td>0.0</td>\n",
              "      <td>64.72</td>\n",
              "      <td>100.00</td>\n",
              "      <td>4500</td>\n",
              "      <td>Weekday</td>\n",
              "      <td>Monday</td>\n",
              "      <td>Light_Load</td>\n",
              "    </tr>\n",
              "    <tr>\n",
              "      <th>...</th>\n",
              "      <td>...</td>\n",
              "      <td>...</td>\n",
              "      <td>...</td>\n",
              "      <td>...</td>\n",
              "      <td>...</td>\n",
              "      <td>...</td>\n",
              "      <td>...</td>\n",
              "      <td>...</td>\n",
              "      <td>...</td>\n",
              "      <td>...</td>\n",
              "      <td>...</td>\n",
              "      <td>...</td>\n",
              "    </tr>\n",
              "    <tr>\n",
              "      <th>35035</th>\n",
              "      <td>2018-12-31</td>\n",
              "      <td>23:00:00</td>\n",
              "      <td>3.85</td>\n",
              "      <td>4.86</td>\n",
              "      <td>0.00</td>\n",
              "      <td>0.0</td>\n",
              "      <td>62.10</td>\n",
              "      <td>100.00</td>\n",
              "      <td>82800</td>\n",
              "      <td>Weekday</td>\n",
              "      <td>Monday</td>\n",
              "      <td>Light_Load</td>\n",
              "    </tr>\n",
              "    <tr>\n",
              "      <th>35036</th>\n",
              "      <td>2018-12-31</td>\n",
              "      <td>23:15:00</td>\n",
              "      <td>3.74</td>\n",
              "      <td>3.74</td>\n",
              "      <td>0.00</td>\n",
              "      <td>0.0</td>\n",
              "      <td>70.71</td>\n",
              "      <td>100.00</td>\n",
              "      <td>83700</td>\n",
              "      <td>Weekday</td>\n",
              "      <td>Monday</td>\n",
              "      <td>Light_Load</td>\n",
              "    </tr>\n",
              "    <tr>\n",
              "      <th>35037</th>\n",
              "      <td>2018-12-31</td>\n",
              "      <td>23:30:00</td>\n",
              "      <td>3.78</td>\n",
              "      <td>3.17</td>\n",
              "      <td>0.07</td>\n",
              "      <td>0.0</td>\n",
              "      <td>76.62</td>\n",
              "      <td>99.98</td>\n",
              "      <td>84600</td>\n",
              "      <td>Weekday</td>\n",
              "      <td>Monday</td>\n",
              "      <td>Light_Load</td>\n",
              "    </tr>\n",
              "    <tr>\n",
              "      <th>35038</th>\n",
              "      <td>2018-12-31</td>\n",
              "      <td>23:45:00</td>\n",
              "      <td>3.78</td>\n",
              "      <td>3.06</td>\n",
              "      <td>0.11</td>\n",
              "      <td>0.0</td>\n",
              "      <td>77.72</td>\n",
              "      <td>99.96</td>\n",
              "      <td>85500</td>\n",
              "      <td>Weekday</td>\n",
              "      <td>Monday</td>\n",
              "      <td>Light_Load</td>\n",
              "    </tr>\n",
              "    <tr>\n",
              "      <th>35039</th>\n",
              "      <td>2018-12-31</td>\n",
              "      <td>00:00:00</td>\n",
              "      <td>3.67</td>\n",
              "      <td>3.02</td>\n",
              "      <td>0.07</td>\n",
              "      <td>0.0</td>\n",
              "      <td>77.22</td>\n",
              "      <td>99.98</td>\n",
              "      <td>0</td>\n",
              "      <td>Weekday</td>\n",
              "      <td>Monday</td>\n",
              "      <td>Light_Load</td>\n",
              "    </tr>\n",
              "  </tbody>\n",
              "</table>\n",
              "<p>26708 rows × 12 columns</p>\n",
              "</div>\n",
              "      <button class=\"colab-df-convert\" onclick=\"convertToInteractive('df-4a7e57df-e9bc-4f14-8f55-d5d380a85bc1')\"\n",
              "              title=\"Convert this dataframe to an interactive table.\"\n",
              "              style=\"display:none;\">\n",
              "        \n",
              "  <svg xmlns=\"http://www.w3.org/2000/svg\" height=\"24px\"viewBox=\"0 0 24 24\"\n",
              "       width=\"24px\">\n",
              "    <path d=\"M0 0h24v24H0V0z\" fill=\"none\"/>\n",
              "    <path d=\"M18.56 5.44l.94 2.06.94-2.06 2.06-.94-2.06-.94-.94-2.06-.94 2.06-2.06.94zm-11 1L8.5 8.5l.94-2.06 2.06-.94-2.06-.94L8.5 2.5l-.94 2.06-2.06.94zm10 10l.94 2.06.94-2.06 2.06-.94-2.06-.94-.94-2.06-.94 2.06-2.06.94z\"/><path d=\"M17.41 7.96l-1.37-1.37c-.4-.4-.92-.59-1.43-.59-.52 0-1.04.2-1.43.59L10.3 9.45l-7.72 7.72c-.78.78-.78 2.05 0 2.83L4 21.41c.39.39.9.59 1.41.59.51 0 1.02-.2 1.41-.59l7.78-7.78 2.81-2.81c.8-.78.8-2.07 0-2.86zM5.41 20L4 18.59l7.72-7.72 1.47 1.35L5.41 20z\"/>\n",
              "  </svg>\n",
              "      </button>\n",
              "      \n",
              "  <style>\n",
              "    .colab-df-container {\n",
              "      display:flex;\n",
              "      flex-wrap:wrap;\n",
              "      gap: 12px;\n",
              "    }\n",
              "\n",
              "    .colab-df-convert {\n",
              "      background-color: #E8F0FE;\n",
              "      border: none;\n",
              "      border-radius: 50%;\n",
              "      cursor: pointer;\n",
              "      display: none;\n",
              "      fill: #1967D2;\n",
              "      height: 32px;\n",
              "      padding: 0 0 0 0;\n",
              "      width: 32px;\n",
              "    }\n",
              "\n",
              "    .colab-df-convert:hover {\n",
              "      background-color: #E2EBFA;\n",
              "      box-shadow: 0px 1px 2px rgba(60, 64, 67, 0.3), 0px 1px 3px 1px rgba(60, 64, 67, 0.15);\n",
              "      fill: #174EA6;\n",
              "    }\n",
              "\n",
              "    [theme=dark] .colab-df-convert {\n",
              "      background-color: #3B4455;\n",
              "      fill: #D2E3FC;\n",
              "    }\n",
              "\n",
              "    [theme=dark] .colab-df-convert:hover {\n",
              "      background-color: #434B5C;\n",
              "      box-shadow: 0px 1px 3px 1px rgba(0, 0, 0, 0.15);\n",
              "      filter: drop-shadow(0px 1px 2px rgba(0, 0, 0, 0.3));\n",
              "      fill: #FFFFFF;\n",
              "    }\n",
              "  </style>\n",
              "\n",
              "      <script>\n",
              "        const buttonEl =\n",
              "          document.querySelector('#df-4a7e57df-e9bc-4f14-8f55-d5d380a85bc1 button.colab-df-convert');\n",
              "        buttonEl.style.display =\n",
              "          google.colab.kernel.accessAllowed ? 'block' : 'none';\n",
              "\n",
              "        async function convertToInteractive(key) {\n",
              "          const element = document.querySelector('#df-4a7e57df-e9bc-4f14-8f55-d5d380a85bc1');\n",
              "          const dataTable =\n",
              "            await google.colab.kernel.invokeFunction('convertToInteractive',\n",
              "                                                     [key], {});\n",
              "          if (!dataTable) return;\n",
              "\n",
              "          const docLinkHtml = 'Like what you see? Visit the ' +\n",
              "            '<a target=\"_blank\" href=https://colab.research.google.com/notebooks/data_table.ipynb>data table notebook</a>'\n",
              "            + ' to learn more about interactive tables.';\n",
              "          element.innerHTML = '';\n",
              "          dataTable['output_type'] = 'display_data';\n",
              "          await google.colab.output.renderOutput(dataTable, element);\n",
              "          const docLink = document.createElement('div');\n",
              "          docLink.innerHTML = docLinkHtml;\n",
              "          element.appendChild(docLink);\n",
              "        }\n",
              "      </script>\n",
              "    </div>\n",
              "  </div>\n",
              "  "
            ]
          },
          "metadata": {},
          "execution_count": 50
        }
      ],
      "source": [
        "Q1 = df[\"Leading_Current_Power_Factor\"].quantile(0.25)\n",
        "Q3 = df[\"Leading_Current_Power_Factor\"].quantile(0.75)\n",
        "IQR = Q3 - Q1\n",
        "lower_limit = Q1 - 1.5 * IQR\n",
        "upper_limit = Q3 + 1.5 * IQR\n",
        "\n",
        "print(\"Max Value:\" , df[\"Leading_Current_Power_Factor\"].max())\n",
        "print(\"Min Value:\" , df[\"Leading_Current_Power_Factor\"].min())\n",
        "\n",
        "print(\"Lower Limit:\", lower_limit)\n",
        "print(\"Upper Limit:\", upper_limit)\n",
        "\n",
        "new_df = df[(df[\"Leading_Current_Power_Factor\"] > lower_limit) & (df[\"Leading_Current_Power_Factor\"] < upper_limit)]\n",
        "new_df\n",
        "\n",
        "\n"
      ]
    },
    {
      "cell_type": "markdown",
      "metadata": {
        "id": "6OwY_ivcz3U1"
      },
      "source": [
        "3. Handling NaN values"
      ]
    },
    {
      "cell_type": "code",
      "execution_count": null,
      "metadata": {
        "colab": {
          "base_uri": "https://localhost:8080/"
        },
        "id": "9Y8R8oLnpvlg",
        "outputId": "a14ce7da-a740-46e2-8f19-5575f2047792"
      },
      "outputs": [
        {
          "output_type": "execute_result",
          "data": {
            "text/plain": [
              "Date                                    0\n",
              "Time                                    0\n",
              "Usage_kWh                               0\n",
              "Lagging_Current_Reactive.Power_kVarh    0\n",
              "Leading_Current_Reactive_Power_kVarh    0\n",
              "CO2(tCO2)                               0\n",
              "Lagging_Current_Power_Factor            0\n",
              "Leading_Current_Power_Factor            0\n",
              "NSM                                     0\n",
              "WeekStatus                              0\n",
              "Day_of_week                             0\n",
              "Load_Type                               0\n",
              "dtype: int64"
            ]
          },
          "metadata": {},
          "execution_count": 51
        }
      ],
      "source": [
        "df.isna().sum()"
      ]
    },
    {
      "cell_type": "code",
      "execution_count": null,
      "metadata": {
        "colab": {
          "base_uri": "https://localhost:8080/",
          "height": 661
        },
        "id": "xJ1RgzhA0QaT",
        "outputId": "dba1e687-d565-4a58-f264-ae79e0ba1293"
      },
      "outputs": [
        {
          "output_type": "execute_result",
          "data": {
            "text/plain": [
              "             Date      Time  Usage_kWh  Lagging_Current_Reactive.Power_kVarh  \\\n",
              "0      2018-01-01  00:15:00       3.17                                  2.95   \n",
              "1      2018-01-01  00:30:00       4.00                                  4.46   \n",
              "2      2018-01-01  00:45:00       3.24                                  3.28   \n",
              "3      2018-01-01  01:00:00       3.31                                  3.56   \n",
              "4      2018-01-01  01:15:00       3.82                                  4.50   \n",
              "...           ...       ...        ...                                   ...   \n",
              "35035  2018-12-31  23:00:00       3.85                                  4.86   \n",
              "35036  2018-12-31  23:15:00       3.74                                  3.74   \n",
              "35037  2018-12-31  23:30:00       3.78                                  3.17   \n",
              "35038  2018-12-31  23:45:00       3.78                                  3.06   \n",
              "35039  2018-12-31  00:00:00       3.67                                  3.02   \n",
              "\n",
              "       Leading_Current_Reactive_Power_kVarh  CO2(tCO2)  \\\n",
              "0                                      0.00        0.0   \n",
              "1                                      0.00        0.0   \n",
              "2                                      0.00        0.0   \n",
              "3                                      0.00        0.0   \n",
              "4                                      0.00        0.0   \n",
              "...                                     ...        ...   \n",
              "35035                                  0.00        0.0   \n",
              "35036                                  0.00        0.0   \n",
              "35037                                  0.07        0.0   \n",
              "35038                                  0.11        0.0   \n",
              "35039                                  0.07        0.0   \n",
              "\n",
              "       Lagging_Current_Power_Factor  Leading_Current_Power_Factor    NSM  \\\n",
              "0                             73.21                        100.00    900   \n",
              "1                             66.77                        100.00   1800   \n",
              "2                             70.28                        100.00   2700   \n",
              "3                             68.09                        100.00   3600   \n",
              "4                             64.72                        100.00   4500   \n",
              "...                             ...                           ...    ...   \n",
              "35035                         62.10                        100.00  82800   \n",
              "35036                         70.71                        100.00  83700   \n",
              "35037                         76.62                         99.98  84600   \n",
              "35038                         77.72                         99.96  85500   \n",
              "35039                         77.22                         99.98      0   \n",
              "\n",
              "      WeekStatus Day_of_week   Load_Type  \n",
              "0        Weekday      Monday  Light_Load  \n",
              "1        Weekday      Monday  Light_Load  \n",
              "2        Weekday      Monday  Light_Load  \n",
              "3        Weekday      Monday  Light_Load  \n",
              "4        Weekday      Monday  Light_Load  \n",
              "...          ...         ...         ...  \n",
              "35035    Weekday      Monday  Light_Load  \n",
              "35036    Weekday      Monday  Light_Load  \n",
              "35037    Weekday      Monday  Light_Load  \n",
              "35038    Weekday      Monday  Light_Load  \n",
              "35039    Weekday      Monday  Light_Load  \n",
              "\n",
              "[35040 rows x 12 columns]"
            ],
            "text/html": [
              "\n",
              "  <div id=\"df-0b2d7a1b-5b5a-4d56-9633-86e371928870\">\n",
              "    <div class=\"colab-df-container\">\n",
              "      <div>\n",
              "<style scoped>\n",
              "    .dataframe tbody tr th:only-of-type {\n",
              "        vertical-align: middle;\n",
              "    }\n",
              "\n",
              "    .dataframe tbody tr th {\n",
              "        vertical-align: top;\n",
              "    }\n",
              "\n",
              "    .dataframe thead th {\n",
              "        text-align: right;\n",
              "    }\n",
              "</style>\n",
              "<table border=\"1\" class=\"dataframe\">\n",
              "  <thead>\n",
              "    <tr style=\"text-align: right;\">\n",
              "      <th></th>\n",
              "      <th>Date</th>\n",
              "      <th>Time</th>\n",
              "      <th>Usage_kWh</th>\n",
              "      <th>Lagging_Current_Reactive.Power_kVarh</th>\n",
              "      <th>Leading_Current_Reactive_Power_kVarh</th>\n",
              "      <th>CO2(tCO2)</th>\n",
              "      <th>Lagging_Current_Power_Factor</th>\n",
              "      <th>Leading_Current_Power_Factor</th>\n",
              "      <th>NSM</th>\n",
              "      <th>WeekStatus</th>\n",
              "      <th>Day_of_week</th>\n",
              "      <th>Load_Type</th>\n",
              "    </tr>\n",
              "  </thead>\n",
              "  <tbody>\n",
              "    <tr>\n",
              "      <th>0</th>\n",
              "      <td>2018-01-01</td>\n",
              "      <td>00:15:00</td>\n",
              "      <td>3.17</td>\n",
              "      <td>2.95</td>\n",
              "      <td>0.00</td>\n",
              "      <td>0.0</td>\n",
              "      <td>73.21</td>\n",
              "      <td>100.00</td>\n",
              "      <td>900</td>\n",
              "      <td>Weekday</td>\n",
              "      <td>Monday</td>\n",
              "      <td>Light_Load</td>\n",
              "    </tr>\n",
              "    <tr>\n",
              "      <th>1</th>\n",
              "      <td>2018-01-01</td>\n",
              "      <td>00:30:00</td>\n",
              "      <td>4.00</td>\n",
              "      <td>4.46</td>\n",
              "      <td>0.00</td>\n",
              "      <td>0.0</td>\n",
              "      <td>66.77</td>\n",
              "      <td>100.00</td>\n",
              "      <td>1800</td>\n",
              "      <td>Weekday</td>\n",
              "      <td>Monday</td>\n",
              "      <td>Light_Load</td>\n",
              "    </tr>\n",
              "    <tr>\n",
              "      <th>2</th>\n",
              "      <td>2018-01-01</td>\n",
              "      <td>00:45:00</td>\n",
              "      <td>3.24</td>\n",
              "      <td>3.28</td>\n",
              "      <td>0.00</td>\n",
              "      <td>0.0</td>\n",
              "      <td>70.28</td>\n",
              "      <td>100.00</td>\n",
              "      <td>2700</td>\n",
              "      <td>Weekday</td>\n",
              "      <td>Monday</td>\n",
              "      <td>Light_Load</td>\n",
              "    </tr>\n",
              "    <tr>\n",
              "      <th>3</th>\n",
              "      <td>2018-01-01</td>\n",
              "      <td>01:00:00</td>\n",
              "      <td>3.31</td>\n",
              "      <td>3.56</td>\n",
              "      <td>0.00</td>\n",
              "      <td>0.0</td>\n",
              "      <td>68.09</td>\n",
              "      <td>100.00</td>\n",
              "      <td>3600</td>\n",
              "      <td>Weekday</td>\n",
              "      <td>Monday</td>\n",
              "      <td>Light_Load</td>\n",
              "    </tr>\n",
              "    <tr>\n",
              "      <th>4</th>\n",
              "      <td>2018-01-01</td>\n",
              "      <td>01:15:00</td>\n",
              "      <td>3.82</td>\n",
              "      <td>4.50</td>\n",
              "      <td>0.00</td>\n",
              "      <td>0.0</td>\n",
              "      <td>64.72</td>\n",
              "      <td>100.00</td>\n",
              "      <td>4500</td>\n",
              "      <td>Weekday</td>\n",
              "      <td>Monday</td>\n",
              "      <td>Light_Load</td>\n",
              "    </tr>\n",
              "    <tr>\n",
              "      <th>...</th>\n",
              "      <td>...</td>\n",
              "      <td>...</td>\n",
              "      <td>...</td>\n",
              "      <td>...</td>\n",
              "      <td>...</td>\n",
              "      <td>...</td>\n",
              "      <td>...</td>\n",
              "      <td>...</td>\n",
              "      <td>...</td>\n",
              "      <td>...</td>\n",
              "      <td>...</td>\n",
              "      <td>...</td>\n",
              "    </tr>\n",
              "    <tr>\n",
              "      <th>35035</th>\n",
              "      <td>2018-12-31</td>\n",
              "      <td>23:00:00</td>\n",
              "      <td>3.85</td>\n",
              "      <td>4.86</td>\n",
              "      <td>0.00</td>\n",
              "      <td>0.0</td>\n",
              "      <td>62.10</td>\n",
              "      <td>100.00</td>\n",
              "      <td>82800</td>\n",
              "      <td>Weekday</td>\n",
              "      <td>Monday</td>\n",
              "      <td>Light_Load</td>\n",
              "    </tr>\n",
              "    <tr>\n",
              "      <th>35036</th>\n",
              "      <td>2018-12-31</td>\n",
              "      <td>23:15:00</td>\n",
              "      <td>3.74</td>\n",
              "      <td>3.74</td>\n",
              "      <td>0.00</td>\n",
              "      <td>0.0</td>\n",
              "      <td>70.71</td>\n",
              "      <td>100.00</td>\n",
              "      <td>83700</td>\n",
              "      <td>Weekday</td>\n",
              "      <td>Monday</td>\n",
              "      <td>Light_Load</td>\n",
              "    </tr>\n",
              "    <tr>\n",
              "      <th>35037</th>\n",
              "      <td>2018-12-31</td>\n",
              "      <td>23:30:00</td>\n",
              "      <td>3.78</td>\n",
              "      <td>3.17</td>\n",
              "      <td>0.07</td>\n",
              "      <td>0.0</td>\n",
              "      <td>76.62</td>\n",
              "      <td>99.98</td>\n",
              "      <td>84600</td>\n",
              "      <td>Weekday</td>\n",
              "      <td>Monday</td>\n",
              "      <td>Light_Load</td>\n",
              "    </tr>\n",
              "    <tr>\n",
              "      <th>35038</th>\n",
              "      <td>2018-12-31</td>\n",
              "      <td>23:45:00</td>\n",
              "      <td>3.78</td>\n",
              "      <td>3.06</td>\n",
              "      <td>0.11</td>\n",
              "      <td>0.0</td>\n",
              "      <td>77.72</td>\n",
              "      <td>99.96</td>\n",
              "      <td>85500</td>\n",
              "      <td>Weekday</td>\n",
              "      <td>Monday</td>\n",
              "      <td>Light_Load</td>\n",
              "    </tr>\n",
              "    <tr>\n",
              "      <th>35039</th>\n",
              "      <td>2018-12-31</td>\n",
              "      <td>00:00:00</td>\n",
              "      <td>3.67</td>\n",
              "      <td>3.02</td>\n",
              "      <td>0.07</td>\n",
              "      <td>0.0</td>\n",
              "      <td>77.22</td>\n",
              "      <td>99.98</td>\n",
              "      <td>0</td>\n",
              "      <td>Weekday</td>\n",
              "      <td>Monday</td>\n",
              "      <td>Light_Load</td>\n",
              "    </tr>\n",
              "  </tbody>\n",
              "</table>\n",
              "<p>35040 rows × 12 columns</p>\n",
              "</div>\n",
              "      <button class=\"colab-df-convert\" onclick=\"convertToInteractive('df-0b2d7a1b-5b5a-4d56-9633-86e371928870')\"\n",
              "              title=\"Convert this dataframe to an interactive table.\"\n",
              "              style=\"display:none;\">\n",
              "        \n",
              "  <svg xmlns=\"http://www.w3.org/2000/svg\" height=\"24px\"viewBox=\"0 0 24 24\"\n",
              "       width=\"24px\">\n",
              "    <path d=\"M0 0h24v24H0V0z\" fill=\"none\"/>\n",
              "    <path d=\"M18.56 5.44l.94 2.06.94-2.06 2.06-.94-2.06-.94-.94-2.06-.94 2.06-2.06.94zm-11 1L8.5 8.5l.94-2.06 2.06-.94-2.06-.94L8.5 2.5l-.94 2.06-2.06.94zm10 10l.94 2.06.94-2.06 2.06-.94-2.06-.94-.94-2.06-.94 2.06-2.06.94z\"/><path d=\"M17.41 7.96l-1.37-1.37c-.4-.4-.92-.59-1.43-.59-.52 0-1.04.2-1.43.59L10.3 9.45l-7.72 7.72c-.78.78-.78 2.05 0 2.83L4 21.41c.39.39.9.59 1.41.59.51 0 1.02-.2 1.41-.59l7.78-7.78 2.81-2.81c.8-.78.8-2.07 0-2.86zM5.41 20L4 18.59l7.72-7.72 1.47 1.35L5.41 20z\"/>\n",
              "  </svg>\n",
              "      </button>\n",
              "      \n",
              "  <style>\n",
              "    .colab-df-container {\n",
              "      display:flex;\n",
              "      flex-wrap:wrap;\n",
              "      gap: 12px;\n",
              "    }\n",
              "\n",
              "    .colab-df-convert {\n",
              "      background-color: #E8F0FE;\n",
              "      border: none;\n",
              "      border-radius: 50%;\n",
              "      cursor: pointer;\n",
              "      display: none;\n",
              "      fill: #1967D2;\n",
              "      height: 32px;\n",
              "      padding: 0 0 0 0;\n",
              "      width: 32px;\n",
              "    }\n",
              "\n",
              "    .colab-df-convert:hover {\n",
              "      background-color: #E2EBFA;\n",
              "      box-shadow: 0px 1px 2px rgba(60, 64, 67, 0.3), 0px 1px 3px 1px rgba(60, 64, 67, 0.15);\n",
              "      fill: #174EA6;\n",
              "    }\n",
              "\n",
              "    [theme=dark] .colab-df-convert {\n",
              "      background-color: #3B4455;\n",
              "      fill: #D2E3FC;\n",
              "    }\n",
              "\n",
              "    [theme=dark] .colab-df-convert:hover {\n",
              "      background-color: #434B5C;\n",
              "      box-shadow: 0px 1px 3px 1px rgba(0, 0, 0, 0.15);\n",
              "      filter: drop-shadow(0px 1px 2px rgba(0, 0, 0, 0.3));\n",
              "      fill: #FFFFFF;\n",
              "    }\n",
              "  </style>\n",
              "\n",
              "      <script>\n",
              "        const buttonEl =\n",
              "          document.querySelector('#df-0b2d7a1b-5b5a-4d56-9633-86e371928870 button.colab-df-convert');\n",
              "        buttonEl.style.display =\n",
              "          google.colab.kernel.accessAllowed ? 'block' : 'none';\n",
              "\n",
              "        async function convertToInteractive(key) {\n",
              "          const element = document.querySelector('#df-0b2d7a1b-5b5a-4d56-9633-86e371928870');\n",
              "          const dataTable =\n",
              "            await google.colab.kernel.invokeFunction('convertToInteractive',\n",
              "                                                     [key], {});\n",
              "          if (!dataTable) return;\n",
              "\n",
              "          const docLinkHtml = 'Like what you see? Visit the ' +\n",
              "            '<a target=\"_blank\" href=https://colab.research.google.com/notebooks/data_table.ipynb>data table notebook</a>'\n",
              "            + ' to learn more about interactive tables.';\n",
              "          element.innerHTML = '';\n",
              "          dataTable['output_type'] = 'display_data';\n",
              "          await google.colab.output.renderOutput(dataTable, element);\n",
              "          const docLink = document.createElement('div');\n",
              "          docLink.innerHTML = docLinkHtml;\n",
              "          element.appendChild(docLink);\n",
              "        }\n",
              "      </script>\n",
              "    </div>\n",
              "  </div>\n",
              "  "
            ]
          },
          "metadata": {},
          "execution_count": 52
        }
      ],
      "source": [
        "df = df.fillna({\n",
        "    \"Usage_kWh\": df[\"Usage_kWh\"].mean(),\n",
        "    \"Lagging_Current_Reactive.Power_kVarh\":df[\"Lagging_Current_Reactive.Power_kVarh\"].mean(),\n",
        "    \"Leading_Current_Reactive_Power_kVarh\":df[\"Leading_Current_Reactive_Power_kVarh\"].mode(),\n",
        "    \"CO2(tCO2)\":df[\"CO2(tCO2)\"].mode(),\n",
        "    \"Lagging_Current_Power_Factor\":df[\"Lagging_Current_Power_Factor\"].interpolate(method=\"time\"),\n",
        "    \"Leading_Current_Power_Factor\":df[\"Leading_Current_Power_Factor\"].interpolate(method=\"time\"),\n",
        "    \"NSM\":df[\"NSM\"].interpolate(method=\"time\"),\n",
        "    \"WeekStatus\": df[\"WeekStatus\"].mode(),\n",
        "    \"Day_of_week\": df[\"Day_of_week\"].interpolate(method=\"time\"),\n",
        "    \"Load_Type\": df[\"Load_Type\"].interpolate(method=\"time\")\n",
        "})\n",
        "\n",
        "df"
      ]
    },
    {
      "cell_type": "markdown",
      "metadata": {
        "id": "W-V5iv7rAbtt"
      },
      "source": [
        "4. Ordinal Encoding for \"days in week\" and \"Load_Type\"\n",
        "\n",
        "\n",
        "\n",
        "\n"
      ]
    },
    {
      "cell_type": "code",
      "execution_count": null,
      "metadata": {
        "colab": {
          "base_uri": "https://localhost:8080/",
          "height": 601
        },
        "id": "T-7umSVZAeI5",
        "outputId": "d7b49d1f-eb53-4f86-af10-e409fe6ba140"
      },
      "outputs": [
        {
          "output_type": "execute_result",
          "data": {
            "text/plain": [
              "         Date      Time  Usage_kWh  Lagging_Current_Reactive.Power_kVarh  \\\n",
              "0  2018-01-01  00:15:00       3.17                                  2.95   \n",
              "1  2018-01-01  00:30:00       4.00                                  4.46   \n",
              "2  2018-01-01  00:45:00       3.24                                  3.28   \n",
              "3  2018-01-01  01:00:00       3.31                                  3.56   \n",
              "4  2018-01-01  01:15:00       3.82                                  4.50   \n",
              "5  2018-01-01  01:30:00       3.28                                  3.56   \n",
              "6  2018-01-01  01:45:00       3.60                                  4.14   \n",
              "7  2018-01-01  02:00:00       3.60                                  4.28   \n",
              "8  2018-01-01  02:15:00       3.28                                  3.64   \n",
              "9  2018-01-01  02:30:00       3.78                                  4.72   \n",
              "\n",
              "   Leading_Current_Reactive_Power_kVarh  CO2(tCO2)  \\\n",
              "0                                   0.0        0.0   \n",
              "1                                   0.0        0.0   \n",
              "2                                   0.0        0.0   \n",
              "3                                   0.0        0.0   \n",
              "4                                   0.0        0.0   \n",
              "5                                   0.0        0.0   \n",
              "6                                   0.0        0.0   \n",
              "7                                   0.0        0.0   \n",
              "8                                   0.0        0.0   \n",
              "9                                   0.0        0.0   \n",
              "\n",
              "   Lagging_Current_Power_Factor  Leading_Current_Power_Factor   NSM  \\\n",
              "0                         73.21                         100.0   900   \n",
              "1                         66.77                         100.0  1800   \n",
              "2                         70.28                         100.0  2700   \n",
              "3                         68.09                         100.0  3600   \n",
              "4                         64.72                         100.0  4500   \n",
              "5                         67.76                         100.0  5400   \n",
              "6                         65.62                         100.0  6300   \n",
              "7                         64.37                         100.0  7200   \n",
              "8                         66.94                         100.0  8100   \n",
              "9                         62.51                         100.0  9000   \n",
              "\n",
              "  WeekStatus  Day_of_week  Load_Type  \n",
              "0    Weekday          1.0        0.0  \n",
              "1    Weekday          1.0        0.0  \n",
              "2    Weekday          1.0        0.0  \n",
              "3    Weekday          1.0        0.0  \n",
              "4    Weekday          1.0        0.0  \n",
              "5    Weekday          1.0        0.0  \n",
              "6    Weekday          1.0        0.0  \n",
              "7    Weekday          1.0        0.0  \n",
              "8    Weekday          1.0        0.0  \n",
              "9    Weekday          1.0        0.0  "
            ],
            "text/html": [
              "\n",
              "  <div id=\"df-6847bea0-3c48-45e0-bd76-56d14e8d9e80\">\n",
              "    <div class=\"colab-df-container\">\n",
              "      <div>\n",
              "<style scoped>\n",
              "    .dataframe tbody tr th:only-of-type {\n",
              "        vertical-align: middle;\n",
              "    }\n",
              "\n",
              "    .dataframe tbody tr th {\n",
              "        vertical-align: top;\n",
              "    }\n",
              "\n",
              "    .dataframe thead th {\n",
              "        text-align: right;\n",
              "    }\n",
              "</style>\n",
              "<table border=\"1\" class=\"dataframe\">\n",
              "  <thead>\n",
              "    <tr style=\"text-align: right;\">\n",
              "      <th></th>\n",
              "      <th>Date</th>\n",
              "      <th>Time</th>\n",
              "      <th>Usage_kWh</th>\n",
              "      <th>Lagging_Current_Reactive.Power_kVarh</th>\n",
              "      <th>Leading_Current_Reactive_Power_kVarh</th>\n",
              "      <th>CO2(tCO2)</th>\n",
              "      <th>Lagging_Current_Power_Factor</th>\n",
              "      <th>Leading_Current_Power_Factor</th>\n",
              "      <th>NSM</th>\n",
              "      <th>WeekStatus</th>\n",
              "      <th>Day_of_week</th>\n",
              "      <th>Load_Type</th>\n",
              "    </tr>\n",
              "  </thead>\n",
              "  <tbody>\n",
              "    <tr>\n",
              "      <th>0</th>\n",
              "      <td>2018-01-01</td>\n",
              "      <td>00:15:00</td>\n",
              "      <td>3.17</td>\n",
              "      <td>2.95</td>\n",
              "      <td>0.0</td>\n",
              "      <td>0.0</td>\n",
              "      <td>73.21</td>\n",
              "      <td>100.0</td>\n",
              "      <td>900</td>\n",
              "      <td>Weekday</td>\n",
              "      <td>1.0</td>\n",
              "      <td>0.0</td>\n",
              "    </tr>\n",
              "    <tr>\n",
              "      <th>1</th>\n",
              "      <td>2018-01-01</td>\n",
              "      <td>00:30:00</td>\n",
              "      <td>4.00</td>\n",
              "      <td>4.46</td>\n",
              "      <td>0.0</td>\n",
              "      <td>0.0</td>\n",
              "      <td>66.77</td>\n",
              "      <td>100.0</td>\n",
              "      <td>1800</td>\n",
              "      <td>Weekday</td>\n",
              "      <td>1.0</td>\n",
              "      <td>0.0</td>\n",
              "    </tr>\n",
              "    <tr>\n",
              "      <th>2</th>\n",
              "      <td>2018-01-01</td>\n",
              "      <td>00:45:00</td>\n",
              "      <td>3.24</td>\n",
              "      <td>3.28</td>\n",
              "      <td>0.0</td>\n",
              "      <td>0.0</td>\n",
              "      <td>70.28</td>\n",
              "      <td>100.0</td>\n",
              "      <td>2700</td>\n",
              "      <td>Weekday</td>\n",
              "      <td>1.0</td>\n",
              "      <td>0.0</td>\n",
              "    </tr>\n",
              "    <tr>\n",
              "      <th>3</th>\n",
              "      <td>2018-01-01</td>\n",
              "      <td>01:00:00</td>\n",
              "      <td>3.31</td>\n",
              "      <td>3.56</td>\n",
              "      <td>0.0</td>\n",
              "      <td>0.0</td>\n",
              "      <td>68.09</td>\n",
              "      <td>100.0</td>\n",
              "      <td>3600</td>\n",
              "      <td>Weekday</td>\n",
              "      <td>1.0</td>\n",
              "      <td>0.0</td>\n",
              "    </tr>\n",
              "    <tr>\n",
              "      <th>4</th>\n",
              "      <td>2018-01-01</td>\n",
              "      <td>01:15:00</td>\n",
              "      <td>3.82</td>\n",
              "      <td>4.50</td>\n",
              "      <td>0.0</td>\n",
              "      <td>0.0</td>\n",
              "      <td>64.72</td>\n",
              "      <td>100.0</td>\n",
              "      <td>4500</td>\n",
              "      <td>Weekday</td>\n",
              "      <td>1.0</td>\n",
              "      <td>0.0</td>\n",
              "    </tr>\n",
              "    <tr>\n",
              "      <th>5</th>\n",
              "      <td>2018-01-01</td>\n",
              "      <td>01:30:00</td>\n",
              "      <td>3.28</td>\n",
              "      <td>3.56</td>\n",
              "      <td>0.0</td>\n",
              "      <td>0.0</td>\n",
              "      <td>67.76</td>\n",
              "      <td>100.0</td>\n",
              "      <td>5400</td>\n",
              "      <td>Weekday</td>\n",
              "      <td>1.0</td>\n",
              "      <td>0.0</td>\n",
              "    </tr>\n",
              "    <tr>\n",
              "      <th>6</th>\n",
              "      <td>2018-01-01</td>\n",
              "      <td>01:45:00</td>\n",
              "      <td>3.60</td>\n",
              "      <td>4.14</td>\n",
              "      <td>0.0</td>\n",
              "      <td>0.0</td>\n",
              "      <td>65.62</td>\n",
              "      <td>100.0</td>\n",
              "      <td>6300</td>\n",
              "      <td>Weekday</td>\n",
              "      <td>1.0</td>\n",
              "      <td>0.0</td>\n",
              "    </tr>\n",
              "    <tr>\n",
              "      <th>7</th>\n",
              "      <td>2018-01-01</td>\n",
              "      <td>02:00:00</td>\n",
              "      <td>3.60</td>\n",
              "      <td>4.28</td>\n",
              "      <td>0.0</td>\n",
              "      <td>0.0</td>\n",
              "      <td>64.37</td>\n",
              "      <td>100.0</td>\n",
              "      <td>7200</td>\n",
              "      <td>Weekday</td>\n",
              "      <td>1.0</td>\n",
              "      <td>0.0</td>\n",
              "    </tr>\n",
              "    <tr>\n",
              "      <th>8</th>\n",
              "      <td>2018-01-01</td>\n",
              "      <td>02:15:00</td>\n",
              "      <td>3.28</td>\n",
              "      <td>3.64</td>\n",
              "      <td>0.0</td>\n",
              "      <td>0.0</td>\n",
              "      <td>66.94</td>\n",
              "      <td>100.0</td>\n",
              "      <td>8100</td>\n",
              "      <td>Weekday</td>\n",
              "      <td>1.0</td>\n",
              "      <td>0.0</td>\n",
              "    </tr>\n",
              "    <tr>\n",
              "      <th>9</th>\n",
              "      <td>2018-01-01</td>\n",
              "      <td>02:30:00</td>\n",
              "      <td>3.78</td>\n",
              "      <td>4.72</td>\n",
              "      <td>0.0</td>\n",
              "      <td>0.0</td>\n",
              "      <td>62.51</td>\n",
              "      <td>100.0</td>\n",
              "      <td>9000</td>\n",
              "      <td>Weekday</td>\n",
              "      <td>1.0</td>\n",
              "      <td>0.0</td>\n",
              "    </tr>\n",
              "  </tbody>\n",
              "</table>\n",
              "</div>\n",
              "      <button class=\"colab-df-convert\" onclick=\"convertToInteractive('df-6847bea0-3c48-45e0-bd76-56d14e8d9e80')\"\n",
              "              title=\"Convert this dataframe to an interactive table.\"\n",
              "              style=\"display:none;\">\n",
              "        \n",
              "  <svg xmlns=\"http://www.w3.org/2000/svg\" height=\"24px\"viewBox=\"0 0 24 24\"\n",
              "       width=\"24px\">\n",
              "    <path d=\"M0 0h24v24H0V0z\" fill=\"none\"/>\n",
              "    <path d=\"M18.56 5.44l.94 2.06.94-2.06 2.06-.94-2.06-.94-.94-2.06-.94 2.06-2.06.94zm-11 1L8.5 8.5l.94-2.06 2.06-.94-2.06-.94L8.5 2.5l-.94 2.06-2.06.94zm10 10l.94 2.06.94-2.06 2.06-.94-2.06-.94-.94-2.06-.94 2.06-2.06.94z\"/><path d=\"M17.41 7.96l-1.37-1.37c-.4-.4-.92-.59-1.43-.59-.52 0-1.04.2-1.43.59L10.3 9.45l-7.72 7.72c-.78.78-.78 2.05 0 2.83L4 21.41c.39.39.9.59 1.41.59.51 0 1.02-.2 1.41-.59l7.78-7.78 2.81-2.81c.8-.78.8-2.07 0-2.86zM5.41 20L4 18.59l7.72-7.72 1.47 1.35L5.41 20z\"/>\n",
              "  </svg>\n",
              "      </button>\n",
              "      \n",
              "  <style>\n",
              "    .colab-df-container {\n",
              "      display:flex;\n",
              "      flex-wrap:wrap;\n",
              "      gap: 12px;\n",
              "    }\n",
              "\n",
              "    .colab-df-convert {\n",
              "      background-color: #E8F0FE;\n",
              "      border: none;\n",
              "      border-radius: 50%;\n",
              "      cursor: pointer;\n",
              "      display: none;\n",
              "      fill: #1967D2;\n",
              "      height: 32px;\n",
              "      padding: 0 0 0 0;\n",
              "      width: 32px;\n",
              "    }\n",
              "\n",
              "    .colab-df-convert:hover {\n",
              "      background-color: #E2EBFA;\n",
              "      box-shadow: 0px 1px 2px rgba(60, 64, 67, 0.3), 0px 1px 3px 1px rgba(60, 64, 67, 0.15);\n",
              "      fill: #174EA6;\n",
              "    }\n",
              "\n",
              "    [theme=dark] .colab-df-convert {\n",
              "      background-color: #3B4455;\n",
              "      fill: #D2E3FC;\n",
              "    }\n",
              "\n",
              "    [theme=dark] .colab-df-convert:hover {\n",
              "      background-color: #434B5C;\n",
              "      box-shadow: 0px 1px 3px 1px rgba(0, 0, 0, 0.15);\n",
              "      filter: drop-shadow(0px 1px 2px rgba(0, 0, 0, 0.3));\n",
              "      fill: #FFFFFF;\n",
              "    }\n",
              "  </style>\n",
              "\n",
              "      <script>\n",
              "        const buttonEl =\n",
              "          document.querySelector('#df-6847bea0-3c48-45e0-bd76-56d14e8d9e80 button.colab-df-convert');\n",
              "        buttonEl.style.display =\n",
              "          google.colab.kernel.accessAllowed ? 'block' : 'none';\n",
              "\n",
              "        async function convertToInteractive(key) {\n",
              "          const element = document.querySelector('#df-6847bea0-3c48-45e0-bd76-56d14e8d9e80');\n",
              "          const dataTable =\n",
              "            await google.colab.kernel.invokeFunction('convertToInteractive',\n",
              "                                                     [key], {});\n",
              "          if (!dataTable) return;\n",
              "\n",
              "          const docLinkHtml = 'Like what you see? Visit the ' +\n",
              "            '<a target=\"_blank\" href=https://colab.research.google.com/notebooks/data_table.ipynb>data table notebook</a>'\n",
              "            + ' to learn more about interactive tables.';\n",
              "          element.innerHTML = '';\n",
              "          dataTable['output_type'] = 'display_data';\n",
              "          await google.colab.output.renderOutput(dataTable, element);\n",
              "          const docLink = document.createElement('div');\n",
              "          docLink.innerHTML = docLinkHtml;\n",
              "          element.appendChild(docLink);\n",
              "        }\n",
              "      </script>\n",
              "    </div>\n",
              "  </div>\n",
              "  "
            ]
          },
          "metadata": {},
          "execution_count": 53
        }
      ],
      "source": [
        "ord1 = OrdinalEncoder()\n",
        "\n",
        "ord1.fit([df['Day_of_week']])\n",
        "\n",
        "df['Day_of_week'] = ord1.fit_transform(df[['Day_of_week']])\n",
        "# df.sample(10)\n",
        "\n",
        "ord1.fit([df['Load_Type']])\n",
        "\n",
        "df['Load_Type'] = ord1.fit_transform(df[['Load_Type']])\n",
        "df.head(10)"
      ]
    },
    {
      "cell_type": "markdown",
      "metadata": {
        "id": "MduV9X8bsks3"
      },
      "source": [
        "5. One Hot Encoding for WeekStatus\n",
        "\n",
        "1.   List item\n",
        "2.   List item\n",
        "\n"
      ]
    },
    {
      "cell_type": "code",
      "execution_count": null,
      "metadata": {
        "colab": {
          "base_uri": "https://localhost:8080/",
          "height": 601
        },
        "id": "DlhZL2NqsbC5",
        "outputId": "988932d0-e31d-4441-afb3-5ad6c4433c5f"
      },
      "outputs": [
        {
          "output_type": "execute_result",
          "data": {
            "text/plain": [
              "         Date      Time  Usage_kWh  Lagging_Current_Reactive.Power_kVarh  \\\n",
              "0  2018-01-01  00:15:00       3.17                                  2.95   \n",
              "1  2018-01-01  00:30:00       4.00                                  4.46   \n",
              "2  2018-01-01  00:45:00       3.24                                  3.28   \n",
              "3  2018-01-01  01:00:00       3.31                                  3.56   \n",
              "4  2018-01-01  01:15:00       3.82                                  4.50   \n",
              "5  2018-01-01  01:30:00       3.28                                  3.56   \n",
              "6  2018-01-01  01:45:00       3.60                                  4.14   \n",
              "7  2018-01-01  02:00:00       3.60                                  4.28   \n",
              "8  2018-01-01  02:15:00       3.28                                  3.64   \n",
              "9  2018-01-01  02:30:00       3.78                                  4.72   \n",
              "\n",
              "   Leading_Current_Reactive_Power_kVarh  CO2(tCO2)  \\\n",
              "0                                   0.0        0.0   \n",
              "1                                   0.0        0.0   \n",
              "2                                   0.0        0.0   \n",
              "3                                   0.0        0.0   \n",
              "4                                   0.0        0.0   \n",
              "5                                   0.0        0.0   \n",
              "6                                   0.0        0.0   \n",
              "7                                   0.0        0.0   \n",
              "8                                   0.0        0.0   \n",
              "9                                   0.0        0.0   \n",
              "\n",
              "   Lagging_Current_Power_Factor  Leading_Current_Power_Factor   NSM  \\\n",
              "0                         73.21                         100.0   900   \n",
              "1                         66.77                         100.0  1800   \n",
              "2                         70.28                         100.0  2700   \n",
              "3                         68.09                         100.0  3600   \n",
              "4                         64.72                         100.0  4500   \n",
              "5                         67.76                         100.0  5400   \n",
              "6                         65.62                         100.0  6300   \n",
              "7                         64.37                         100.0  7200   \n",
              "8                         66.94                         100.0  8100   \n",
              "9                         62.51                         100.0  9000   \n",
              "\n",
              "   Day_of_week  Load_Type  Weekday  Weekend  \n",
              "0          1.0        0.0      1.0      0.0  \n",
              "1          1.0        0.0      1.0      0.0  \n",
              "2          1.0        0.0      1.0      0.0  \n",
              "3          1.0        0.0      1.0      0.0  \n",
              "4          1.0        0.0      1.0      0.0  \n",
              "5          1.0        0.0      1.0      0.0  \n",
              "6          1.0        0.0      1.0      0.0  \n",
              "7          1.0        0.0      1.0      0.0  \n",
              "8          1.0        0.0      1.0      0.0  \n",
              "9          1.0        0.0      1.0      0.0  "
            ],
            "text/html": [
              "\n",
              "  <div id=\"df-eaccc831-10ce-4ec3-99bd-bd3b64c32d11\">\n",
              "    <div class=\"colab-df-container\">\n",
              "      <div>\n",
              "<style scoped>\n",
              "    .dataframe tbody tr th:only-of-type {\n",
              "        vertical-align: middle;\n",
              "    }\n",
              "\n",
              "    .dataframe tbody tr th {\n",
              "        vertical-align: top;\n",
              "    }\n",
              "\n",
              "    .dataframe thead th {\n",
              "        text-align: right;\n",
              "    }\n",
              "</style>\n",
              "<table border=\"1\" class=\"dataframe\">\n",
              "  <thead>\n",
              "    <tr style=\"text-align: right;\">\n",
              "      <th></th>\n",
              "      <th>Date</th>\n",
              "      <th>Time</th>\n",
              "      <th>Usage_kWh</th>\n",
              "      <th>Lagging_Current_Reactive.Power_kVarh</th>\n",
              "      <th>Leading_Current_Reactive_Power_kVarh</th>\n",
              "      <th>CO2(tCO2)</th>\n",
              "      <th>Lagging_Current_Power_Factor</th>\n",
              "      <th>Leading_Current_Power_Factor</th>\n",
              "      <th>NSM</th>\n",
              "      <th>Day_of_week</th>\n",
              "      <th>Load_Type</th>\n",
              "      <th>Weekday</th>\n",
              "      <th>Weekend</th>\n",
              "    </tr>\n",
              "  </thead>\n",
              "  <tbody>\n",
              "    <tr>\n",
              "      <th>0</th>\n",
              "      <td>2018-01-01</td>\n",
              "      <td>00:15:00</td>\n",
              "      <td>3.17</td>\n",
              "      <td>2.95</td>\n",
              "      <td>0.0</td>\n",
              "      <td>0.0</td>\n",
              "      <td>73.21</td>\n",
              "      <td>100.0</td>\n",
              "      <td>900</td>\n",
              "      <td>1.0</td>\n",
              "      <td>0.0</td>\n",
              "      <td>1.0</td>\n",
              "      <td>0.0</td>\n",
              "    </tr>\n",
              "    <tr>\n",
              "      <th>1</th>\n",
              "      <td>2018-01-01</td>\n",
              "      <td>00:30:00</td>\n",
              "      <td>4.00</td>\n",
              "      <td>4.46</td>\n",
              "      <td>0.0</td>\n",
              "      <td>0.0</td>\n",
              "      <td>66.77</td>\n",
              "      <td>100.0</td>\n",
              "      <td>1800</td>\n",
              "      <td>1.0</td>\n",
              "      <td>0.0</td>\n",
              "      <td>1.0</td>\n",
              "      <td>0.0</td>\n",
              "    </tr>\n",
              "    <tr>\n",
              "      <th>2</th>\n",
              "      <td>2018-01-01</td>\n",
              "      <td>00:45:00</td>\n",
              "      <td>3.24</td>\n",
              "      <td>3.28</td>\n",
              "      <td>0.0</td>\n",
              "      <td>0.0</td>\n",
              "      <td>70.28</td>\n",
              "      <td>100.0</td>\n",
              "      <td>2700</td>\n",
              "      <td>1.0</td>\n",
              "      <td>0.0</td>\n",
              "      <td>1.0</td>\n",
              "      <td>0.0</td>\n",
              "    </tr>\n",
              "    <tr>\n",
              "      <th>3</th>\n",
              "      <td>2018-01-01</td>\n",
              "      <td>01:00:00</td>\n",
              "      <td>3.31</td>\n",
              "      <td>3.56</td>\n",
              "      <td>0.0</td>\n",
              "      <td>0.0</td>\n",
              "      <td>68.09</td>\n",
              "      <td>100.0</td>\n",
              "      <td>3600</td>\n",
              "      <td>1.0</td>\n",
              "      <td>0.0</td>\n",
              "      <td>1.0</td>\n",
              "      <td>0.0</td>\n",
              "    </tr>\n",
              "    <tr>\n",
              "      <th>4</th>\n",
              "      <td>2018-01-01</td>\n",
              "      <td>01:15:00</td>\n",
              "      <td>3.82</td>\n",
              "      <td>4.50</td>\n",
              "      <td>0.0</td>\n",
              "      <td>0.0</td>\n",
              "      <td>64.72</td>\n",
              "      <td>100.0</td>\n",
              "      <td>4500</td>\n",
              "      <td>1.0</td>\n",
              "      <td>0.0</td>\n",
              "      <td>1.0</td>\n",
              "      <td>0.0</td>\n",
              "    </tr>\n",
              "    <tr>\n",
              "      <th>5</th>\n",
              "      <td>2018-01-01</td>\n",
              "      <td>01:30:00</td>\n",
              "      <td>3.28</td>\n",
              "      <td>3.56</td>\n",
              "      <td>0.0</td>\n",
              "      <td>0.0</td>\n",
              "      <td>67.76</td>\n",
              "      <td>100.0</td>\n",
              "      <td>5400</td>\n",
              "      <td>1.0</td>\n",
              "      <td>0.0</td>\n",
              "      <td>1.0</td>\n",
              "      <td>0.0</td>\n",
              "    </tr>\n",
              "    <tr>\n",
              "      <th>6</th>\n",
              "      <td>2018-01-01</td>\n",
              "      <td>01:45:00</td>\n",
              "      <td>3.60</td>\n",
              "      <td>4.14</td>\n",
              "      <td>0.0</td>\n",
              "      <td>0.0</td>\n",
              "      <td>65.62</td>\n",
              "      <td>100.0</td>\n",
              "      <td>6300</td>\n",
              "      <td>1.0</td>\n",
              "      <td>0.0</td>\n",
              "      <td>1.0</td>\n",
              "      <td>0.0</td>\n",
              "    </tr>\n",
              "    <tr>\n",
              "      <th>7</th>\n",
              "      <td>2018-01-01</td>\n",
              "      <td>02:00:00</td>\n",
              "      <td>3.60</td>\n",
              "      <td>4.28</td>\n",
              "      <td>0.0</td>\n",
              "      <td>0.0</td>\n",
              "      <td>64.37</td>\n",
              "      <td>100.0</td>\n",
              "      <td>7200</td>\n",
              "      <td>1.0</td>\n",
              "      <td>0.0</td>\n",
              "      <td>1.0</td>\n",
              "      <td>0.0</td>\n",
              "    </tr>\n",
              "    <tr>\n",
              "      <th>8</th>\n",
              "      <td>2018-01-01</td>\n",
              "      <td>02:15:00</td>\n",
              "      <td>3.28</td>\n",
              "      <td>3.64</td>\n",
              "      <td>0.0</td>\n",
              "      <td>0.0</td>\n",
              "      <td>66.94</td>\n",
              "      <td>100.0</td>\n",
              "      <td>8100</td>\n",
              "      <td>1.0</td>\n",
              "      <td>0.0</td>\n",
              "      <td>1.0</td>\n",
              "      <td>0.0</td>\n",
              "    </tr>\n",
              "    <tr>\n",
              "      <th>9</th>\n",
              "      <td>2018-01-01</td>\n",
              "      <td>02:30:00</td>\n",
              "      <td>3.78</td>\n",
              "      <td>4.72</td>\n",
              "      <td>0.0</td>\n",
              "      <td>0.0</td>\n",
              "      <td>62.51</td>\n",
              "      <td>100.0</td>\n",
              "      <td>9000</td>\n",
              "      <td>1.0</td>\n",
              "      <td>0.0</td>\n",
              "      <td>1.0</td>\n",
              "      <td>0.0</td>\n",
              "    </tr>\n",
              "  </tbody>\n",
              "</table>\n",
              "</div>\n",
              "      <button class=\"colab-df-convert\" onclick=\"convertToInteractive('df-eaccc831-10ce-4ec3-99bd-bd3b64c32d11')\"\n",
              "              title=\"Convert this dataframe to an interactive table.\"\n",
              "              style=\"display:none;\">\n",
              "        \n",
              "  <svg xmlns=\"http://www.w3.org/2000/svg\" height=\"24px\"viewBox=\"0 0 24 24\"\n",
              "       width=\"24px\">\n",
              "    <path d=\"M0 0h24v24H0V0z\" fill=\"none\"/>\n",
              "    <path d=\"M18.56 5.44l.94 2.06.94-2.06 2.06-.94-2.06-.94-.94-2.06-.94 2.06-2.06.94zm-11 1L8.5 8.5l.94-2.06 2.06-.94-2.06-.94L8.5 2.5l-.94 2.06-2.06.94zm10 10l.94 2.06.94-2.06 2.06-.94-2.06-.94-.94-2.06-.94 2.06-2.06.94z\"/><path d=\"M17.41 7.96l-1.37-1.37c-.4-.4-.92-.59-1.43-.59-.52 0-1.04.2-1.43.59L10.3 9.45l-7.72 7.72c-.78.78-.78 2.05 0 2.83L4 21.41c.39.39.9.59 1.41.59.51 0 1.02-.2 1.41-.59l7.78-7.78 2.81-2.81c.8-.78.8-2.07 0-2.86zM5.41 20L4 18.59l7.72-7.72 1.47 1.35L5.41 20z\"/>\n",
              "  </svg>\n",
              "      </button>\n",
              "      \n",
              "  <style>\n",
              "    .colab-df-container {\n",
              "      display:flex;\n",
              "      flex-wrap:wrap;\n",
              "      gap: 12px;\n",
              "    }\n",
              "\n",
              "    .colab-df-convert {\n",
              "      background-color: #E8F0FE;\n",
              "      border: none;\n",
              "      border-radius: 50%;\n",
              "      cursor: pointer;\n",
              "      display: none;\n",
              "      fill: #1967D2;\n",
              "      height: 32px;\n",
              "      padding: 0 0 0 0;\n",
              "      width: 32px;\n",
              "    }\n",
              "\n",
              "    .colab-df-convert:hover {\n",
              "      background-color: #E2EBFA;\n",
              "      box-shadow: 0px 1px 2px rgba(60, 64, 67, 0.3), 0px 1px 3px 1px rgba(60, 64, 67, 0.15);\n",
              "      fill: #174EA6;\n",
              "    }\n",
              "\n",
              "    [theme=dark] .colab-df-convert {\n",
              "      background-color: #3B4455;\n",
              "      fill: #D2E3FC;\n",
              "    }\n",
              "\n",
              "    [theme=dark] .colab-df-convert:hover {\n",
              "      background-color: #434B5C;\n",
              "      box-shadow: 0px 1px 3px 1px rgba(0, 0, 0, 0.15);\n",
              "      filter: drop-shadow(0px 1px 2px rgba(0, 0, 0, 0.3));\n",
              "      fill: #FFFFFF;\n",
              "    }\n",
              "  </style>\n",
              "\n",
              "      <script>\n",
              "        const buttonEl =\n",
              "          document.querySelector('#df-eaccc831-10ce-4ec3-99bd-bd3b64c32d11 button.colab-df-convert');\n",
              "        buttonEl.style.display =\n",
              "          google.colab.kernel.accessAllowed ? 'block' : 'none';\n",
              "\n",
              "        async function convertToInteractive(key) {\n",
              "          const element = document.querySelector('#df-eaccc831-10ce-4ec3-99bd-bd3b64c32d11');\n",
              "          const dataTable =\n",
              "            await google.colab.kernel.invokeFunction('convertToInteractive',\n",
              "                                                     [key], {});\n",
              "          if (!dataTable) return;\n",
              "\n",
              "          const docLinkHtml = 'Like what you see? Visit the ' +\n",
              "            '<a target=\"_blank\" href=https://colab.research.google.com/notebooks/data_table.ipynb>data table notebook</a>'\n",
              "            + ' to learn more about interactive tables.';\n",
              "          element.innerHTML = '';\n",
              "          dataTable['output_type'] = 'display_data';\n",
              "          await google.colab.output.renderOutput(dataTable, element);\n",
              "          const docLink = document.createElement('div');\n",
              "          docLink.innerHTML = docLinkHtml;\n",
              "          element.appendChild(docLink);\n",
              "        }\n",
              "      </script>\n",
              "    </div>\n",
              "  </div>\n",
              "  "
            ]
          },
          "metadata": {},
          "execution_count": 54
        }
      ],
      "source": [
        "enc = OneHotEncoder()\n",
        "\n",
        "enc = enc.fit_transform(df[['WeekStatus']]).toarray()\n",
        "encoded_colm = pd.DataFrame(enc)\n",
        "\n",
        "df = pd.concat([df, encoded_colm], axis = 1)\n",
        "\n",
        "df = df.drop(['WeekStatus'], axis = 1)\n",
        "df.rename(columns = {0:\"Weekday\", 1:\"Weekend\"}, inplace=True)\n",
        "df.head(10)\n"
      ]
    },
    {
      "cell_type": "markdown",
      "metadata": {
        "id": "efacY5TcwYLA"
      },
      "source": [
        "#**TRAINING** **THE** **MODEL** **USING** **LINEAR** **REGRESSION**"
      ]
    },
    {
      "cell_type": "code",
      "execution_count": null,
      "metadata": {
        "id": "H80Hg1UEbt27"
      },
      "outputs": [],
      "source": [
        "df_t=df.copy()\n"
      ]
    },
    {
      "cell_type": "code",
      "execution_count": null,
      "metadata": {
        "colab": {
          "base_uri": "https://localhost:8080/"
        },
        "id": "lKFcc55HS0ld",
        "outputId": "79935d48-aec4-4563-9f62-c23cf1ea4b6e"
      },
      "outputs": [
        {
          "output_type": "execute_result",
          "data": {
            "text/plain": [
              "Date                                    0\n",
              "Time                                    0\n",
              "Usage_kWh                               0\n",
              "Lagging_Current_Reactive.Power_kVarh    0\n",
              "Leading_Current_Reactive_Power_kVarh    0\n",
              "CO2(tCO2)                               0\n",
              "Lagging_Current_Power_Factor            0\n",
              "Leading_Current_Power_Factor            0\n",
              "NSM                                     0\n",
              "Day_of_week                             0\n",
              "Load_Type                               0\n",
              "Weekday                                 0\n",
              "Weekend                                 0\n",
              "dtype: int64"
            ]
          },
          "metadata": {},
          "execution_count": 56
        }
      ],
      "source": [
        "df_t.isna().sum()"
      ]
    },
    {
      "cell_type": "code",
      "execution_count": null,
      "metadata": {
        "id": "qZs9BomeS7o1"
      },
      "outputs": [],
      "source": [
        "# filling the null values\n",
        "from sklearn.impute import SimpleImputer\n",
        "s_i=SimpleImputer()\n",
        "df_t['Lagging_Current_Reactive.Power_kVarh']=s_i.fit_transform(df['Lagging_Current_Reactive.Power_kVarh'].values.reshape(-1,1))[:,0]\n",
        "df_t['Leading_Current_Reactive_Power_kVarh']=s_i.fit_transform(df['Leading_Current_Reactive_Power_kVarh'].values.reshape(-1,1))[:,0]\n",
        "df_t['CO2(tCO2)']=s_i.fit_transform(df['CO2(tCO2)'].values.reshape(-1,1))[:,0]\n",
        "df_t['Lagging_Current_Power_Factor']=s_i.fit_transform(df['Lagging_Current_Power_Factor'].values.reshape(-1,1))[:,0]\n",
        "df_t['Leading_Current_Power_Factor']=s_i.fit_transform(df['Leading_Current_Power_Factor'].values.reshape(-1,1))[:,0]\n",
        "df_t['NSM']=s_i.fit_transform(df['NSM'].values.reshape(-1,1))[:,0]\n",
        "df_t['Day_of_week']=s_i.fit_transform(df['Day_of_week'].values.reshape(-1,1))[:,0]\n",
        "df_t['Load_Type']=s_i.fit_transform(df['Load_Type'].values.reshape(-1,1))[:,0]\n",
        "df_t['Weekday']=s_i.fit_transform(df['Weekday'].values.reshape(-1,1))[:,0]\n",
        "df_t['Weekend']=s_i.fit_transform(df['Weekend'].values.reshape(-1,1))[:,0]\n",
        "df_t['Usage_kWh']=s_i.fit_transform(df['Usage_kWh'].values.reshape(-1,1))[:,0]"
      ]
    },
    {
      "cell_type": "code",
      "execution_count": null,
      "metadata": {
        "id": "AiokfVs1VnCp"
      },
      "outputs": [],
      "source": [
        "#Extracting our independent variables\n",
        "\n",
        "x=df_t.drop(['Date', 'Time', 'Usage_kWh'], axis=1)"
      ]
    },
    {
      "cell_type": "code",
      "execution_count": null,
      "metadata": {
        "id": "NkbNsXo7UXhA"
      },
      "outputs": [],
      "source": [
        "y=df_t['Usage_kWh'].values.reshape(-1,1)"
      ]
    },
    {
      "cell_type": "code",
      "execution_count": null,
      "metadata": {
        "id": "xaLUb0E3LPYi"
      },
      "outputs": [],
      "source": [
        "#spltting the data into train data and test data\n",
        "from sklearn.model_selection import train_test_split\n",
        "\n",
        "x_train, x_test, y_train, y_test=train_test_split(x,y, test_size=0.30, random_state=42)\n"
      ]
    },
    {
      "cell_type": "code",
      "execution_count": null,
      "metadata": {
        "colab": {
          "base_uri": "https://localhost:8080/"
        },
        "id": "22I6z0lkcqms",
        "outputId": "b1f2d038-c687-4070-a7e8-1db6dcfab240"
      },
      "outputs": [
        {
          "output_type": "execute_result",
          "data": {
            "text/plain": [
              "10512"
            ]
          },
          "metadata": {},
          "execution_count": 61
        }
      ],
      "source": [
        "len(y_test)"
      ]
    },
    {
      "cell_type": "code",
      "execution_count": null,
      "metadata": {
        "colab": {
          "base_uri": "https://localhost:8080/"
        },
        "id": "phl4jSn2L74Y",
        "outputId": "670138c4-9a93-45a1-ef3f-b92be792a698"
      },
      "outputs": [
        {
          "output_type": "execute_result",
          "data": {
            "text/plain": [
              "LinearRegression()"
            ]
          },
          "metadata": {},
          "execution_count": 62
        }
      ],
      "source": [
        "#training our model with the train data\n",
        "from sklearn.linear_model import LinearRegression\n",
        "from sklearn.preprocessing import Normalizer\n",
        "\n",
        "LR=LinearRegression(fit_intercept=True)\n",
        "LR.fit(x_train, y_train)"
      ]
    },
    {
      "cell_type": "code",
      "execution_count": null,
      "metadata": {
        "id": "M5YMH7ZqYOdb"
      },
      "outputs": [],
      "source": [
        "#predicting the values for the test data\n",
        "y_predict=LR.predict(x_test)"
      ]
    },
    {
      "cell_type": "code",
      "execution_count": null,
      "metadata": {
        "colab": {
          "base_uri": "https://localhost:8080/"
        },
        "id": "tmajEHH2Yb5Z",
        "outputId": "a993f40e-7cb9-4b36-8571-a24c7f6cff5f"
      },
      "outputs": [
        {
          "output_type": "stream",
          "name": "stdout",
          "text": [
            "0.9841258647090525\n"
          ]
        }
      ],
      "source": [
        "#checking the score of the model\n",
        "from sklearn import metrics\n",
        "print(metrics.r2_score(y_test, y_predict))"
      ]
    },
    {
      "cell_type": "code",
      "execution_count": null,
      "metadata": {
        "colab": {
          "base_uri": "https://localhost:8080/"
        },
        "id": "MfbRLT3_ZF03",
        "outputId": "41e90ec6-880b-44e9-ff2b-343d727c8610"
      },
      "outputs": [
        {
          "output_type": "stream",
          "name": "stdout",
          "text": [
            "MSE:  17.816863582570107\n",
            "MAE:  2.548923999222686\n",
            "RMSE:  4.221002675025225\n"
          ]
        }
      ],
      "source": [
        "#checking the errors\n",
        "import numpy as np\n",
        "print(\"MSE: \",metrics.mean_squared_error(y_test, y_predict))\n",
        "print(\"MAE: \",metrics.mean_absolute_error(y_test, y_predict))\n",
        "print(\"RMSE: \",np.sqrt(metrics.mean_squared_error(y_test, y_predict)))"
      ]
    },
    {
      "cell_type": "markdown",
      "metadata": {
        "id": "EhwMKQZd2SwW"
      },
      "source": [
        "#**Logistic Regression**"
      ]
    },
    {
      "cell_type": "code",
      "execution_count": null,
      "metadata": {
        "colab": {
          "base_uri": "https://localhost:8080/"
        },
        "id": "YFy5YhK_2SJL",
        "outputId": "c085892d-0763-42c2-81e2-a5000f2fac85"
      },
      "outputs": [
        {
          "output_type": "execute_result",
          "data": {
            "text/plain": [
              "0    18072\n",
              "1    16968\n",
              "Name: power_consumption, dtype: int64"
            ]
          },
          "metadata": {},
          "execution_count": 66
        }
      ],
      "source": [
        "df2 = df.copy()\n",
        "#df2['Power_Consumption'] = np.where(df2['Load_Type'] == 'Maximum_Load', 1, 0)\n",
        "conditions  = [df2['Load_Type'] == 0.0, (df2['Load_Type'] == 1.0) | (df2['Load_Type'] == 2.0)]\n",
        "choices     = [0, 1]\n",
        "\n",
        "df2[\"power_consumption\"] = np.select(conditions, choices)\n",
        "df2['power_consumption'].value_counts()"
      ]
    },
    {
      "cell_type": "code",
      "execution_count": null,
      "metadata": {
        "colab": {
          "base_uri": "https://localhost:8080/"
        },
        "id": "Hhx-1GTW8YUO",
        "outputId": "fa31bdc3-9db6-416e-8a42-6729cd2f6ff8"
      },
      "outputs": [
        {
          "output_type": "execute_result",
          "data": {
            "text/plain": [
              "0"
            ]
          },
          "metadata": {},
          "execution_count": 67
        }
      ],
      "source": [
        "df2['Usage_kWh'].isna().sum()\n",
        "df2['Usage_kWh'].fillna(0, inplace=True)\n",
        "df2['Usage_kWh'].isna().sum()"
      ]
    },
    {
      "cell_type": "code",
      "execution_count": null,
      "metadata": {
        "id": "FgFWylTn5jh8"
      },
      "outputs": [],
      "source": [
        "data = np.array(df2['Usage_kWh']).reshape(-1, 1)\n",
        "target = np.array(df2['power_consumption']).reshape(-1, 1)"
      ]
    },
    {
      "cell_type": "code",
      "execution_count": null,
      "metadata": {
        "id": "wbeINStO5eFU"
      },
      "outputs": [],
      "source": [
        "from sklearn.model_selection import train_test_split\n",
        "X_train, X_test, y_train, y_test = train_test_split(data, target, test_size=0.25, random_state=42)"
      ]
    },
    {
      "cell_type": "code",
      "execution_count": null,
      "metadata": {
        "id": "RZyWa8FQ55G0"
      },
      "outputs": [],
      "source": [
        "from sklearn.linear_model import LogisticRegression\n",
        "log_regressor = LogisticRegression()\n",
        "log_regressor.fit(X_train, y_train.ravel())\n",
        "y_pred = log_regressor.predict(X_test)"
      ]
    },
    {
      "cell_type": "code",
      "execution_count": null,
      "metadata": {
        "colab": {
          "base_uri": "https://localhost:8080/"
        },
        "id": "I6a5ZtQn9dbO",
        "outputId": "73890eb4-6812-4f98-f6c0-fc346b35a0f0"
      },
      "outputs": [
        {
          "output_type": "execute_result",
          "data": {
            "text/plain": [
              "array([[4090,  406],\n",
              "       [1237, 3027]])"
            ]
          },
          "metadata": {},
          "execution_count": 71
        }
      ],
      "source": [
        "from sklearn import metrics\n",
        "cnf_matrix = metrics.confusion_matrix(y_test, y_pred)\n",
        "cnf_matrix"
      ]
    },
    {
      "cell_type": "code",
      "execution_count": null,
      "metadata": {
        "colab": {
          "base_uri": "https://localhost:8080/",
          "height": 348
        },
        "id": "9q_SThh99pVq",
        "outputId": "b14f095c-5215-42a6-a2e7-72b475367692"
      },
      "outputs": [
        {
          "output_type": "display_data",
          "data": {
            "text/plain": [
              "<Figure size 504x360 with 2 Axes>"
            ],
            "image/png": "[encoded data removed]"
          },
          "metadata": {
            "needs_background": "light"
          }
        }
      ],
      "source": [
        "class_names = [0, 1]\n",
        "fig, ax = plt.subplots()\n",
        "tick_marks = np.arange(len(class_names))\n",
        "plt.xticks(tick_marks, class_names)\n",
        "plt.yticks(tick_marks, class_names)\n",
        "sns.heatmap(pd.DataFrame(cnf_matrix), annot=True, cmap=\"YlGnBu\", fmt='g')\n",
        "ax.xaxis.set_label_position(\"top\")\n",
        "plt.title('Confusion matrix')\n",
        "plt.ylabel('Actual label')\n",
        "plt.xlabel('Predicted label')\n",
        "plt.show()"
      ]
    },
    {
      "cell_type": "code",
      "execution_count": null,
      "metadata": {
        "colab": {
          "base_uri": "https://localhost:8080/"
        },
        "id": "DV2amYWQ-vbZ",
        "outputId": "f3721aa8-d7f3-4a99-fab4-33f6e333eff7"
      },
      "outputs": [
        {
          "output_type": "stream",
          "name": "stdout",
          "text": [
            "              precision    recall  f1-score   support\n",
            "\n",
            "not max load       0.77      0.91      0.83      4496\n",
            "    max load       0.88      0.71      0.79      4264\n",
            "\n",
            "    accuracy                           0.81      8760\n",
            "   macro avg       0.82      0.81      0.81      8760\n",
            "weighted avg       0.82      0.81      0.81      8760\n",
            "\n"
          ]
        }
      ],
      "source": [
        "from sklearn.metrics import classification_report\n",
        "target_names = ['not max load', 'max load']\n",
        "print(classification_report(y_test, y_pred, target_names=target_names))"
      ]
    },
    {
      "cell_type": "code",
      "execution_count": null,
      "metadata": {
        "colab": {
          "base_uri": "https://localhost:8080/"
        },
        "id": "J2-0vu6oAq_8",
        "outputId": "97ae2046-18b8-419e-d20f-0e86d83183cd"
      },
      "outputs": [
        {
          "output_type": "execute_result",
          "data": {
            "text/plain": [
              "0.0    18072\n",
              "2.0     9696\n",
              "1.0     7272\n",
              "Name: Load_Type, dtype: int64"
            ]
          },
          "metadata": {},
          "execution_count": 74
        }
      ],
      "source": [
        "df2['Load_Type'].value_counts()"
      ]
    },
    {
      "cell_type": "code",
      "execution_count": null,
      "metadata": {
        "colab": {
          "base_uri": "https://localhost:8080/",
          "height": 336
        },
        "id": "o6ray4CwBPks",
        "outputId": "f2369776-dc07-409f-d8d5-13fc46f60dca"
      },
      "outputs": [
        {
          "output_type": "display_data",
          "data": {
            "text/plain": [
              "<Figure size 504x360 with 1 Axes>"
            ],
            "image/png": "[encoded data removed]"
          },
          "metadata": {
            "needs_background": "light"
          }
        }
      ],
      "source": [
        "y_pred_prob = log_regressor.predict_proba(X_test)[::,1]\n",
        "fpr, tpr, _ = metrics.roc_curve(y_test,  y_pred_prob)\n",
        "auc = metrics.roc_auc_score(y_test, y_pred_prob)\n",
        "plt.plot(fpr,tpr,label=\"auc=\"+str(auc))\n",
        "plt.title(\"ROC Curve\")\n",
        "plt.legend(loc=4)\n",
        "plt.show()"
      ]
    },
    {
      "cell_type": "code",
      "execution_count": null,
      "metadata": {
        "colab": {
          "base_uri": "https://localhost:8080/",
          "height": 661
        },
        "id": "J9wLDuUPI0hd",
        "outputId": "efb17223-e525-4465-c105-99916f3e6020"
      },
      "outputs": [
        {
          "output_type": "execute_result",
          "data": {
            "text/plain": [
              "             Date      Time  Usage_kWh  Lagging_Current_Reactive.Power_kVarh  \\\n",
              "0      2018-01-01  00:15:00       3.17                                  2.95   \n",
              "1      2018-01-01  00:30:00       4.00                                  4.46   \n",
              "2      2018-01-01  00:45:00       3.24                                  3.28   \n",
              "3      2018-01-01  01:00:00       3.31                                  3.56   \n",
              "4      2018-01-01  01:15:00       3.82                                  4.50   \n",
              "...           ...       ...        ...                                   ...   \n",
              "35035  2018-12-31  23:00:00       3.85                                  4.86   \n",
              "35036  2018-12-31  23:15:00       3.74                                  3.74   \n",
              "35037  2018-12-31  23:30:00       3.78                                  3.17   \n",
              "35038  2018-12-31  23:45:00       3.78                                  3.06   \n",
              "35039  2018-12-31  00:00:00       3.67                                  3.02   \n",
              "\n",
              "       Leading_Current_Reactive_Power_kVarh  CO2(tCO2)  \\\n",
              "0                                      0.00        0.0   \n",
              "1                                      0.00        0.0   \n",
              "2                                      0.00        0.0   \n",
              "3                                      0.00        0.0   \n",
              "4                                      0.00        0.0   \n",
              "...                                     ...        ...   \n",
              "35035                                  0.00        0.0   \n",
              "35036                                  0.00        0.0   \n",
              "35037                                  0.07        0.0   \n",
              "35038                                  0.11        0.0   \n",
              "35039                                  0.07        0.0   \n",
              "\n",
              "       Lagging_Current_Power_Factor  Leading_Current_Power_Factor    NSM  \\\n",
              "0                             73.21                        100.00    900   \n",
              "1                             66.77                        100.00   1800   \n",
              "2                             70.28                        100.00   2700   \n",
              "3                             68.09                        100.00   3600   \n",
              "4                             64.72                        100.00   4500   \n",
              "...                             ...                           ...    ...   \n",
              "35035                         62.10                        100.00  82800   \n",
              "35036                         70.71                        100.00  83700   \n",
              "35037                         76.62                         99.98  84600   \n",
              "35038                         77.72                         99.96  85500   \n",
              "35039                         77.22                         99.98      0   \n",
              "\n",
              "       Day_of_week  Load_Type  Weekday  Weekend  \n",
              "0              1.0        0.0      1.0      0.0  \n",
              "1              1.0        0.0      1.0      0.0  \n",
              "2              1.0        0.0      1.0      0.0  \n",
              "3              1.0        0.0      1.0      0.0  \n",
              "4              1.0        0.0      1.0      0.0  \n",
              "...            ...        ...      ...      ...  \n",
              "35035          1.0        0.0      1.0      0.0  \n",
              "35036          1.0        0.0      1.0      0.0  \n",
              "35037          1.0        0.0      1.0      0.0  \n",
              "35038          1.0        0.0      1.0      0.0  \n",
              "35039          1.0        0.0      1.0      0.0  \n",
              "\n",
              "[35040 rows x 13 columns]"
            ],
            "text/html": [
              "\n",
              "  <div id=\"df-e4621a7c-55b4-4e27-8bd3-76610d7c1b01\">\n",
              "    <div class=\"colab-df-container\">\n",
              "      <div>\n",
              "<style scoped>\n",
              "    .dataframe tbody tr th:only-of-type {\n",
              "        vertical-align: middle;\n",
              "    }\n",
              "\n",
              "    .dataframe tbody tr th {\n",
              "        vertical-align: top;\n",
              "    }\n",
              "\n",
              "    .dataframe thead th {\n",
              "        text-align: right;\n",
              "    }\n",
              "</style>\n",
              "<table border=\"1\" class=\"dataframe\">\n",
              "  <thead>\n",
              "    <tr style=\"text-align: right;\">\n",
              "      <th></th>\n",
              "      <th>Date</th>\n",
              "      <th>Time</th>\n",
              "      <th>Usage_kWh</th>\n",
              "      <th>Lagging_Current_Reactive.Power_kVarh</th>\n",
              "      <th>Leading_Current_Reactive_Power_kVarh</th>\n",
              "      <th>CO2(tCO2)</th>\n",
              "      <th>Lagging_Current_Power_Factor</th>\n",
              "      <th>Leading_Current_Power_Factor</th>\n",
              "      <th>NSM</th>\n",
              "      <th>Day_of_week</th>\n",
              "      <th>Load_Type</th>\n",
              "      <th>Weekday</th>\n",
              "      <th>Weekend</th>\n",
              "    </tr>\n",
              "  </thead>\n",
              "  <tbody>\n",
              "    <tr>\n",
              "      <th>0</th>\n",
              "      <td>2018-01-01</td>\n",
              "      <td>00:15:00</td>\n",
              "      <td>3.17</td>\n",
              "      <td>2.95</td>\n",
              "      <td>0.00</td>\n",
              "      <td>0.0</td>\n",
              "      <td>73.21</td>\n",
              "      <td>100.00</td>\n",
              "      <td>900</td>\n",
              "      <td>1.0</td>\n",
              "      <td>0.0</td>\n",
              "      <td>1.0</td>\n",
              "      <td>0.0</td>\n",
              "    </tr>\n",
              "    <tr>\n",
              "      <th>1</th>\n",
              "      <td>2018-01-01</td>\n",
              "      <td>00:30:00</td>\n",
              "      <td>4.00</td>\n",
              "      <td>4.46</td>\n",
              "      <td>0.00</td>\n",
              "      <td>0.0</td>\n",
              "      <td>66.77</td>\n",
              "      <td>100.00</td>\n",
              "      <td>1800</td>\n",
              "      <td>1.0</td>\n",
              "      <td>0.0</td>\n",
              "      <td>1.0</td>\n",
              "      <td>0.0</td>\n",
              "    </tr>\n",
              "    <tr>\n",
              "      <th>2</th>\n",
              "      <td>2018-01-01</td>\n",
              "      <td>00:45:00</td>\n",
              "      <td>3.24</td>\n",
              "      <td>3.28</td>\n",
              "      <td>0.00</td>\n",
              "      <td>0.0</td>\n",
              "      <td>70.28</td>\n",
              "      <td>100.00</td>\n",
              "      <td>2700</td>\n",
              "      <td>1.0</td>\n",
              "      <td>0.0</td>\n",
              "      <td>1.0</td>\n",
              "      <td>0.0</td>\n",
              "    </tr>\n",
              "    <tr>\n",
              "      <th>3</th>\n",
              "      <td>2018-01-01</td>\n",
              "      <td>01:00:00</td>\n",
              "      <td>3.31</td>\n",
              "      <td>3.56</td>\n",
              "      <td>0.00</td>\n",
              "      <td>0.0</td>\n",
              "      <td>68.09</td>\n",
              "      <td>100.00</td>\n",
              "      <td>3600</td>\n",
              "      <td>1.0</td>\n",
              "      <td>0.0</td>\n",
              "      <td>1.0</td>\n",
              "      <td>0.0</td>\n",
              "    </tr>\n",
              "    <tr>\n",
              "      <th>4</th>\n",
              "      <td>2018-01-01</td>\n",
              "      <td>01:15:00</td>\n",
              "      <td>3.82</td>\n",
              "      <td>4.50</td>\n",
              "      <td>0.00</td>\n",
              "      <td>0.0</td>\n",
              "      <td>64.72</td>\n",
              "      <td>100.00</td>\n",
              "      <td>4500</td>\n",
              "      <td>1.0</td>\n",
              "      <td>0.0</td>\n",
              "      <td>1.0</td>\n",
              "      <td>0.0</td>\n",
              "    </tr>\n",
              "    <tr>\n",
              "      <th>...</th>\n",
              "      <td>...</td>\n",
              "      <td>...</td>\n",
              "      <td>...</td>\n",
              "      <td>...</td>\n",
              "      <td>...</td>\n",
              "      <td>...</td>\n",
              "      <td>...</td>\n",
              "      <td>...</td>\n",
              "      <td>...</td>\n",
              "      <td>...</td>\n",
              "      <td>...</td>\n",
              "      <td>...</td>\n",
              "      <td>...</td>\n",
              "    </tr>\n",
              "    <tr>\n",
              "      <th>35035</th>\n",
              "      <td>2018-12-31</td>\n",
              "      <td>23:00:00</td>\n",
              "      <td>3.85</td>\n",
              "      <td>4.86</td>\n",
              "      <td>0.00</td>\n",
              "      <td>0.0</td>\n",
              "      <td>62.10</td>\n",
              "      <td>100.00</td>\n",
              "      <td>82800</td>\n",
              "      <td>1.0</td>\n",
              "      <td>0.0</td>\n",
              "      <td>1.0</td>\n",
              "      <td>0.0</td>\n",
              "    </tr>\n",
              "    <tr>\n",
              "      <th>35036</th>\n",
              "      <td>2018-12-31</td>\n",
              "      <td>23:15:00</td>\n",
              "      <td>3.74</td>\n",
              "      <td>3.74</td>\n",
              "      <td>0.00</td>\n",
              "      <td>0.0</td>\n",
              "      <td>70.71</td>\n",
              "      <td>100.00</td>\n",
              "      <td>83700</td>\n",
              "      <td>1.0</td>\n",
              "      <td>0.0</td>\n",
              "      <td>1.0</td>\n",
              "      <td>0.0</td>\n",
              "    </tr>\n",
              "    <tr>\n",
              "      <th>35037</th>\n",
              "      <td>2018-12-31</td>\n",
              "      <td>23:30:00</td>\n",
              "      <td>3.78</td>\n",
              "      <td>3.17</td>\n",
              "      <td>0.07</td>\n",
              "      <td>0.0</td>\n",
              "      <td>76.62</td>\n",
              "      <td>99.98</td>\n",
              "      <td>84600</td>\n",
              "      <td>1.0</td>\n",
              "      <td>0.0</td>\n",
              "      <td>1.0</td>\n",
              "      <td>0.0</td>\n",
              "    </tr>\n",
              "    <tr>\n",
              "      <th>35038</th>\n",
              "      <td>2018-12-31</td>\n",
              "      <td>23:45:00</td>\n",
              "      <td>3.78</td>\n",
              "      <td>3.06</td>\n",
              "      <td>0.11</td>\n",
              "      <td>0.0</td>\n",
              "      <td>77.72</td>\n",
              "      <td>99.96</td>\n",
              "      <td>85500</td>\n",
              "      <td>1.0</td>\n",
              "      <td>0.0</td>\n",
              "      <td>1.0</td>\n",
              "      <td>0.0</td>\n",
              "    </tr>\n",
              "    <tr>\n",
              "      <th>35039</th>\n",
              "      <td>2018-12-31</td>\n",
              "      <td>00:00:00</td>\n",
              "      <td>3.67</td>\n",
              "      <td>3.02</td>\n",
              "      <td>0.07</td>\n",
              "      <td>0.0</td>\n",
              "      <td>77.22</td>\n",
              "      <td>99.98</td>\n",
              "      <td>0</td>\n",
              "      <td>1.0</td>\n",
              "      <td>0.0</td>\n",
              "      <td>1.0</td>\n",
              "      <td>0.0</td>\n",
              "    </tr>\n",
              "  </tbody>\n",
              "</table>\n",
              "<p>35040 rows × 13 columns</p>\n",
              "</div>\n",
              "      <button class=\"colab-df-convert\" onclick=\"convertToInteractive('df-e4621a7c-55b4-4e27-8bd3-76610d7c1b01')\"\n",
              "              title=\"Convert this dataframe to an interactive table.\"\n",
              "              style=\"display:none;\">\n",
              "        \n",
              "  <svg xmlns=\"http://www.w3.org/2000/svg\" height=\"24px\"viewBox=\"0 0 24 24\"\n",
              "       width=\"24px\">\n",
              "    <path d=\"M0 0h24v24H0V0z\" fill=\"none\"/>\n",
              "    <path d=\"M18.56 5.44l.94 2.06.94-2.06 2.06-.94-2.06-.94-.94-2.06-.94 2.06-2.06.94zm-11 1L8.5 8.5l.94-2.06 2.06-.94-2.06-.94L8.5 2.5l-.94 2.06-2.06.94zm10 10l.94 2.06.94-2.06 2.06-.94-2.06-.94-.94-2.06-.94 2.06-2.06.94z\"/><path d=\"M17.41 7.96l-1.37-1.37c-.4-.4-.92-.59-1.43-.59-.52 0-1.04.2-1.43.59L10.3 9.45l-7.72 7.72c-.78.78-.78 2.05 0 2.83L4 21.41c.39.39.9.59 1.41.59.51 0 1.02-.2 1.41-.59l7.78-7.78 2.81-2.81c.8-.78.8-2.07 0-2.86zM5.41 20L4 18.59l7.72-7.72 1.47 1.35L5.41 20z\"/>\n",
              "  </svg>\n",
              "      </button>\n",
              "      \n",
              "  <style>\n",
              "    .colab-df-container {\n",
              "      display:flex;\n",
              "      flex-wrap:wrap;\n",
              "      gap: 12px;\n",
              "    }\n",
              "\n",
              "    .colab-df-convert {\n",
              "      background-color: #E8F0FE;\n",
              "      border: none;\n",
              "      border-radius: 50%;\n",
              "      cursor: pointer;\n",
              "      display: none;\n",
              "      fill: #1967D2;\n",
              "      height: 32px;\n",
              "      padding: 0 0 0 0;\n",
              "      width: 32px;\n",
              "    }\n",
              "\n",
              "    .colab-df-convert:hover {\n",
              "      background-color: #E2EBFA;\n",
              "      box-shadow: 0px 1px 2px rgba(60, 64, 67, 0.3), 0px 1px 3px 1px rgba(60, 64, 67, 0.15);\n",
              "      fill: #174EA6;\n",
              "    }\n",
              "\n",
              "    [theme=dark] .colab-df-convert {\n",
              "      background-color: #3B4455;\n",
              "      fill: #D2E3FC;\n",
              "    }\n",
              "\n",
              "    [theme=dark] .colab-df-convert:hover {\n",
              "      background-color: #434B5C;\n",
              "      box-shadow: 0px 1px 3px 1px rgba(0, 0, 0, 0.15);\n",
              "      filter: drop-shadow(0px 1px 2px rgba(0, 0, 0, 0.3));\n",
              "      fill: #FFFFFF;\n",
              "    }\n",
              "  </style>\n",
              "\n",
              "      <script>\n",
              "        const buttonEl =\n",
              "          document.querySelector('#df-e4621a7c-55b4-4e27-8bd3-76610d7c1b01 button.colab-df-convert');\n",
              "        buttonEl.style.display =\n",
              "          google.colab.kernel.accessAllowed ? 'block' : 'none';\n",
              "\n",
              "        async function convertToInteractive(key) {\n",
              "          const element = document.querySelector('#df-e4621a7c-55b4-4e27-8bd3-76610d7c1b01');\n",
              "          const dataTable =\n",
              "            await google.colab.kernel.invokeFunction('convertToInteractive',\n",
              "                                                     [key], {});\n",
              "          if (!dataTable) return;\n",
              "\n",
              "          const docLinkHtml = 'Like what you see? Visit the ' +\n",
              "            '<a target=\"_blank\" href=https://colab.research.google.com/notebooks/data_table.ipynb>data table notebook</a>'\n",
              "            + ' to learn more about interactive tables.';\n",
              "          element.innerHTML = '';\n",
              "          dataTable['output_type'] = 'display_data';\n",
              "          await google.colab.output.renderOutput(dataTable, element);\n",
              "          const docLink = document.createElement('div');\n",
              "          docLink.innerHTML = docLinkHtml;\n",
              "          element.appendChild(docLink);\n",
              "        }\n",
              "      </script>\n",
              "    </div>\n",
              "  </div>\n",
              "  "
            ]
          },
          "metadata": {},
          "execution_count": 76
        }
      ],
      "source": [
        "df"
      ]
    },
    {
      "cell_type": "code",
      "execution_count": null,
      "metadata": {
        "id": "5RLodbPtFRTX"
      },
      "outputs": [],
      "source": [
        "from sklearn.model_selection import train_test_split\n",
        "from sklearn.neighbors import KNeighborsClassifier\n",
        "from sklearn.metrics import  accuracy_score, precision_score, recall_score, f1_score\n",
        "from sklearn.model_selection import cross_val_score\n",
        "from sklearn.metrics import classification_report, confusion_matrix\n",
        "from sklearn.tree import DecisionTreeClassifier\n",
        "from sklearn import tree\n",
        "import seaborn as sns\n"
      ]
    },
    {
      "cell_type": "markdown",
      "metadata": {
        "id": "uzZtD2TwIs9M"
      },
      "source": [
        "### KNN"
      ]
    },
    {
      "cell_type": "markdown",
      "source": [
        "## Plotting the scatter plot for visualising the clusters"
      ],
      "metadata": {
        "id": "0xdRCWDlvzIJ"
      }
    },
    {
      "cell_type": "code",
      "execution_count": null,
      "metadata": {
        "colab": {
          "base_uri": "https://localhost:8080/",
          "height": 352
        },
        "id": "MEggNB1jIysX",
        "outputId": "e3025a46-85e3-4876-bbe1-eef7f4baa4e8"
      },
      "outputs": [
        {
          "output_type": "execute_result",
          "data": {
            "text/plain": [
              "<matplotlib.collections.PathCollection at 0x7f9b6f6110d0>"
            ]
          },
          "metadata": {},
          "execution_count": 78
        },
        {
          "output_type": "display_data",
          "data": {
            "text/plain": [
              "<Figure size 504x360 with 1 Axes>"
            ],
            "image/png": "[encoded data removed]"
          },
          "metadata": {
            "needs_background": "light"
          }
        }
      ],
      "source": [
        "df = pd.read_csv(\"/content/Steel_industry_data.csv\")\n",
        "df = df.fillna({\n",
        "    \"Load_Type\": df[\"Load_Type\"].interpolate(method=\"time\")\n",
        "})\n",
        "\n",
        "\n",
        "df_knn = df[[\"Usage_kWh\", \"NSM\", \"Load_Type\"]]\n",
        "df0 = df_knn[:30]\n",
        "df1 = df_knn[50:80]\n",
        "df2 = df_knn[100:]\n",
        "plt.xlabel(\"Usage_kWh\")\n",
        "plt.ylabel(\"NSM\")\n",
        "plt.scatter(df0[\"Usage_kWh\"], df0[\"NSM\"], color=\"green\", marker=\"+\")\n",
        "plt.scatter(df1[\"Usage_kWh\"], df1[\"NSM\"], color=\"blue\", marker=\".\")\n"
      ]
    },
    {
      "cell_type": "markdown",
      "source": [
        "## Train-test splitting\n",
        "Random state = 0"
      ],
      "metadata": {
        "id": "Tet1bOyyxFmk"
      }
    },
    {
      "cell_type": "code",
      "execution_count": null,
      "metadata": {
        "id": "IkM6upe10aPO"
      },
      "outputs": [],
      "source": [
        "\n",
        "x = df_knn[[\"Usage_kWh\", \"NSM\"]]\n",
        "y = df_knn[\"Load_Type\"]\n",
        "x_train, x_test, y_train, y_test=train_test_split(x,y, test_size=0.30, random_state=0) #random state 0\n"
      ]
    },
    {
      "cell_type": "markdown",
      "source": [
        "## Finding the optimal K value for neighbours"
      ],
      "metadata": {
        "id": "GGAQhCApxVPm"
      }
    },
    {
      "cell_type": "code",
      "execution_count": null,
      "metadata": {
        "id": "0wKDYbvevBLq"
      },
      "outputs": [],
      "source": [
        "k = range(1,100)\n",
        "k_scores = []\n",
        "for i in k:\n",
        "    knn = KNeighborsClassifier(n_neighbors=i)\n",
        "    scores = cross_val_score(knn, x,y,cv=10,scoring=\"accuracy\")\n",
        "    k_scores.append(scores.mean())"
      ]
    },
    {
      "cell_type": "markdown",
      "source": [
        "## Plotting the accuracy scores for each K"
      ],
      "metadata": {
        "id": "5Z3jkpd7xqvg"
      }
    },
    {
      "cell_type": "code",
      "execution_count": null,
      "metadata": {
        "colab": {
          "base_uri": "https://localhost:8080/",
          "height": 337
        },
        "id": "SBSqir3KMaz3",
        "outputId": "2118048d-66a4-485e-a4e0-db28b9a89b96"
      },
      "outputs": [
        {
          "output_type": "execute_result",
          "data": {
            "text/plain": [
              "<matplotlib.axes._subplots.AxesSubplot at 0x7f9b6f51c130>"
            ]
          },
          "metadata": {},
          "execution_count": 81
        },
        {
          "output_type": "display_data",
          "data": {
            "text/plain": [
              "<Figure size 504x360 with 1 Axes>"
            ],
            "image/png": "[encoded data removed]"
          },
          "metadata": {
            "needs_background": "light"
          }
        }
      ],
      "source": [
        "sns.lineplot(x=k, y=k_scores)"
      ]
    },
    {
      "cell_type": "markdown",
      "source": [
        "Selecting the K value for which there is no overfitting or underfitting\n",
        "k = 60"
      ],
      "metadata": {
        "id": "czcdscGPx1A-"
      }
    },
    {
      "cell_type": "markdown",
      "source": [
        "## Prediction using train-test split data"
      ],
      "metadata": {
        "id": "LYLHtqq_yHsb"
      }
    },
    {
      "cell_type": "code",
      "execution_count": null,
      "metadata": {
        "colab": {
          "base_uri": "https://localhost:8080/"
        },
        "id": "WUKqfvA7vPmp",
        "outputId": "b6e0e5f4-2ccc-4ebe-9297-92d1e1530662"
      },
      "outputs": [
        {
          "output_type": "execute_result",
          "data": {
            "text/plain": [
              "array(['Maximum_Load', 'Light_Load', 'Medium_Load', ..., 'Light_Load',\n",
              "       'Light_Load', 'Light_Load'], dtype=object)"
            ]
          },
          "metadata": {},
          "execution_count": 82
        }
      ],
      "source": [
        "knn = KNeighborsClassifier(n_neighbors=60)\n",
        "knn.fit(x_train, y_train)\n",
        "y_pred_knn= knn.predict(x_test)\n",
        "y_pred_knn"
      ]
    },
    {
      "cell_type": "markdown",
      "source": [
        "## Scores for train-test split data"
      ],
      "metadata": {
        "id": "nfTnMPjYyNga"
      }
    },
    {
      "cell_type": "code",
      "execution_count": null,
      "metadata": {
        "colab": {
          "base_uri": "https://localhost:8080/"
        },
        "id": "LfJ2ZNecqtdc",
        "outputId": "ac5b0f08-21be-4559-f344-bf4ef4c7d09c"
      },
      "outputs": [
        {
          "output_type": "stream",
          "name": "stdout",
          "text": [
            "Accuracy of knn: 0.8738584474885844\n",
            "Precision of knn: 0.8738584474885844\n",
            "Recall of knn: 0.8738584474885844\n",
            "F1_score of knn: 0.8738584474885844\n"
          ]
        }
      ],
      "source": [
        "print(\"Accuracy of knn:\", accuracy_score(y_test,y_pred_knn))\n",
        "print(\"Precision of knn:\", precision_score(y_test,y_pred_knn,average='micro'))\n",
        "print(\"Recall of knn:\", recall_score(y_test,y_pred_knn,average='micro'))\n",
        "print(\"F1_score of knn:\", f1_score(y_test,y_pred_knn,average='micro'))\n"
      ]
    },
    {
      "cell_type": "markdown",
      "source": [
        "## Scores for prediction using cross validation"
      ],
      "metadata": {
        "id": "yhF2RnMPyeY_"
      }
    },
    {
      "cell_type": "code",
      "execution_count": null,
      "metadata": {
        "colab": {
          "base_uri": "https://localhost:8080/"
        },
        "id": "yNl_szhxX7V1",
        "outputId": "1e2d7d60-366b-4e7a-9241-fe67cc53ca12"
      },
      "outputs": [
        {
          "output_type": "stream",
          "name": "stdout",
          "text": [
            "Accuracy: [0.76426941 0.80507991 0.90553653 0.89383562 0.8966895  0.90182648\n",
            " 0.89240868 0.89212329 0.81535388 0.71489726]\n",
            "\n",
            "Precision: [0.76426941 0.80507991 0.90553653 0.89383562 0.8966895  0.90182648\n",
            " 0.89240868 0.89212329 0.81535388 0.71489726]\n",
            "\n",
            "Recall: [0.76426941 0.80507991 0.90553653 0.89383562 0.8966895  0.90182648\n",
            " 0.89240868 0.89212329 0.81535388 0.71489726]\n",
            "\n",
            "F1_score: [0.76426941 0.80507991 0.90553653 0.89383562 0.8966895  0.90182648\n",
            " 0.89240868 0.89212329 0.81535388 0.71489726]\n"
          ]
        }
      ],
      "source": [
        "\n",
        "k = KNeighborsClassifier()\n",
        "scores_accuracy = cross_val_score(k, x, y, cv=10, scoring=\"accuracy\")\n",
        "print(\"Accuracy:\", scores_accuracy)\n",
        "scores_precision = cross_val_score(k, x, y, cv=10, scoring=\"precision_micro\" )\n",
        "print(\"\\nPrecision:\", scores_precision)\n",
        "scores_recall = cross_val_score(k, x, y, cv=10, scoring=\"recall_micro\")\n",
        "print(\"\\nRecall:\",scores_recall)\n",
        "scores_f1 = cross_val_score(k, x, y, cv=10, scoring=\"f1_micro\")\n",
        "print(\"\\nF1_score:\",scores_f1)\n",
        "\n",
        "\n"
      ]
    },
    {
      "cell_type": "code",
      "execution_count": null,
      "metadata": {
        "colab": {
          "base_uri": "https://localhost:8080/"
        },
        "id": "jWdJ1XptsewS",
        "outputId": "507d6fd7-09e1-455c-85d3-22e1800d3f0d"
      },
      "outputs": [
        {
          "output_type": "stream",
          "name": "stdout",
          "text": [
            "Accuracy: 0.8482020547945206\n",
            "Precision: 0.8482020547945206\n",
            "Recall: 0.8482020547945206\n",
            "F1_score: 0.8482020547945206\n"
          ]
        }
      ],
      "source": [
        "print(\"Accuracy:\",scores_accuracy.mean())\n",
        "print(\"Precision:\",scores_precision.mean())\n",
        "print(\"Recall:\",scores_recall.mean() )\n",
        "print(\"F1_score:\", scores_f1.mean())"
      ]
    },
    {
      "cell_type": "markdown",
      "source": [
        "## Confusion matrix and plot"
      ],
      "metadata": {
        "id": "r-wx2Ohny1sR"
      }
    },
    {
      "cell_type": "code",
      "execution_count": null,
      "metadata": {
        "colab": {
          "base_uri": "https://localhost:8080/"
        },
        "id": "mOuYaNqUDtH9",
        "outputId": "5d13de3f-aa4b-499b-be14-42e6bb756dbb"
      },
      "outputs": [
        {
          "output_type": "stream",
          "name": "stdout",
          "text": [
            "Knn\n",
            "[[5196    3  226]\n",
            " [  53 1739  368]\n",
            " [ 193  483 2251]]\n"
          ]
        }
      ],
      "source": [
        "print(\"Knn\")\n",
        "print(confusion_matrix(y_test, y_pred_knn))"
      ]
    },
    {
      "cell_type": "code",
      "execution_count": null,
      "metadata": {
        "colab": {
          "base_uri": "https://localhost:8080/",
          "height": 350
        },
        "id": "h8hkFxwvEYdb",
        "outputId": "020b7393-ce7d-4e3d-a150-749ba9ad7649"
      },
      "outputs": [
        {
          "output_type": "display_data",
          "data": {
            "text/plain": [
              "<Figure size 504x360 with 2 Axes>"
            ],
            "image/png": "[encoded data removed]"
          },
          "metadata": {
            "needs_background": "light"
          }
        }
      ],
      "source": [
        "c_matrix = confusion_matrix(y_test, y_pred_knn)\n",
        "\n",
        "sns.heatmap(c_matrix, annot=True, fmt='d')\n",
        "plt.title(\"Confusion matrix for knn\")\n",
        "plt.xlabel('Predicted')\n",
        "plt.ylabel('Actual')\n",
        "plt.show()"
      ]
    },
    {
      "cell_type": "markdown",
      "source": [
        "No.of true values greater than number of false values"
      ],
      "metadata": {
        "id": "lW18Dke22gRB"
      }
    },
    {
      "cell_type": "code",
      "source": [
        "from sklearn.metrics import mean_absolute_error, mean_squared_error\n",
        "print(mean_absolute_error(y_test, y_pred_knn))\n",
        "print(mean_squared_error(y_test, y_pred_knn))\n",
        "print(mean_squared_error(y_test, y_pred_knn, squared=False))\n",
        "\n",
        "\n"
      ],
      "metadata": {
        "colab": {
          "base_uri": "https://localhost:8080/",
          "height": 380
        },
        "id": "h7yX1rmH-9YX",
        "outputId": "bad1c9ec-0c8b-425b-91fb-4f35f65453fc"
      },
      "execution_count": null,
      "outputs": [
        {
          "output_type": "error",
          "ename": "ValueError",
          "evalue": "ignored",
          "traceback": [
            "\u001b[0;31m---------------------------------------------------------------------------\u001b[0m",
            "\u001b[0;31mValueError\u001b[0m                                Traceback (most recent call last)",
            "\u001b[0;32m<ipython-input-89-c436a7c6fc67>\u001b[0m in \u001b[0;36m<module>\u001b[0;34m\u001b[0m\n\u001b[1;32m      1\u001b[0m \u001b[0;32mfrom\u001b[0m \u001b[0msklearn\u001b[0m\u001b[0;34m.\u001b[0m\u001b[0mmetrics\u001b[0m \u001b[0;32mimport\u001b[0m \u001b[0mmean_absolute_error\u001b[0m\u001b[0;34m,\u001b[0m \u001b[0mmean_squared_error\u001b[0m\u001b[0;34m\u001b[0m\u001b[0;34m\u001b[0m\u001b[0m\n\u001b[0;32m----> 2\u001b[0;31m \u001b[0mprint\u001b[0m\u001b[0;34m(\u001b[0m\u001b[0mmean_absolute_error\u001b[0m\u001b[0;34m(\u001b[0m\u001b[0my_test\u001b[0m\u001b[0;34m,\u001b[0m \u001b[0my_pred_knn\u001b[0m\u001b[0;34m)\u001b[0m\u001b[0;34m)\u001b[0m\u001b[0;34m\u001b[0m\u001b[0;34m\u001b[0m\u001b[0m\n\u001b[0m\u001b[1;32m      3\u001b[0m \u001b[0mprint\u001b[0m\u001b[0;34m(\u001b[0m\u001b[0mmean_squared_error\u001b[0m\u001b[0;34m(\u001b[0m\u001b[0my_test\u001b[0m\u001b[0;34m,\u001b[0m \u001b[0my_pred_knn\u001b[0m\u001b[0;34m)\u001b[0m\u001b[0;34m)\u001b[0m\u001b[0;34m\u001b[0m\u001b[0;34m\u001b[0m\u001b[0m\n\u001b[1;32m      4\u001b[0m \u001b[0mprint\u001b[0m\u001b[0;34m(\u001b[0m\u001b[0mmean_squared_error\u001b[0m\u001b[0;34m(\u001b[0m\u001b[0my_test\u001b[0m\u001b[0;34m,\u001b[0m \u001b[0my_pred_knn\u001b[0m\u001b[0;34m,\u001b[0m \u001b[0msquared\u001b[0m\u001b[0;34m=\u001b[0m\u001b[0;32mFalse\u001b[0m\u001b[0;34m)\u001b[0m\u001b[0;34m)\u001b[0m\u001b[0;34m\u001b[0m\u001b[0;34m\u001b[0m\u001b[0m\n\u001b[1;32m      5\u001b[0m \u001b[0;34m\u001b[0m\u001b[0m\n",
            "\u001b[0;32m/usr/local/lib/python3.8/dist-packages/sklearn/metrics/_regression.py\u001b[0m in \u001b[0;36mmean_absolute_error\u001b[0;34m(y_true, y_pred, sample_weight, multioutput)\u001b[0m\n\u001b[1;32m    189\u001b[0m     \u001b[0;36m0.85\u001b[0m\u001b[0;34m...\u001b[0m\u001b[0;34m\u001b[0m\u001b[0;34m\u001b[0m\u001b[0m\n\u001b[1;32m    190\u001b[0m     \"\"\"\n\u001b[0;32m--> 191\u001b[0;31m     y_type, y_true, y_pred, multioutput = _check_reg_targets(\n\u001b[0m\u001b[1;32m    192\u001b[0m         \u001b[0my_true\u001b[0m\u001b[0;34m,\u001b[0m \u001b[0my_pred\u001b[0m\u001b[0;34m,\u001b[0m \u001b[0mmultioutput\u001b[0m\u001b[0;34m\u001b[0m\u001b[0;34m\u001b[0m\u001b[0m\n\u001b[1;32m    193\u001b[0m     )\n",
            "\u001b[0;32m/usr/local/lib/python3.8/dist-packages/sklearn/metrics/_regression.py\u001b[0m in \u001b[0;36m_check_reg_targets\u001b[0;34m(y_true, y_pred, multioutput, dtype)\u001b[0m\n\u001b[1;32m     93\u001b[0m     \"\"\"\n\u001b[1;32m     94\u001b[0m     \u001b[0mcheck_consistent_length\u001b[0m\u001b[0;34m(\u001b[0m\u001b[0my_true\u001b[0m\u001b[0;34m,\u001b[0m \u001b[0my_pred\u001b[0m\u001b[0;34m)\u001b[0m\u001b[0;34m\u001b[0m\u001b[0;34m\u001b[0m\u001b[0m\n\u001b[0;32m---> 95\u001b[0;31m     \u001b[0my_true\u001b[0m \u001b[0;34m=\u001b[0m \u001b[0mcheck_array\u001b[0m\u001b[0;34m(\u001b[0m\u001b[0my_true\u001b[0m\u001b[0;34m,\u001b[0m \u001b[0mensure_2d\u001b[0m\u001b[0;34m=\u001b[0m\u001b[0;32mFalse\u001b[0m\u001b[0;34m,\u001b[0m \u001b[0mdtype\u001b[0m\u001b[0;34m=\u001b[0m\u001b[0mdtype\u001b[0m\u001b[0;34m)\u001b[0m\u001b[0;34m\u001b[0m\u001b[0;34m\u001b[0m\u001b[0m\n\u001b[0m\u001b[1;32m     96\u001b[0m     \u001b[0my_pred\u001b[0m \u001b[0;34m=\u001b[0m \u001b[0mcheck_array\u001b[0m\u001b[0;34m(\u001b[0m\u001b[0my_pred\u001b[0m\u001b[0;34m,\u001b[0m \u001b[0mensure_2d\u001b[0m\u001b[0;34m=\u001b[0m\u001b[0;32mFalse\u001b[0m\u001b[0;34m,\u001b[0m \u001b[0mdtype\u001b[0m\u001b[0;34m=\u001b[0m\u001b[0mdtype\u001b[0m\u001b[0;34m)\u001b[0m\u001b[0;34m\u001b[0m\u001b[0;34m\u001b[0m\u001b[0m\n\u001b[1;32m     97\u001b[0m \u001b[0;34m\u001b[0m\u001b[0m\n",
            "\u001b[0;32m/usr/local/lib/python3.8/dist-packages/sklearn/utils/validation.py\u001b[0m in \u001b[0;36mcheck_array\u001b[0;34m(array, accept_sparse, accept_large_sparse, dtype, order, copy, force_all_finite, ensure_2d, allow_nd, ensure_min_samples, ensure_min_features, estimator)\u001b[0m\n\u001b[1;32m    744\u001b[0m                     \u001b[0marray\u001b[0m \u001b[0;34m=\u001b[0m \u001b[0marray\u001b[0m\u001b[0;34m.\u001b[0m\u001b[0mastype\u001b[0m\u001b[0;34m(\u001b[0m\u001b[0mdtype\u001b[0m\u001b[0;34m,\u001b[0m \u001b[0mcasting\u001b[0m\u001b[0;34m=\u001b[0m\u001b[0;34m\"unsafe\"\u001b[0m\u001b[0;34m,\u001b[0m \u001b[0mcopy\u001b[0m\u001b[0;34m=\u001b[0m\u001b[0;32mFalse\u001b[0m\u001b[0;34m)\u001b[0m\u001b[0;34m\u001b[0m\u001b[0;34m\u001b[0m\u001b[0m\n\u001b[1;32m    745\u001b[0m                 \u001b[0;32melse\u001b[0m\u001b[0;34m:\u001b[0m\u001b[0;34m\u001b[0m\u001b[0;34m\u001b[0m\u001b[0m\n\u001b[0;32m--> 746\u001b[0;31m                     \u001b[0marray\u001b[0m \u001b[0;34m=\u001b[0m \u001b[0mnp\u001b[0m\u001b[0;34m.\u001b[0m\u001b[0masarray\u001b[0m\u001b[0;34m(\u001b[0m\u001b[0marray\u001b[0m\u001b[0;34m,\u001b[0m \u001b[0morder\u001b[0m\u001b[0;34m=\u001b[0m\u001b[0morder\u001b[0m\u001b[0;34m,\u001b[0m \u001b[0mdtype\u001b[0m\u001b[0;34m=\u001b[0m\u001b[0mdtype\u001b[0m\u001b[0;34m)\u001b[0m\u001b[0;34m\u001b[0m\u001b[0;34m\u001b[0m\u001b[0m\n\u001b[0m\u001b[1;32m    747\u001b[0m             \u001b[0;32mexcept\u001b[0m \u001b[0mComplexWarning\u001b[0m \u001b[0;32mas\u001b[0m \u001b[0mcomplex_warning\u001b[0m\u001b[0;34m:\u001b[0m\u001b[0;34m\u001b[0m\u001b[0;34m\u001b[0m\u001b[0m\n\u001b[1;32m    748\u001b[0m                 raise ValueError(\n",
            "\u001b[0;32m/usr/local/lib/python3.8/dist-packages/pandas/core/series.py\u001b[0m in \u001b[0;36m__array__\u001b[0;34m(self, dtype)\u001b[0m\n\u001b[1;32m    855\u001b[0m               dtype='datetime64[ns]')\n\u001b[1;32m    856\u001b[0m         \"\"\"\n\u001b[0;32m--> 857\u001b[0;31m         \u001b[0;32mreturn\u001b[0m \u001b[0mnp\u001b[0m\u001b[0;34m.\u001b[0m\u001b[0masarray\u001b[0m\u001b[0;34m(\u001b[0m\u001b[0mself\u001b[0m\u001b[0;34m.\u001b[0m\u001b[0m_values\u001b[0m\u001b[0;34m,\u001b[0m \u001b[0mdtype\u001b[0m\u001b[0;34m)\u001b[0m\u001b[0;34m\u001b[0m\u001b[0;34m\u001b[0m\u001b[0m\n\u001b[0m\u001b[1;32m    858\u001b[0m \u001b[0;34m\u001b[0m\u001b[0m\n\u001b[1;32m    859\u001b[0m     \u001b[0;31m# ----------------------------------------------------------------------\u001b[0m\u001b[0;34m\u001b[0m\u001b[0;34m\u001b[0m\u001b[0;34m\u001b[0m\u001b[0m\n",
            "\u001b[0;31mValueError\u001b[0m: could not convert string to float: 'Maximum_Load'"
          ]
        }
      ]
    },
    {
      "cell_type": "markdown",
      "metadata": {
        "id": "Z-JVDj8W4Ifc"
      },
      "source": [
        "### Decision Tree"
      ]
    },
    {
      "cell_type": "markdown",
      "source": [
        "## Prediction using Train test split"
      ],
      "metadata": {
        "id": "0kiu-HFfzE-1"
      }
    },
    {
      "cell_type": "code",
      "execution_count": null,
      "metadata": {
        "id": "erVBkT6x4XM4"
      },
      "outputs": [],
      "source": [
        "\n",
        "x = df_knn[[\"Usage_kWh\", \"NSM\"]]\n",
        "y = df_knn[\"Load_Type\"]\n",
        "x_train, x_test, y_train, y_test=train_test_split(x,y, test_size=0.30, random_state=0) #random state 0\n",
        "\n",
        "\n",
        "dc = tree.DecisionTreeClassifier()\n",
        "x_train = x_train[:500]\n",
        "y_train = y_train[:500]\n",
        "x_test = x_test[:50]\n",
        "y_test = y_test[:50]\n",
        "\n",
        "destree = dc.fit(x_train,y_train)\n",
        "y_pred_dt = dc.predict(x_test)\n",
        "y_pred_dt\n"
      ]
    },
    {
      "cell_type": "markdown",
      "source": [
        "## Decision tree plot"
      ],
      "metadata": {
        "id": "2FTrsVjNzxHs"
      }
    },
    {
      "cell_type": "code",
      "execution_count": null,
      "metadata": {
        "id": "A_B1mwgQ43KX"
      },
      "outputs": [],
      "source": [
        "fig = plt.figure(figsize=(100,75))\n",
        "tree.plot_tree(destree, filled=True)\n",
        "plt.show()\n"
      ]
    },
    {
      "cell_type": "markdown",
      "source": [
        "## Scores for prediction using train-test split data"
      ],
      "metadata": {
        "id": "wTGO_vb7z1sY"
      }
    },
    {
      "cell_type": "code",
      "execution_count": null,
      "metadata": {
        "id": "BJYmanP8tgeE"
      },
      "outputs": [],
      "source": [
        "print(\"Accuracy of dtc:\", accuracy_score(y_test,y_pred_dt))\n",
        "print(\"Precision of dtc:\", precision_score(y_test,y_pred_dt,average='micro'))\n",
        "print(\"Recall of dtc:\", recall_score(y_test,y_pred_dt,average='micro'))\n",
        "print(\"F1_score of dtc:\", f1_score(y_test,y_pred_dt,average='micro'))"
      ]
    },
    {
      "cell_type": "markdown",
      "source": [
        "## Scores for prediction using cross validation"
      ],
      "metadata": {
        "id": "6H_QiIkkz-AZ"
      }
    },
    {
      "cell_type": "code",
      "execution_count": null,
      "metadata": {
        "id": "rltNUiHqtQyd"
      },
      "outputs": [],
      "source": [
        "dtc = DecisionTreeClassifier()\n",
        "\n",
        "scores_accuracy = cross_val_score(dtc, x, y, cv=10, scoring=\"accuracy\")\n",
        "print(\"Accuracy:\", scores_accuracy)\n",
        "scores_precision = cross_val_score(dtc, x, y, cv=10, scoring=\"precision_micro\" )\n",
        "print(\"\\nPrecision:\", scores_precision)\n",
        "scores_recall = cross_val_score(dtc, x, y, cv=10, scoring=\"recall_micro\")\n",
        "print(\"\\nRecall:\",scores_recall)\n",
        "scores_f1 = cross_val_score(dtc, x, y, cv=10, scoring=\"f1_micro\")\n",
        "print(\"\\nF1_score:\",scores_f1)\n",
        "\n",
        "\n"
      ]
    },
    {
      "cell_type": "code",
      "execution_count": null,
      "metadata": {
        "id": "XC3IyidKtZTT"
      },
      "outputs": [],
      "source": [
        "print(\"Accuracy:\",scores_accuracy.mean())\n",
        "print(\"Precision:\",scores_precision.mean())\n",
        "print(\"Recall:\",scores_recall.mean() )\n",
        "print(\"F1_score:\", scores_f1.mean())"
      ]
    },
    {
      "cell_type": "markdown",
      "source": [
        "## Confusion Matrix"
      ],
      "metadata": {
        "id": "kYS_uUat0DYN"
      }
    },
    {
      "cell_type": "code",
      "execution_count": null,
      "metadata": {
        "id": "rM-1NV7DEJJJ"
      },
      "outputs": [],
      "source": [
        "print(\"DTC\")\n",
        "print(confusion_matrix(y_test, y_pred_dt))"
      ]
    },
    {
      "cell_type": "code",
      "execution_count": null,
      "metadata": {
        "id": "yhW-i5UNFBHe"
      },
      "outputs": [],
      "source": [
        "c_matrix = confusion_matrix(y_test, y_pred_dt)\n",
        "\n",
        "sns.heatmap(c_matrix, annot=True, fmt='d')\n",
        "plt.title(\"Confusion matrix for DTC\")\n",
        "plt.xlabel('Predicted')\n",
        "plt.ylabel('Actual')\n",
        "plt.show()"
      ]
    },
    {
      "cell_type": "markdown",
      "source": [
        "No.of true values greater than number of false values"
      ],
      "metadata": {
        "id": "NKpX0FOv2m7x"
      }
    },
    {
      "cell_type": "code",
      "source": [
        "from sklearn.metrics import mean_absolute_error, mean_squared_error\n",
        "print(mae(y_test, y_pred_dt))\n",
        "print(mse(y_test, y_pred_dt))\n",
        "print(mae(y_test, y_pred_dt, squared=False))\n",
        "\n",
        "\n"
      ],
      "metadata": {
        "id": "L5e2J88U_Doq"
      },
      "execution_count": null,
      "outputs": []
    }
  ],
  "metadata": {
    "colab": {
      "provenance": []
    },
    "kernelspec": {
      "display_name": "Python 3",
      "name": "python3"
    },
    "language_info": {
      "name": "python"
    }
  },
  "nbformat": 4,
  "nbformat_minor": 0
}